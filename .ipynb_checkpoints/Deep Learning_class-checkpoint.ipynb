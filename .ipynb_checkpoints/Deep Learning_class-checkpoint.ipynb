{
 "cells": [
  {
   "cell_type": "code",
   "execution_count": 1,
   "metadata": {},
   "outputs": [
    {
     "data": {
      "text/plain": [
       "(10000, 14)"
      ]
     },
     "execution_count": 1,
     "metadata": {},
     "output_type": "execute_result"
    }
   ],
   "source": [
    "#Importing the libraries\n",
    "import numpy as np\n",
    "import matplotlib.pyplot as plt\n",
    "import pandas as pd\n",
    "np.random.seed(1337)\n",
    "\n",
    "# Importing the dataset\n",
    "Churn_data = pd.read_csv('C:\\\\Users\\\\cmh4kor\\\\Desktop\\\\Deep Learning\\\\Batch2\\\\Churn_data.csv')\n",
    "Churn_data.head()\n",
    "Churn_data.shape"
   ]
  },
  {
   "cell_type": "code",
   "execution_count": 2,
   "metadata": {},
   "outputs": [],
   "source": [
    "Churn_data['France']= np.where(Churn_data.Geography == 'France',1,0)\n",
    "Churn_data['Spain']= np.where(Churn_data.Geography == 'Spain',1,0)\n",
    "Churn_data['Germany']= np.where(Churn_data.Geography == 'Germany',1,0)\n",
    "\n",
    "Churn_data['Female']= np.where(Churn_data.Gender == 'Female',1,0)\n",
    "Churn_data['Male']= np.where(Churn_data.Gender == 'Male',1,0)"
   ]
  },
  {
   "cell_type": "code",
   "execution_count": 3,
   "metadata": {},
   "outputs": [],
   "source": [
    "Y = Churn_data['Exited']\n",
    "X = Churn_data.drop(['Exited'], axis=1)"
   ]
  },
  {
   "cell_type": "code",
   "execution_count": 4,
   "metadata": {},
   "outputs": [],
   "source": [
    "from sklearn.model_selection import train_test_split\n",
    "X_train, X_test, y_train, y_test = train_test_split(X, Y, test_size = 0.3, random_state=67)"
   ]
  },
  {
   "cell_type": "code",
   "execution_count": 5,
   "metadata": {},
   "outputs": [
    {
     "data": {
      "text/plain": [
       "((7000, 18), (3000, 18))"
      ]
     },
     "execution_count": 5,
     "metadata": {},
     "output_type": "execute_result"
    }
   ],
   "source": [
    "X_train.shape, X_test.shape"
   ]
  },
  {
   "cell_type": "code",
   "execution_count": 6,
   "metadata": {},
   "outputs": [
    {
     "data": {
      "text/html": [
       "<div>\n",
       "<style scoped>\n",
       "    .dataframe tbody tr th:only-of-type {\n",
       "        vertical-align: middle;\n",
       "    }\n",
       "\n",
       "    .dataframe tbody tr th {\n",
       "        vertical-align: top;\n",
       "    }\n",
       "\n",
       "    .dataframe thead th {\n",
       "        text-align: right;\n",
       "    }\n",
       "</style>\n",
       "<table border=\"1\" class=\"dataframe\">\n",
       "  <thead>\n",
       "    <tr style=\"text-align: right;\">\n",
       "      <th></th>\n",
       "      <th>RowNumber</th>\n",
       "      <th>CustomerId</th>\n",
       "      <th>Surname</th>\n",
       "      <th>CreditScore</th>\n",
       "      <th>Geography</th>\n",
       "      <th>Gender</th>\n",
       "      <th>Age</th>\n",
       "      <th>Tenure</th>\n",
       "      <th>Balance</th>\n",
       "      <th>NumOfProducts</th>\n",
       "      <th>HasCrCard</th>\n",
       "      <th>IsActiveMember</th>\n",
       "      <th>EstimatedSalary</th>\n",
       "      <th>France</th>\n",
       "      <th>Spain</th>\n",
       "      <th>Germany</th>\n",
       "      <th>Female</th>\n",
       "      <th>Male</th>\n",
       "    </tr>\n",
       "  </thead>\n",
       "  <tbody>\n",
       "    <tr>\n",
       "      <th>1631</th>\n",
       "      <td>1632</td>\n",
       "      <td>15685372</td>\n",
       "      <td>Azubuike</td>\n",
       "      <td>350</td>\n",
       "      <td>Spain</td>\n",
       "      <td>Male</td>\n",
       "      <td>54</td>\n",
       "      <td>1</td>\n",
       "      <td>152677.48</td>\n",
       "      <td>1</td>\n",
       "      <td>1</td>\n",
       "      <td>1</td>\n",
       "      <td>191973.49</td>\n",
       "      <td>0</td>\n",
       "      <td>1</td>\n",
       "      <td>0</td>\n",
       "      <td>0</td>\n",
       "      <td>1</td>\n",
       "    </tr>\n",
       "    <tr>\n",
       "      <th>7501</th>\n",
       "      <td>7502</td>\n",
       "      <td>15605341</td>\n",
       "      <td>Baird</td>\n",
       "      <td>681</td>\n",
       "      <td>France</td>\n",
       "      <td>Female</td>\n",
       "      <td>58</td>\n",
       "      <td>8</td>\n",
       "      <td>93173.88</td>\n",
       "      <td>1</td>\n",
       "      <td>1</td>\n",
       "      <td>1</td>\n",
       "      <td>139761.25</td>\n",
       "      <td>1</td>\n",
       "      <td>0</td>\n",
       "      <td>0</td>\n",
       "      <td>1</td>\n",
       "      <td>0</td>\n",
       "    </tr>\n",
       "    <tr>\n",
       "      <th>203</th>\n",
       "      <td>204</td>\n",
       "      <td>15727868</td>\n",
       "      <td>Onuora</td>\n",
       "      <td>711</td>\n",
       "      <td>France</td>\n",
       "      <td>Female</td>\n",
       "      <td>38</td>\n",
       "      <td>2</td>\n",
       "      <td>129022.06</td>\n",
       "      <td>2</td>\n",
       "      <td>1</td>\n",
       "      <td>1</td>\n",
       "      <td>14374.86</td>\n",
       "      <td>1</td>\n",
       "      <td>0</td>\n",
       "      <td>0</td>\n",
       "      <td>1</td>\n",
       "      <td>0</td>\n",
       "    </tr>\n",
       "    <tr>\n",
       "      <th>8260</th>\n",
       "      <td>8261</td>\n",
       "      <td>15627830</td>\n",
       "      <td>Nikitina</td>\n",
       "      <td>640</td>\n",
       "      <td>Germany</td>\n",
       "      <td>Female</td>\n",
       "      <td>30</td>\n",
       "      <td>5</td>\n",
       "      <td>32197.64</td>\n",
       "      <td>1</td>\n",
       "      <td>0</td>\n",
       "      <td>1</td>\n",
       "      <td>141446.01</td>\n",
       "      <td>0</td>\n",
       "      <td>0</td>\n",
       "      <td>1</td>\n",
       "      <td>1</td>\n",
       "      <td>0</td>\n",
       "    </tr>\n",
       "    <tr>\n",
       "      <th>4499</th>\n",
       "      <td>4500</td>\n",
       "      <td>15773322</td>\n",
       "      <td>Obiajulu</td>\n",
       "      <td>536</td>\n",
       "      <td>Germany</td>\n",
       "      <td>Female</td>\n",
       "      <td>44</td>\n",
       "      <td>4</td>\n",
       "      <td>121898.82</td>\n",
       "      <td>1</td>\n",
       "      <td>0</td>\n",
       "      <td>0</td>\n",
       "      <td>131007.18</td>\n",
       "      <td>0</td>\n",
       "      <td>0</td>\n",
       "      <td>1</td>\n",
       "      <td>1</td>\n",
       "      <td>0</td>\n",
       "    </tr>\n",
       "  </tbody>\n",
       "</table>\n",
       "</div>"
      ],
      "text/plain": [
       "      RowNumber  CustomerId   Surname  CreditScore Geography  Gender  Age  \\\n",
       "1631       1632    15685372  Azubuike          350     Spain    Male   54   \n",
       "7501       7502    15605341     Baird          681    France  Female   58   \n",
       "203         204    15727868    Onuora          711    France  Female   38   \n",
       "8260       8261    15627830  Nikitina          640   Germany  Female   30   \n",
       "4499       4500    15773322  Obiajulu          536   Germany  Female   44   \n",
       "\n",
       "      Tenure    Balance  NumOfProducts  HasCrCard  IsActiveMember  \\\n",
       "1631       1  152677.48              1          1               1   \n",
       "7501       8   93173.88              1          1               1   \n",
       "203        2  129022.06              2          1               1   \n",
       "8260       5   32197.64              1          0               1   \n",
       "4499       4  121898.82              1          0               0   \n",
       "\n",
       "      EstimatedSalary  France  Spain  Germany  Female  Male  \n",
       "1631        191973.49       0      1        0       0     1  \n",
       "7501        139761.25       1      0        0       1     0  \n",
       "203          14374.86       1      0        0       1     0  \n",
       "8260        141446.01       0      0        1       1     0  \n",
       "4499        131007.18       0      0        1       1     0  "
      ]
     },
     "execution_count": 6,
     "metadata": {},
     "output_type": "execute_result"
    }
   ],
   "source": [
    "X_train.head()"
   ]
  },
  {
   "cell_type": "code",
   "execution_count": 7,
   "metadata": {},
   "outputs": [],
   "source": [
    "X_train1 = X_train.drop(['RowNumber', 'CustomerId', 'Surname','Geography', 'Gender'], axis=1)\n",
    "X_test1 = X_test.drop(['RowNumber', 'CustomerId', 'Surname','Geography', 'Gender'], axis=1)"
   ]
  },
  {
   "cell_type": "code",
   "execution_count": 8,
   "metadata": {},
   "outputs": [
    {
     "data": {
      "text/html": [
       "<div>\n",
       "<style scoped>\n",
       "    .dataframe tbody tr th:only-of-type {\n",
       "        vertical-align: middle;\n",
       "    }\n",
       "\n",
       "    .dataframe tbody tr th {\n",
       "        vertical-align: top;\n",
       "    }\n",
       "\n",
       "    .dataframe thead th {\n",
       "        text-align: right;\n",
       "    }\n",
       "</style>\n",
       "<table border=\"1\" class=\"dataframe\">\n",
       "  <thead>\n",
       "    <tr style=\"text-align: right;\">\n",
       "      <th></th>\n",
       "      <th>CreditScore</th>\n",
       "      <th>Age</th>\n",
       "      <th>Tenure</th>\n",
       "      <th>Balance</th>\n",
       "      <th>NumOfProducts</th>\n",
       "      <th>HasCrCard</th>\n",
       "      <th>IsActiveMember</th>\n",
       "      <th>EstimatedSalary</th>\n",
       "      <th>France</th>\n",
       "      <th>Spain</th>\n",
       "      <th>Germany</th>\n",
       "      <th>Female</th>\n",
       "      <th>Male</th>\n",
       "    </tr>\n",
       "  </thead>\n",
       "  <tbody>\n",
       "    <tr>\n",
       "      <th>1631</th>\n",
       "      <td>350</td>\n",
       "      <td>54</td>\n",
       "      <td>1</td>\n",
       "      <td>152677.48</td>\n",
       "      <td>1</td>\n",
       "      <td>1</td>\n",
       "      <td>1</td>\n",
       "      <td>191973.49</td>\n",
       "      <td>0</td>\n",
       "      <td>1</td>\n",
       "      <td>0</td>\n",
       "      <td>0</td>\n",
       "      <td>1</td>\n",
       "    </tr>\n",
       "    <tr>\n",
       "      <th>7501</th>\n",
       "      <td>681</td>\n",
       "      <td>58</td>\n",
       "      <td>8</td>\n",
       "      <td>93173.88</td>\n",
       "      <td>1</td>\n",
       "      <td>1</td>\n",
       "      <td>1</td>\n",
       "      <td>139761.25</td>\n",
       "      <td>1</td>\n",
       "      <td>0</td>\n",
       "      <td>0</td>\n",
       "      <td>1</td>\n",
       "      <td>0</td>\n",
       "    </tr>\n",
       "    <tr>\n",
       "      <th>203</th>\n",
       "      <td>711</td>\n",
       "      <td>38</td>\n",
       "      <td>2</td>\n",
       "      <td>129022.06</td>\n",
       "      <td>2</td>\n",
       "      <td>1</td>\n",
       "      <td>1</td>\n",
       "      <td>14374.86</td>\n",
       "      <td>1</td>\n",
       "      <td>0</td>\n",
       "      <td>0</td>\n",
       "      <td>1</td>\n",
       "      <td>0</td>\n",
       "    </tr>\n",
       "    <tr>\n",
       "      <th>8260</th>\n",
       "      <td>640</td>\n",
       "      <td>30</td>\n",
       "      <td>5</td>\n",
       "      <td>32197.64</td>\n",
       "      <td>1</td>\n",
       "      <td>0</td>\n",
       "      <td>1</td>\n",
       "      <td>141446.01</td>\n",
       "      <td>0</td>\n",
       "      <td>0</td>\n",
       "      <td>1</td>\n",
       "      <td>1</td>\n",
       "      <td>0</td>\n",
       "    </tr>\n",
       "    <tr>\n",
       "      <th>4499</th>\n",
       "      <td>536</td>\n",
       "      <td>44</td>\n",
       "      <td>4</td>\n",
       "      <td>121898.82</td>\n",
       "      <td>1</td>\n",
       "      <td>0</td>\n",
       "      <td>0</td>\n",
       "      <td>131007.18</td>\n",
       "      <td>0</td>\n",
       "      <td>0</td>\n",
       "      <td>1</td>\n",
       "      <td>1</td>\n",
       "      <td>0</td>\n",
       "    </tr>\n",
       "  </tbody>\n",
       "</table>\n",
       "</div>"
      ],
      "text/plain": [
       "      CreditScore  Age  Tenure    Balance  NumOfProducts  HasCrCard  \\\n",
       "1631          350   54       1  152677.48              1          1   \n",
       "7501          681   58       8   93173.88              1          1   \n",
       "203           711   38       2  129022.06              2          1   \n",
       "8260          640   30       5   32197.64              1          0   \n",
       "4499          536   44       4  121898.82              1          0   \n",
       "\n",
       "      IsActiveMember  EstimatedSalary  France  Spain  Germany  Female  Male  \n",
       "1631               1        191973.49       0      1        0       0     1  \n",
       "7501               1        139761.25       1      0        0       1     0  \n",
       "203                1         14374.86       1      0        0       1     0  \n",
       "8260               1        141446.01       0      0        1       1     0  \n",
       "4499               0        131007.18       0      0        1       1     0  "
      ]
     },
     "execution_count": 8,
     "metadata": {},
     "output_type": "execute_result"
    }
   ],
   "source": [
    "X_train1.head()"
   ]
  },
  {
   "cell_type": "code",
   "execution_count": 9,
   "metadata": {},
   "outputs": [
    {
     "data": {
      "text/plain": [
       "Index(['CreditScore', 'Age', 'Tenure', 'Balance', 'NumOfProducts', 'HasCrCard',\n",
       "       'IsActiveMember', 'EstimatedSalary', 'France', 'Spain', 'Germany',\n",
       "       'Female', 'Male'],\n",
       "      dtype='object')"
      ]
     },
     "execution_count": 9,
     "metadata": {},
     "output_type": "execute_result"
    }
   ],
   "source": [
    "X_train1.columns"
   ]
  },
  {
   "cell_type": "code",
   "execution_count": 10,
   "metadata": {},
   "outputs": [],
   "source": [
    "from sklearn.preprocessing import StandardScaler\n",
    "sc = StandardScaler()\n",
    "X_train2 = sc.fit_transform(X_train1)\n",
    "X_test2 = sc.transform(X_test1)"
   ]
  },
  {
   "cell_type": "code",
   "execution_count": 11,
   "metadata": {},
   "outputs": [
    {
     "name": "stderr",
     "output_type": "stream",
     "text": [
      "C:\\Program Files\\Anaconda3\\lib\\site-packages\\h5py\\__init__.py:36: FutureWarning: Conversion of the second argument of issubdtype from `float` to `np.floating` is deprecated. In future, it will be treated as `np.float64 == np.dtype(float).type`.\n",
      "  from ._conv import register_converters as _register_converters\n",
      "Using TensorFlow backend.\n"
     ]
    }
   ],
   "source": [
    "# Importing the Keras libraries and packages\n",
    "import keras\n",
    "from keras.models import Sequential\n",
    "from keras.layers import Dense\n"
   ]
  },
  {
   "cell_type": "code",
   "execution_count": 12,
   "metadata": {},
   "outputs": [],
   "source": [
    "#Initializing Neural Network\n",
    "classifier = Sequential()"
   ]
  },
  {
   "cell_type": "code",
   "execution_count": null,
   "metadata": {},
   "outputs": [],
   "source": [
    "from ipykernel import kernelapp as app\n",
    "# Adding the input layer and the first hidden layer\n",
    "classifier.add(Dense(units = 6, kernel_initializer = 'uniform', activation = 'relu', input_dim = 13))\n",
    "\n",
    "# Adding the second hidden layer\n",
    "classifier.add(Dense(units = 5, kernel_initializer = 'uniform', activation = 'relu'))\n",
    "\n",
    "# Adding the third hidden layer\n",
    "#classifier.add(Dense(units = 5, kernel_initializer = 'uniform', activation = 'relu'))\n",
    "\n",
    "# Adding the output layer\n",
    "classifier.add(Dense(units = 1, kernel_initializer = 'uniform', activation = 'sigmoid'))"
   ]
  },
  {
   "cell_type": "code",
   "execution_count": 13,
   "metadata": {},
   "outputs": [
    {
     "name": "stdout",
     "output_type": "stream",
     "text": [
      "WARNING:tensorflow:From C:\\Users\\cmh4kor\\AppData\\Roaming\\Python\\Python36\\site-packages\\tensorflow\\python\\framework\\op_def_library.py:263: colocate_with (from tensorflow.python.framework.ops) is deprecated and will be removed in a future version.\n",
      "Instructions for updating:\n",
      "Colocations handled automatically by placer.\n"
     ]
    },
    {
     "name": "stderr",
     "output_type": "stream",
     "text": [
      "C:\\Program Files\\Anaconda3\\lib\\site-packages\\ipykernel_launcher.py:2: UserWarning: Update your `Dense` call to the Keras 2 API: `Dense(activation=\"relu\", input_dim=13, units=6, kernel_initializer=\"uniform\")`\n",
      "  \n",
      "C:\\Program Files\\Anaconda3\\lib\\site-packages\\ipykernel_launcher.py:4: UserWarning: Update your `Dense` call to the Keras 2 API: `Dense(activation=\"relu\", units=6, kernel_initializer=\"uniform\")`\n",
      "  after removing the cwd from sys.path.\n",
      "C:\\Program Files\\Anaconda3\\lib\\site-packages\\ipykernel_launcher.py:6: UserWarning: Update your `Dense` call to the Keras 2 API: `Dense(activation=\"sigmoid\", units=1, kernel_initializer=\"uniform\")`\n",
      "  \n"
     ]
    }
   ],
   "source": [
    "from ipykernel import kernelapp as app\n",
    "classifier.add(Dense(output_dim = 6, init = 'uniform', activation = 'relu', input_dim = 13))\n",
    "# Adding the second hidden layer\n",
    "classifier.add(Dense(output_dim = 6, init = 'uniform', activation = 'relu'))\n",
    "# Adding the output layer\n",
    "classifier.add(Dense(output_dim = 1, init = 'uniform', activation = 'sigmoid'))\n"
   ]
  },
  {
   "cell_type": "code",
   "execution_count": 14,
   "metadata": {},
   "outputs": [],
   "source": [
    "#adam = keras.optimizers.Adam(lr=0.001, beta_1=0.9, beta_2=0.999, epsilon=None, decay=0.0, amsgrad=False)"
   ]
  },
  {
   "cell_type": "code",
   "execution_count": 20,
   "metadata": {},
   "outputs": [],
   "source": [
    "# Compiling Neural Network\n",
    "classifier.compile(optimizer = adam, loss = 'binary_crossentropy', metrics = ['accuracy'])\n",
    "#classifier.compile(optimizer = adam, loss = 'mean_squared_error', metrics = ['accuracy'])"
   ]
  },
  {
   "cell_type": "code",
   "execution_count": 21,
   "metadata": {},
   "outputs": [
    {
     "name": "stdout",
     "output_type": "stream",
     "text": [
      "Epoch 1/100\n",
      "7000/7000 [==============================] - 2s 221us/step - loss: 0.4074 - acc: 0.8324\n",
      "Epoch 2/100\n",
      "7000/7000 [==============================] - 1s 165us/step - loss: 0.4026 - acc: 0.8343\n",
      "Epoch 3/100\n",
      "7000/7000 [==============================] - 1s 167us/step - loss: 0.4006 - acc: 0.8359\n",
      "Epoch 4/100\n",
      "7000/7000 [==============================] - 1s 167us/step - loss: 0.3996 - acc: 0.8367\n",
      "Epoch 5/100\n",
      "7000/7000 [==============================] - 1s 164us/step - loss: 0.3987 - acc: 0.8350\n",
      "Epoch 6/100\n",
      "7000/7000 [==============================] - 1s 164us/step - loss: 0.3981 - acc: 0.8366\n",
      "Epoch 7/100\n",
      "7000/7000 [==============================] - 1s 166us/step - loss: 0.3973 - acc: 0.8350\n",
      "Epoch 8/100\n",
      "7000/7000 [==============================] - 1s 166us/step - loss: 0.3967 - acc: 0.8371\n",
      "Epoch 9/100\n",
      "7000/7000 [==============================] - 1s 167us/step - loss: 0.3960 - acc: 0.8379\n",
      "Epoch 10/100\n",
      "7000/7000 [==============================] - 1s 164us/step - loss: 0.3959 - acc: 0.8356\n",
      "Epoch 11/100\n",
      "7000/7000 [==============================] - 1s 167us/step - loss: 0.3955 - acc: 0.8370\n",
      "Epoch 12/100\n",
      "7000/7000 [==============================] - 1s 168us/step - loss: 0.3953 - acc: 0.8363\n",
      "Epoch 13/100\n",
      "7000/7000 [==============================] - 1s 165us/step - loss: 0.3944 - acc: 0.8384\n",
      "Epoch 14/100\n",
      "7000/7000 [==============================] - 1s 165us/step - loss: 0.3949 - acc: 0.8374\n",
      "Epoch 15/100\n",
      "7000/7000 [==============================] - 1s 168us/step - loss: 0.3942 - acc: 0.8351\n",
      "Epoch 16/100\n",
      "7000/7000 [==============================] - 1s 172us/step - loss: 0.3944 - acc: 0.8370\n",
      "Epoch 17/100\n",
      "7000/7000 [==============================] - 1s 162us/step - loss: 0.3940 - acc: 0.8359\n",
      "Epoch 18/100\n",
      "7000/7000 [==============================] - 1s 172us/step - loss: 0.3938 - acc: 0.8370\n",
      "Epoch 19/100\n",
      "7000/7000 [==============================] - 1s 174us/step - loss: 0.3935 - acc: 0.8366\n",
      "Epoch 20/100\n",
      "7000/7000 [==============================] - 1s 174us/step - loss: 0.3931 - acc: 0.8366\n",
      "Epoch 21/100\n",
      "7000/7000 [==============================] - 1s 173us/step - loss: 0.3928 - acc: 0.8381\n",
      "Epoch 22/100\n",
      "7000/7000 [==============================] - 1s 173us/step - loss: 0.3923 - acc: 0.8341\n",
      "Epoch 23/100\n",
      "7000/7000 [==============================] - 1s 173us/step - loss: 0.3912 - acc: 0.8381\n",
      "Epoch 24/100\n",
      "7000/7000 [==============================] - 1s 174us/step - loss: 0.3899 - acc: 0.8373\n",
      "Epoch 25/100\n",
      "7000/7000 [==============================] - 1s 169us/step - loss: 0.3887 - acc: 0.8364\n",
      "Epoch 26/100\n",
      "7000/7000 [==============================] - 1s 169us/step - loss: 0.3849 - acc: 0.8407\n",
      "Epoch 27/100\n",
      "7000/7000 [==============================] - 1s 175us/step - loss: 0.3750 - acc: 0.8441\n",
      "Epoch 28/100\n",
      "7000/7000 [==============================] - 1s 174us/step - loss: 0.3612 - acc: 0.8517\n",
      "Epoch 29/100\n",
      "7000/7000 [==============================] - 1s 172us/step - loss: 0.3521 - acc: 0.8580\n",
      "Epoch 30/100\n",
      "7000/7000 [==============================] - 1s 170us/step - loss: 0.3478 - acc: 0.8610\n",
      "Epoch 31/100\n",
      "7000/7000 [==============================] - 1s 169us/step - loss: 0.3450 - acc: 0.8594\n",
      "Epoch 32/100\n",
      "7000/7000 [==============================] - 1s 167us/step - loss: 0.3432 - acc: 0.8604\n",
      "Epoch 33/100\n",
      "7000/7000 [==============================] - 1s 163us/step - loss: 0.3411 - acc: 0.8591\n",
      "Epoch 34/100\n",
      "7000/7000 [==============================] - 1s 164us/step - loss: 0.3404 - acc: 0.8610\n",
      "Epoch 35/100\n",
      "7000/7000 [==============================] - 1s 168us/step - loss: 0.3384 - acc: 0.8610\n",
      "Epoch 36/100\n",
      "7000/7000 [==============================] - 1s 167us/step - loss: 0.3377 - acc: 0.8633\n",
      "Epoch 37/100\n",
      "7000/7000 [==============================] - 1s 170us/step - loss: 0.3373 - acc: 0.8601\n",
      "Epoch 38/100\n",
      "7000/7000 [==============================] - 1s 175us/step - loss: 0.3373 - acc: 0.8627\n",
      "Epoch 39/100\n",
      "7000/7000 [==============================] - 1s 155us/step - loss: 0.3365 - acc: 0.8609\n",
      "Epoch 40/100\n",
      "7000/7000 [==============================] - 1s 173us/step - loss: 0.3369 - acc: 0.8599\n",
      "Epoch 41/100\n",
      "7000/7000 [==============================] - 1s 161us/step - loss: 0.3363 - acc: 0.8603\n",
      "Epoch 42/100\n",
      "7000/7000 [==============================] - 1s 147us/step - loss: 0.3353 - acc: 0.8623\n",
      "Epoch 43/100\n",
      "7000/7000 [==============================] - 1s 166us/step - loss: 0.3361 - acc: 0.8601\n",
      "Epoch 44/100\n",
      "7000/7000 [==============================] - 1s 165us/step - loss: 0.3350 - acc: 0.8619\n",
      "Epoch 45/100\n",
      "7000/7000 [==============================] - 1s 167us/step - loss: 0.3360 - acc: 0.8619\n",
      "Epoch 46/100\n",
      "7000/7000 [==============================] - 1s 164us/step - loss: 0.3353 - acc: 0.8621\n",
      "Epoch 47/100\n",
      "7000/7000 [==============================] - 1s 166us/step - loss: 0.3354 - acc: 0.8617\n",
      "Epoch 48/100\n",
      "7000/7000 [==============================] - 1s 169us/step - loss: 0.3352 - acc: 0.8613\n",
      "Epoch 49/100\n",
      "7000/7000 [==============================] - 1s 166us/step - loss: 0.3353 - acc: 0.8624\n",
      "Epoch 50/100\n",
      "7000/7000 [==============================] - 1s 167us/step - loss: 0.3344 - acc: 0.8626\n",
      "Epoch 51/100\n",
      "7000/7000 [==============================] - 1s 164us/step - loss: 0.3346 - acc: 0.8639\n",
      "Epoch 52/100\n",
      "7000/7000 [==============================] - 1s 168us/step - loss: 0.3341 - acc: 0.8614\n",
      "Epoch 53/100\n",
      "7000/7000 [==============================] - 1s 165us/step - loss: 0.3344 - acc: 0.8621\n",
      "Epoch 54/100\n",
      "7000/7000 [==============================] - 1s 167us/step - loss: 0.3344 - acc: 0.8633\n",
      "Epoch 55/100\n",
      "7000/7000 [==============================] - 1s 164us/step - loss: 0.3340 - acc: 0.8623\n",
      "Epoch 56/100\n",
      "7000/7000 [==============================] - 1s 168us/step - loss: 0.3335 - acc: 0.8629\n",
      "Epoch 57/100\n",
      "7000/7000 [==============================] - 1s 170us/step - loss: 0.3347 - acc: 0.8629\n",
      "Epoch 58/100\n",
      "7000/7000 [==============================] - 1s 174us/step - loss: 0.3335 - acc: 0.8626\n",
      "Epoch 59/100\n",
      "7000/7000 [==============================] - 1s 138us/step - loss: 0.3341 - acc: 0.8626\n",
      "Epoch 60/100\n",
      "7000/7000 [==============================] - 1s 123us/step - loss: 0.3336 - acc: 0.8627\n",
      "Epoch 61/100\n",
      "7000/7000 [==============================] - 1s 168us/step - loss: 0.3342 - acc: 0.8629\n",
      "Epoch 62/100\n",
      "7000/7000 [==============================] - 1s 171us/step - loss: 0.3334 - acc: 0.8616\n",
      "Epoch 63/100\n",
      "7000/7000 [==============================] - 1s 158us/step - loss: 0.3338 - acc: 0.8630\n",
      "Epoch 64/100\n",
      "7000/7000 [==============================] - 1s 154us/step - loss: 0.3336 - acc: 0.8626\n",
      "Epoch 65/100\n",
      "7000/7000 [==============================] - 1s 168us/step - loss: 0.3335 - acc: 0.8619\n",
      "Epoch 66/100\n",
      "7000/7000 [==============================] - 1s 165us/step - loss: 0.3340 - acc: 0.8634\n",
      "Epoch 67/100\n",
      "7000/7000 [==============================] - 1s 168us/step - loss: 0.3334 - acc: 0.8633\n",
      "Epoch 68/100\n",
      "7000/7000 [==============================] - 1s 164us/step - loss: 0.3330 - acc: 0.8623\n",
      "Epoch 69/100\n",
      "7000/7000 [==============================] - 1s 169us/step - loss: 0.3332 - acc: 0.8636\n",
      "Epoch 70/100\n",
      "7000/7000 [==============================] - 1s 163us/step - loss: 0.3334 - acc: 0.8630\n",
      "Epoch 71/100\n",
      "7000/7000 [==============================] - 1s 167us/step - loss: 0.3330 - acc: 0.8613\n",
      "Epoch 72/100\n",
      "7000/7000 [==============================] - 1s 163us/step - loss: 0.3332 - acc: 0.8614\n",
      "Epoch 73/100\n",
      "7000/7000 [==============================] - 1s 157us/step - loss: 0.3328 - acc: 0.8641\n",
      "Epoch 74/100\n",
      "7000/7000 [==============================] - 1s 160us/step - loss: 0.3336 - acc: 0.8603\n",
      "Epoch 75/100\n",
      "7000/7000 [==============================] - 1s 166us/step - loss: 0.3331 - acc: 0.8639\n",
      "Epoch 76/100\n",
      "7000/7000 [==============================] - 1s 163us/step - loss: 0.3328 - acc: 0.8626\n",
      "Epoch 77/100\n",
      "7000/7000 [==============================] - 1s 164us/step - loss: 0.3324 - acc: 0.8630\n",
      "Epoch 78/100\n",
      "7000/7000 [==============================] - 1s 149us/step - loss: 0.3330 - acc: 0.8629\n",
      "Epoch 79/100\n",
      "7000/7000 [==============================] - 1s 168us/step - loss: 0.3325 - acc: 0.8633\n",
      "Epoch 80/100\n",
      "7000/7000 [==============================] - 1s 161us/step - loss: 0.3319 - acc: 0.8637\n",
      "Epoch 81/100\n",
      "7000/7000 [==============================] - 1s 163us/step - loss: 0.3329 - acc: 0.8633\n",
      "Epoch 82/100\n"
     ]
    },
    {
     "name": "stdout",
     "output_type": "stream",
     "text": [
      "7000/7000 [==============================] - 1s 152us/step - loss: 0.3323 - acc: 0.8616\n",
      "Epoch 83/100\n",
      "7000/7000 [==============================] - 1s 164us/step - loss: 0.3324 - acc: 0.8634\n",
      "Epoch 84/100\n",
      "7000/7000 [==============================] - 1s 162us/step - loss: 0.3326 - acc: 0.8627\n",
      "Epoch 85/100\n",
      "7000/7000 [==============================] - 1s 163us/step - loss: 0.3326 - acc: 0.8637\n",
      "Epoch 86/100\n",
      "7000/7000 [==============================] - 1s 163us/step - loss: 0.3321 - acc: 0.8631\n",
      "Epoch 87/100\n",
      "7000/7000 [==============================] - 1s 164us/step - loss: 0.3326 - acc: 0.8623\n",
      "Epoch 88/100\n",
      "7000/7000 [==============================] - 1s 164us/step - loss: 0.3321 - acc: 0.8639\n",
      "Epoch 89/100\n",
      "7000/7000 [==============================] - 1s 167us/step - loss: 0.3323 - acc: 0.8624\n",
      "Epoch 90/100\n",
      "7000/7000 [==============================] - 1s 162us/step - loss: 0.3316 - acc: 0.8610\n",
      "Epoch 91/100\n",
      "7000/7000 [==============================] - 1s 163us/step - loss: 0.3325 - acc: 0.8620\n",
      "Epoch 92/100\n",
      "7000/7000 [==============================] - 1s 165us/step - loss: 0.3324 - acc: 0.8621\n",
      "Epoch 93/100\n",
      "7000/7000 [==============================] - 1s 164us/step - loss: 0.3320 - acc: 0.8643\n",
      "Epoch 94/100\n",
      "7000/7000 [==============================] - 1s 166us/step - loss: 0.3322 - acc: 0.8631\n",
      "Epoch 95/100\n",
      "7000/7000 [==============================] - 1s 165us/step - loss: 0.3325 - acc: 0.8641\n",
      "Epoch 96/100\n",
      "7000/7000 [==============================] - 1s 167us/step - loss: 0.3317 - acc: 0.8640\n",
      "Epoch 97/100\n",
      "7000/7000 [==============================] - 1s 172us/step - loss: 0.3319 - acc: 0.8649\n",
      "Epoch 98/100\n",
      "7000/7000 [==============================] - 1s 167us/step - loss: 0.3321 - acc: 0.8619\n",
      "Epoch 99/100\n",
      "7000/7000 [==============================] - 1s 173us/step - loss: 0.3306 - acc: 0.8650\n",
      "Epoch 100/100\n",
      "7000/7000 [==============================] - 1s 176us/step - loss: 0.3320 - acc: 0.8619\n"
     ]
    },
    {
     "data": {
      "text/plain": [
       "<keras.callbacks.History at 0x20657a0d630>"
      ]
     },
     "execution_count": 21,
     "metadata": {},
     "output_type": "execute_result"
    }
   ],
   "source": [
    "# Fitting our model \n",
    "classifier.fit(X_train2, y_train, batch_size = 10, epochs = 100)"
   ]
  },
  {
   "cell_type": "code",
   "execution_count": 22,
   "metadata": {},
   "outputs": [],
   "source": [
    "# Predicting the Test set results\n",
    "y_predtest = classifier.predict_proba(X_test2)\n",
    "y_predtest1 = (y_predtest > 0.5)"
   ]
  },
  {
   "cell_type": "code",
   "execution_count": 23,
   "metadata": {},
   "outputs": [
    {
     "data": {
      "text/plain": [
       "array([[2282,   89],\n",
       "       [ 329,  300]], dtype=int64)"
      ]
     },
     "execution_count": 23,
     "metadata": {},
     "output_type": "execute_result"
    }
   ],
   "source": [
    "# Creating the Confusion Matrix\n",
    "from sklearn.metrics import confusion_matrix\n",
    "cm = confusion_matrix(y_test, y_predtest1)\n",
    "cm"
   ]
  },
  {
   "cell_type": "code",
   "execution_count": 24,
   "metadata": {},
   "outputs": [
    {
     "name": "stdout",
     "output_type": "stream",
     "text": [
      "0.8570629204638186\n"
     ]
    }
   ],
   "source": [
    "from sklearn import metrics\n",
    "from sklearn.metrics import roc_curve\n",
    "from sklearn.metrics import roc_auc_score\n",
    "fpr, tpr, _ = roc_curve(y_test, y_predtest[:])\n",
    "roc_auc = metrics.auc(fpr, tpr)\n",
    "print(roc_auc)"
   ]
  },
  {
   "cell_type": "code",
   "execution_count": null,
   "metadata": {},
   "outputs": [],
   "source": []
  }
 ],
 "metadata": {
  "kernelspec": {
   "display_name": "Python 3",
   "language": "python",
   "name": "python3"
  },
  "language_info": {
   "codemirror_mode": {
    "name": "ipython",
    "version": 3
   },
   "file_extension": ".py",
   "mimetype": "text/x-python",
   "name": "python",
   "nbconvert_exporter": "python",
   "pygments_lexer": "ipython3",
   "version": "3.6.4"
  }
 },
 "nbformat": 4,
 "nbformat_minor": 2
}
