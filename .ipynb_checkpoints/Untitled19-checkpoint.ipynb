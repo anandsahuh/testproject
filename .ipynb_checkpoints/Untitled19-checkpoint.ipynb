{
 "cells": [
  {
   "cell_type": "code",
   "execution_count": 1,
   "id": "e61bf026",
   "metadata": {},
   "outputs": [],
   "source": [
    "#Q1 - use the price in the sales data to classify 'VeryLow' if price is less than 10%ile value , 'Low', if between 10%ile to 25%ile, 'medium' if between 25%ile to 50%ile value, 'high' if its greater than 50%ile value\n",
    "\n",
    "# use def function and np.where to achive the above\n"
   ]
  },
  {
   "cell_type": "code",
   "execution_count": 2,
   "id": "94910ae6",
   "metadata": {},
   "outputs": [],
   "source": [
    "import pandas as pd,os\n",
    "import numpy as np"
   ]
  },
  {
   "cell_type": "code",
   "execution_count": 3,
   "id": "7d38f9ad",
   "metadata": {},
   "outputs": [],
   "source": [
    "os.chdir('E:\\ml folder\\data')"
   ]
  },
  {
   "cell_type": "code",
   "execution_count": 4,
   "id": "dcc63b3d",
   "metadata": {},
   "outputs": [],
   "source": [
    "sales=pd.read_csv('sales_train.csv')"
   ]
  },
  {
   "cell_type": "code",
   "execution_count": 5,
   "id": "7a3785c9",
   "metadata": {},
   "outputs": [
    {
     "data": {
      "text/html": [
       "<div>\n",
       "<style scoped>\n",
       "    .dataframe tbody tr th:only-of-type {\n",
       "        vertical-align: middle;\n",
       "    }\n",
       "\n",
       "    .dataframe tbody tr th {\n",
       "        vertical-align: top;\n",
       "    }\n",
       "\n",
       "    .dataframe thead th {\n",
       "        text-align: right;\n",
       "    }\n",
       "</style>\n",
       "<table border=\"1\" class=\"dataframe\">\n",
       "  <thead>\n",
       "    <tr style=\"text-align: right;\">\n",
       "      <th></th>\n",
       "      <th>date</th>\n",
       "      <th>date_block_num</th>\n",
       "      <th>shop_id</th>\n",
       "      <th>item_id</th>\n",
       "      <th>item_price</th>\n",
       "      <th>item_cnt_day</th>\n",
       "    </tr>\n",
       "  </thead>\n",
       "  <tbody>\n",
       "    <tr>\n",
       "      <th>0</th>\n",
       "      <td>02.01.2013</td>\n",
       "      <td>0</td>\n",
       "      <td>59</td>\n",
       "      <td>22154</td>\n",
       "      <td>999.00</td>\n",
       "      <td>1.0</td>\n",
       "    </tr>\n",
       "    <tr>\n",
       "      <th>1</th>\n",
       "      <td>03.01.2013</td>\n",
       "      <td>0</td>\n",
       "      <td>25</td>\n",
       "      <td>2552</td>\n",
       "      <td>899.00</td>\n",
       "      <td>1.0</td>\n",
       "    </tr>\n",
       "    <tr>\n",
       "      <th>2</th>\n",
       "      <td>05.01.2013</td>\n",
       "      <td>0</td>\n",
       "      <td>25</td>\n",
       "      <td>2552</td>\n",
       "      <td>899.00</td>\n",
       "      <td>-1.0</td>\n",
       "    </tr>\n",
       "    <tr>\n",
       "      <th>3</th>\n",
       "      <td>06.01.2013</td>\n",
       "      <td>0</td>\n",
       "      <td>25</td>\n",
       "      <td>2554</td>\n",
       "      <td>1709.05</td>\n",
       "      <td>1.0</td>\n",
       "    </tr>\n",
       "    <tr>\n",
       "      <th>4</th>\n",
       "      <td>15.01.2013</td>\n",
       "      <td>0</td>\n",
       "      <td>25</td>\n",
       "      <td>2555</td>\n",
       "      <td>1099.00</td>\n",
       "      <td>1.0</td>\n",
       "    </tr>\n",
       "  </tbody>\n",
       "</table>\n",
       "</div>"
      ],
      "text/plain": [
       "         date  date_block_num  shop_id  item_id  item_price  item_cnt_day\n",
       "0  02.01.2013               0       59    22154      999.00           1.0\n",
       "1  03.01.2013               0       25     2552      899.00           1.0\n",
       "2  05.01.2013               0       25     2552      899.00          -1.0\n",
       "3  06.01.2013               0       25     2554     1709.05           1.0\n",
       "4  15.01.2013               0       25     2555     1099.00           1.0"
      ]
     },
     "execution_count": 5,
     "metadata": {},
     "output_type": "execute_result"
    }
   ],
   "source": [
    "sales.head()"
   ]
  },
  {
   "cell_type": "code",
   "execution_count": 6,
   "id": "f4bca268",
   "metadata": {},
   "outputs": [
    {
     "data": {
      "text/plain": [
       "(2935849, 6)"
      ]
     },
     "execution_count": 6,
     "metadata": {},
     "output_type": "execute_result"
    }
   ],
   "source": [
    "sales.shape"
   ]
  },
  {
   "cell_type": "code",
   "execution_count": 7,
   "id": "c133ce7e",
   "metadata": {},
   "outputs": [],
   "source": [
    "def per_func(df, x, y):\n",
    "    df[y] = np.where(df[x] < np.percentile(df[x],10), \"Low\" ,\n",
    "            np.where ( ( (df[x] > np.percentile(df[x],10))  & (df[x] < np.percentile(df[x],25)) ) ,\"Med\"\n",
    "            ,\"High\"))\n",
    "   \n",
    "    return df"
   ]
  },
  {
   "cell_type": "code",
   "execution_count": 8,
   "id": "11d5516c",
   "metadata": {},
   "outputs": [],
   "source": [
    "data = per_func(sales, \"item_price\", \"Price\")"
   ]
  },
  {
   "cell_type": "code",
   "execution_count": 9,
   "id": "44f176bf",
   "metadata": {},
   "outputs": [
    {
     "data": {
      "text/html": [
       "<div>\n",
       "<style scoped>\n",
       "    .dataframe tbody tr th:only-of-type {\n",
       "        vertical-align: middle;\n",
       "    }\n",
       "\n",
       "    .dataframe tbody tr th {\n",
       "        vertical-align: top;\n",
       "    }\n",
       "\n",
       "    .dataframe thead th {\n",
       "        text-align: right;\n",
       "    }\n",
       "</style>\n",
       "<table border=\"1\" class=\"dataframe\">\n",
       "  <thead>\n",
       "    <tr style=\"text-align: right;\">\n",
       "      <th></th>\n",
       "      <th>date</th>\n",
       "      <th>date_block_num</th>\n",
       "      <th>shop_id</th>\n",
       "      <th>item_id</th>\n",
       "      <th>item_price</th>\n",
       "      <th>item_cnt_day</th>\n",
       "      <th>Price</th>\n",
       "    </tr>\n",
       "  </thead>\n",
       "  <tbody>\n",
       "    <tr>\n",
       "      <th>0</th>\n",
       "      <td>02.01.2013</td>\n",
       "      <td>0</td>\n",
       "      <td>59</td>\n",
       "      <td>22154</td>\n",
       "      <td>999.00</td>\n",
       "      <td>1.0</td>\n",
       "      <td>High</td>\n",
       "    </tr>\n",
       "    <tr>\n",
       "      <th>1</th>\n",
       "      <td>03.01.2013</td>\n",
       "      <td>0</td>\n",
       "      <td>25</td>\n",
       "      <td>2552</td>\n",
       "      <td>899.00</td>\n",
       "      <td>1.0</td>\n",
       "      <td>High</td>\n",
       "    </tr>\n",
       "    <tr>\n",
       "      <th>2</th>\n",
       "      <td>05.01.2013</td>\n",
       "      <td>0</td>\n",
       "      <td>25</td>\n",
       "      <td>2552</td>\n",
       "      <td>899.00</td>\n",
       "      <td>-1.0</td>\n",
       "      <td>High</td>\n",
       "    </tr>\n",
       "    <tr>\n",
       "      <th>3</th>\n",
       "      <td>06.01.2013</td>\n",
       "      <td>0</td>\n",
       "      <td>25</td>\n",
       "      <td>2554</td>\n",
       "      <td>1709.05</td>\n",
       "      <td>1.0</td>\n",
       "      <td>High</td>\n",
       "    </tr>\n",
       "    <tr>\n",
       "      <th>4</th>\n",
       "      <td>15.01.2013</td>\n",
       "      <td>0</td>\n",
       "      <td>25</td>\n",
       "      <td>2555</td>\n",
       "      <td>1099.00</td>\n",
       "      <td>1.0</td>\n",
       "      <td>High</td>\n",
       "    </tr>\n",
       "  </tbody>\n",
       "</table>\n",
       "</div>"
      ],
      "text/plain": [
       "         date  date_block_num  shop_id  item_id  item_price  item_cnt_day  \\\n",
       "0  02.01.2013               0       59    22154      999.00           1.0   \n",
       "1  03.01.2013               0       25     2552      899.00           1.0   \n",
       "2  05.01.2013               0       25     2552      899.00          -1.0   \n",
       "3  06.01.2013               0       25     2554     1709.05           1.0   \n",
       "4  15.01.2013               0       25     2555     1099.00           1.0   \n",
       "\n",
       "  Price  \n",
       "0  High  \n",
       "1  High  \n",
       "2  High  \n",
       "3  High  \n",
       "4  High  "
      ]
     },
     "execution_count": 9,
     "metadata": {},
     "output_type": "execute_result"
    }
   ],
   "source": [
    "sales.head()"
   ]
  },
  {
   "cell_type": "code",
   "execution_count": 10,
   "id": "819a99a0",
   "metadata": {},
   "outputs": [],
   "source": [
    " #Q2 - use the reg_date and comp_date variable to calcualte no_of_days_taken_to_resolve and classify into 'sameday' if resolved on teh same day , '30-90 days' if taken between 30 to 90 days, 'more than 90days' if taken more than 90 days\n"
   ]
  },
  {
   "cell_type": "code",
   "execution_count": 11,
   "id": "0598604d",
   "metadata": {},
   "outputs": [
    {
     "ename": "NameError",
     "evalue": "name 'od' is not defined",
     "output_type": "error",
     "traceback": [
      "\u001b[1;31m---------------------------------------------------------------------------\u001b[0m",
      "\u001b[1;31mNameError\u001b[0m                                 Traceback (most recent call last)",
      "\u001b[1;32m<ipython-input-11-ff192e6b1ca1>\u001b[0m in \u001b[0;36m<module>\u001b[1;34m\u001b[0m\n\u001b[1;32m----> 1\u001b[1;33m \u001b[0mnortel\u001b[0m\u001b[1;33m=\u001b[0m\u001b[0mod\u001b[0m\u001b[1;33m.\u001b[0m\u001b[0mread_excel\u001b[0m\u001b[1;33m(\u001b[0m\u001b[1;34m'nortel.xlsx'\u001b[0m\u001b[1;33m)\u001b[0m\u001b[1;33m\u001b[0m\u001b[1;33m\u001b[0m\u001b[0m\n\u001b[0m",
      "\u001b[1;31mNameError\u001b[0m: name 'od' is not defined"
     ]
    }
   ],
   "source": [
    "nortel=od.read_excel('nortel.xlsx')"
   ]
  },
  {
   "cell_type": "code",
   "execution_count": null,
   "id": "394aacfc",
   "metadata": {},
   "outputs": [],
   "source": [
    "nortel[\"Reg_date\"] = pd.to_datetime(nortel[\"Reg_date\"])\n",
    "nortel[\"Comp_date\"] = pd.to_datetime(nortel[\"Comp_date\"])\n",
    "\n"
   ]
  },
  {
   "cell_type": "code",
   "execution_count": null,
   "id": "a841a9fc",
   "metadata": {},
   "outputs": [],
   "source": [
    "from datetime import timedelta\n",
    "nortel['IR_Days'] = (nortel[\"Comp_date\"]-nortel[\"Reg_date\"])/timedelta(days=1)\n",
    "\n",
    "def sat_cat(row):\n",
    "    if row[\"IR_Days\"]==0:\n",
    "        return 'SameDay'\n",
    "    elif row['IR_Days']>30 and row['IR_Days']<=90:\n",
    "        return '30-90Days'\n",
    "    else:\n",
    "        return 'More Than 90Days'\n",
    "\n",
    "\n",
    "\n",
    "nortel[\"IR_Dayss\"]=nortel.apply(sat_cat, axis = 1)\n"
   ]
  },
  {
   "cell_type": "code",
   "execution_count": null,
   "id": "b46f46e5",
   "metadata": {},
   "outputs": [],
   "source": [
    "#Q3 - use the churn data (which is having 227 columns), calculaate min, max , sum, mean, MOM_change, MOQ_change for the behaviral variable such as ARPU, Onnet, offnet etc...\n",
    "# use def function"
   ]
  },
  {
   "cell_type": "code",
   "execution_count": null,
   "id": "2ac9659a",
   "metadata": {},
   "outputs": [],
   "source": [
    "tele=pd.read_pickle('churn_data.pickle')"
   ]
  },
  {
   "cell_type": "code",
   "execution_count": null,
   "id": "0b50ab27",
   "metadata": {},
   "outputs": [],
   "source": [
    "tele.shape"
   ]
  },
  {
   "cell_type": "code",
   "execution_count": null,
   "id": "cf30e4ac",
   "metadata": {},
   "outputs": [],
   "source": [
    "pd.set_option('display.max_rows',500)\n",
    "pd.set_option('display.max_rows',500)"
   ]
  },
  {
   "cell_type": "code",
   "execution_count": null,
   "id": "e45a950b",
   "metadata": {},
   "outputs": [],
   "source": [
    "list(churn.columns)"
   ]
  },
  {
   "cell_type": "code",
   "execution_count": null,
   "id": "aa944032",
   "metadata": {},
   "outputs": [],
   "source": [
    "def char_sum(row):\n",
    "    sum_of = np.sum(row)\n",
    "    return sum_of"
   ]
  },
  {
   "cell_type": "code",
   "execution_count": null,
   "id": "864fcf85",
   "metadata": {},
   "outputs": [],
   "source": [
    "tele[\"Arpu_sum\"] = tele[[\"arpu_6\",\"arpu_7\",\"arpu_8\"]].apply(char_sum,axis=1)\n",
    "tele[\"onnet_mou_Sum\"] = tele[[\"onnet_mou_6\",\"onnet_mou_7\",\"onnet_mou_8\"]].apply(char_sum,axis=1)\n",
    "tele[\"offnet_mou_Sum\"] = tele[[\"offnet_mou_6\",\"offnet_mou_7\",\"offnet_mou_8\"]].apply(char_sum,axis=1)\n",
    "tele[\"roam_ic_mou_Sum\"] = tele[[\"roam_ic_mou_6\",\"roam_ic_mou_7\",\"roam_ic_mou_8\"]].apply(char_sum,axis=1)\n",
    "tele[\"roam_og_mou_Sum\"] = tele[[\"roam_og_mou_6\",\"roam_og_mou_7\",\"roam_og_mou_8\"]].apply(char_sum,axis=1)\n",
    "tele[\"loc_og_t2t_mou_Sum\"] = tele[[\"loc_og_t2t_mou_6\",\"loc_og_t2t_mou_7\",\"loc_og_t2t_mou_8\"]].apply(char_sum,axis=1)\n",
    "tele[\"loc_og_t2m_mou_Sum\"] = tele[[\"loc_og_t2m_mou_6\",\"loc_og_t2m_mou_7\",\"loc_og_t2m_mou_8\"]].apply(char_sum,axis=1)\n",
    "tele[\"loc_og_t2f_mou_Sum\"] = tele[[\"loc_og_t2f_mou_6\",\"loc_og_t2f_mou_7\",\"loc_og_t2f_mou_8\"]].apply(char_sum,axis=1)\n",
    "tele[\"loc_og_t2c_mou_Sum\"] = tele[[\"loc_og_t2c_mou_6\",\"loc_og_t2c_mou_7\",\"loc_og_t2c_mou_8\"]].apply(char_sum,axis=1)\n",
    "tele[\"loc_og_mou_Sum\"] = tele[[\"loc_og_mou_6\",\"loc_og_mou_7\",\"loc_og_mou_8\"]].apply(char_sum,axis=1)\n",
    "tele[\"std_og_t2t_mou_Sum\"] = tele[[\"std_og_t2t_mou_6\",\"std_og_t2t_mou_7\",\"std_og_t2t_mou_8\"]].apply(char_sum,axis=1)\n",
    "tele[\"std_og_t2f_mou_Sum\"] = tele[[\"std_og_t2f_mou_6\",\"std_og_t2f_mou_7\",\"std_og_t2f_mou_8\"]].apply(char_sum,axis=1)\n",
    "tele[\"std_og_t2c_mou_Sum\"] = tele[[\"std_og_t2c_mou_6\",\"std_og_t2c_mou_7\",\"std_og_t2c_mou_8\"]].apply(char_sum,axis=1)\n",
    "tele[\"isd_og_mou_Sum\"] = tele[[\"isd_og_mou_6\",\"isd_og_mou_7\",\"isd_og_mou_8\"]].apply(char_sum,axis=1)\n",
    "tele[\"spl_og_mou_Sum\"] = tele[[\"spl_og_mou_6\",\"spl_og_mou_7\",\"spl_og_mou_8\"]].apply(char_sum,axis=1)\n",
    "tele[\"og_others_Sum\"] = tele[[\"og_others_6\",\"og_others_7\",\"og_others_8\"]].apply(char_sum,axis=1)\n",
    "tele[\"total_og_mou_Sum\"] = tele[[\"total_og_mou_6\",\"total_og_mou_7\",\"total_og_mou_8\"]].apply(char_sum,axis=1)\n",
    "tele[\"loc_ic_t2t_mou_Sum\"] = tele[[\"loc_ic_t2t_mou_6\",\"loc_ic_t2t_mou_7\",\"loc_ic_t2t_mou_8\"]].apply(char_sum,axis=1)\n",
    "tele[\"loc_ic_t2m_mou_Sum\"] = tele[[\"loc_ic_t2m_mou_6\",\"loc_ic_t2m_mou_7\",\"loc_ic_t2m_mou_8\"]].apply(char_sum,axis=1)\n",
    "tele[\"loc_ic_t2f_mou_Sum\"] = tele[[\"loc_ic_t2f_mou_6\",\"loc_ic_t2f_mou_7\",\"loc_ic_t2f_mou_8\"]].apply(char_sum,axis=1)\n",
    "tele[\"loc_ic_mou_Sum\"] = tele[[\"loc_ic_mou_6\",\"loc_ic_mou_7\",\"loc_ic_mou_8\"]].apply(char_sum,axis=1)\n",
    "tele[\"std_ic_t2t_mou_Sum\"] = tele[[\"std_ic_t2t_mou_6\",\"std_ic_t2t_mou_7\",\"std_ic_t2t_mou_8\"]].apply(char_sum,axis=1)\n",
    "tele[\"std_ic_t2m_mou_Sum\"] = tele[[\"std_ic_t2m_mou_6\",\"std_ic_t2m_mou_7\",\"std_ic_t2m_mou_8\"]].apply(char_sum,axis=1)\n",
    "tele[\"std_ic_t2f_mou_Sum\"] = tele[[\"std_ic_t2f_mou_6\",\"std_ic_t2f_mou_7\",\"std_ic_t2f_mou_8\"]].apply(char_sum,axis=1)\n",
    "tele[\"std_ic_t2o_mou_Sum\"] = tele[[\"std_ic_t2o_mou_6\",\"std_ic_t2o_mou_7\",\"std_ic_t2o_mou_8\"]].apply(char_sum,axis=1)\n",
    "tele[\"std_ic_mou_Sum\"] = tele[[\"std_ic_mou_6\",\"std_ic_mou_7\",\"std_ic_mou_8\"]].apply(char_sum,axis=1)\n",
    "tele[\"total_ic_mou_Sum\"] = tele[[\"total_ic_mou_6\",\"total_ic_mou_7\",\"total_ic_mou_8\"]].apply(char_sum,axis=1)\n",
    "tele[\"spl_ic_mouSumSum\"] = tele[[\"spl_ic_mou_6\",\"spl_ic_mou_7\",\"spl_ic_mou_8\"]].apply(char_sum,axis=1)\n",
    "tele[\"isd_ic_mou_Sum\"] = tele[[\"isd_ic_mou_6\",\"isd_ic_mou_7\",\"isd_ic_mou_8\"]].apply(char_sum,axis=1)\n",
    "tele[\"ic_others_Sum\"] = tele[[\"ic_others_6\",\"ic_others_7\",\"ic_others_8\"]].apply(char_sum,axis=1)\n",
    "tele[\"total_rech_num_Sum\"] = tele[[\"total_rech_num_6\",\"total_rech_num_7\",\"total_rech_num_8\"]].apply(char_sum,axis=1)\n",
    "tele[\"total_rech_amt_Sum\"] = tele[[\"total_rech_amt_6\",\"total_rech_amt_7\",\"total_rech_amt_8\"]].apply(char_sum,axis=1)\n",
    "tele[\"max_rech_amt_Sum\"] = tele[[\"max_rech_amt_6\",\"max_rech_amt_7\",\"max_rech_amt_8\"]].apply(char_sum,axis=1)\n",
    "tele[\"last_day_rch_amt_Sum\"] = tele[[\"last_day_rch_amt_6\",\"last_day_rch_amt_7\",\"last_day_rch_amt_8\"]].apply(char_sum,axis=1)\n",
    "tele[\"total_rech_data_Sum\"] = tele[[\"total_rech_data_6\",\"total_rech_data_7\",\"total_rech_data_8\"]].apply(char_sum,axis=1)\n",
    "tele[\"max_rech_data_Sum\"] = tele[[\"max_rech_data_6\",\"max_rech_data_7\",\"max_rech_data_8\"]].apply(char_sum,axis=1)\n",
    "tele[\"count_rech_2g_Sum\"] = tele[[\"count_rech_2g_6\",\"count_rech_2g_7\",\"count_rech_2g_8\"]].apply(char_sum,axis=1)\n",
    "tele[\"count_rech_3g_Sum\"] = tele[[\"count_rech_3g_6\",\"count_rech_3g_7\",\"count_rech_3g_8\"]].apply(char_sum,axis=1)\n",
    "tele[\"av_rech_amt_data_Sum\"] = tele[[\"av_rech_amt_data_6\",\"av_rech_amt_data_7\",\"av_rech_amt_data_8\"]].apply(char_sum,axis=1)\n",
    "tele[\"vol_2g_mb_Sum\"] = tele[[\"vol_2g_mb_6\",\"vol_2g_mb_7\",\"vol_2g_mb_8\"]].apply(char_sum,axis=1)\n",
    "tele[\"vol_3g_mb_Sum\"] = tele[[\"vol_3g_mb_6\",\"vol_3g_mb_7\",\"vol_3g_mb_8\"]].apply(char_sum,axis=1)\n",
    "tele[\"arpu_3g_Sum\"] = tele[[\"arpu_3g_6\",\"arpu_3g_7\",\"arpu_3g_8\"]].apply(char_sum,axis=1)\n",
    "tele[\"arpu_2g_Sum\"] = tele[[\"arpu_2g_6\",\"arpu_2g_7\",\"arpu_2g_8\"]].apply(char_sum,axis=1)\n",
    "tele[\"night_pck_user_Sum\"] = tele[[\"night_pck_user_6\",\"night_pck_user_7\",\"night_pck_user_8\"]].apply(char_sum,axis=1)\n",
    "tele[\"monthly_2g_Sum\"] = tele[[\"monthly_2g_6\",\"monthly_2g_7\",\"monthly_2g_8\"]].apply(char_sum,axis=1)\n",
    "tele[\"sachet_2g_Sum\"] = tele[[\"sachet_2g_6\",\"sachet_2g_7\",\"sachet_2g_8\"]].apply(char_sum,axis=1)\n",
    "tele[\"monthly_3g_Sum\"] = tele[[\"monthly_3g_6\",\"monthly_3g_7\",\"monthly_3g_8\"]].apply(char_sum,axis=1)\n",
    "tele[\"sachet_3g_Sum\"] = tele[[\"sachet_3g_6\",\"sachet_3g_7\",\"sachet_3g_8\"]].apply(char_sum,axis=1)\n",
    "tele[\"fb_user_Sum\"] = tele[[\"fb_user_6\",\"fb_user_7\",\"fb_user_8\"]].apply(char_sum,axis=1)\n",
    "tele[\"vbc_3g_Sum\"] = tele[[\"jun_vbc_3g\",\"jul_vbc_3g\",\"aug_vbc_3g\"]].apply(char_sum,axis=1)"
   ]
  },
  {
   "cell_type": "code",
   "execution_count": null,
   "id": "82359457",
   "metadata": {},
   "outputs": [],
   "source": [
    "tele.head()"
   ]
  },
  {
   "cell_type": "code",
   "execution_count": null,
   "id": "47369467",
   "metadata": {},
   "outputs": [],
   "source": [
    "def char_mean(row):\n",
    "    mean_of = np.mean(row)\n",
    "    return mean_of"
   ]
  },
  {
   "cell_type": "code",
   "execution_count": null,
   "id": "34da7ca5",
   "metadata": {},
   "outputs": [],
   "source": [
    "tele[\"Arpu_mean\"] = tele[[\"arpu_6\",\"arpu_7\",\"arpu_8\"]].apply(char_mean,axis=1)\n",
    "tele[\"onnet_mou_mean\"] = tele[[\"onnet_mou_6\",\"onnet_mou_7\",\"onnet_mou_8\"]].apply(char_mean,axis=1)\n",
    "tele[\"offnet_mou_mean\"] = tele[[\"offnet_mou_6\",\"offnet_mou_7\",\"offnet_mou_8\"]].apply(char_mean,axis=1)\n",
    "tele[\"roam_ic_mou_mean\"] = tele[[\"roam_ic_mou_6\",\"roam_ic_mou_7\",\"roam_ic_mou_8\"]].apply(char_mean,axis=1)\n",
    "tele[\"roam_og_mou_mean\"] = tele[[\"roam_og_mou_6\",\"roam_og_mou_7\",\"roam_og_mou_8\"]].apply(char_mean,axis=1)\n",
    "tele[\"loc_og_t2t_mou_mean\"] = tele[[\"loc_og_t2t_mou_6\",\"loc_og_t2t_mou_7\",\"loc_og_t2t_mou_8\"]].apply(char_mean,axis=1)\n",
    "tele[\"loc_og_t2m_mou_mean\"] = tele[[\"loc_og_t2m_mou_6\",\"loc_og_t2m_mou_7\",\"loc_og_t2m_mou_8\"]].apply(char_mean,axis=1)\n",
    "tele[\"loc_og_t2f_mou_mean\"] = tele[[\"loc_og_t2f_mou_6\",\"loc_og_t2f_mou_7\",\"loc_og_t2f_mou_8\"]].apply(char_mean,axis=1)\n",
    "tele[\"loc_og_t2c_mou_mean\"] = tele[[\"loc_og_t2c_mou_6\",\"loc_og_t2c_mou_7\",\"loc_og_t2c_mou_8\"]].apply(char_mean,axis=1)\n",
    "tele[\"loc_og_mou_mean\"] = tele[[\"loc_og_mou_6\",\"loc_og_mou_7\",\"loc_og_mou_8\"]].apply(char_mean,axis=1)\n",
    "tele[\"std_og_t2t_mou_mean\"] = tele[[\"std_og_t2t_mou_6\",\"std_og_t2t_mou_7\",\"std_og_t2t_mou_8\"]].apply(char_mean,axis=1)\n",
    "tele[\"std_og_t2f_mou_mean\"] = tele[[\"std_og_t2f_mou_6\",\"std_og_t2f_mou_7\",\"std_og_t2f_mou_8\"]].apply(char_mean,axis=1)\n",
    "tele[\"std_og_t2c_mou_mean\"] = tele[[\"std_og_t2c_mou_6\",\"std_og_t2c_mou_7\",\"std_og_t2c_mou_8\"]].apply(char_mean,axis=1)\n",
    "tele[\"isd_og_mou_mean\"] = tele[[\"isd_og_mou_6\",\"isd_og_mou_7\",\"isd_og_mou_8\"]].apply(char_mean,axis=1)\n",
    "tele[\"spl_og_mou_mean\"] = tele[[\"spl_og_mou_6\",\"spl_og_mou_7\",\"spl_og_mou_8\"]].apply(char_mean,axis=1)\n",
    "tele[\"og_others_mean\"] = tele[[\"og_others_6\",\"og_others_7\",\"og_others_8\"]].apply(char_mean,axis=1)\n",
    "tele[\"total_og_mou_mean\"] = tele[[\"total_og_mou_6\",\"total_og_mou_7\",\"total_og_mou_8\"]].apply(char_mean,axis=1)\n",
    "tele[\"loc_ic_t2t_mou_mean\"] = tele[[\"loc_ic_t2t_mou_6\",\"loc_ic_t2t_mou_7\",\"loc_ic_t2t_mou_8\"]].apply(char_mean,axis=1)\n",
    "tele[\"loc_ic_t2m_mou_mean\"] = tele[[\"loc_ic_t2m_mou_6\",\"loc_ic_t2m_mou_7\",\"loc_ic_t2m_mou_8\"]].apply(char_mean,axis=1)\n",
    "tele[\"loc_ic_t2f_mou_mean\"] = tele[[\"loc_ic_t2f_mou_6\",\"loc_ic_t2f_mou_7\",\"loc_ic_t2f_mou_8\"]].apply(char_mean,axis=1)\n",
    "tele[\"loc_ic_mou_mean\"] = tele[[\"loc_ic_mou_6\",\"loc_ic_mou_7\",\"loc_ic_mou_8\"]].apply(char_mean,axis=1)\n",
    "tele[\"std_ic_t2t_mou_mean\"] = tele[[\"std_ic_t2t_mou_6\",\"std_ic_t2t_mou_7\",\"std_ic_t2t_mou_8\"]].apply(char_mean,axis=1)\n",
    "tele[\"std_ic_t2m_mou_mean\"] = tele[[\"std_ic_t2m_mou_6\",\"std_ic_t2m_mou_7\",\"std_ic_t2m_mou_8\"]].apply(char_mean,axis=1)\n",
    "tele[\"std_ic_t2f_mou_mean\"] = tele[[\"std_ic_t2f_mou_6\",\"std_ic_t2f_mou_7\",\"std_ic_t2f_mou_8\"]].apply(char_mean,axis=1)\n",
    "tele[\"std_ic_t2o_mou_mean\"] = tele[[\"std_ic_t2o_mou_6\",\"std_ic_t2o_mou_7\",\"std_ic_t2o_mou_8\"]].apply(char_mean,axis=1)\n",
    "tele[\"std_ic_mou_mean\"] = tele[[\"std_ic_mou_6\",\"std_ic_mou_7\",\"std_ic_mou_8\"]].apply(char_mean,axis=1)\n",
    "tele[\"total_ic_mou_mean\"] = tele[[\"total_ic_mou_6\",\"total_ic_mou_7\",\"total_ic_mou_8\"]].apply(char_mean,axis=1)\n",
    "tele[\"spl_ic_moumeanmean\"] = tele[[\"spl_ic_mou_6\",\"spl_ic_mou_7\",\"spl_ic_mou_8\"]].apply(char_mean,axis=1)\n",
    "tele[\"isd_ic_mou_mean\"] = tele[[\"isd_ic_mou_6\",\"isd_ic_mou_7\",\"isd_ic_mou_8\"]].apply(char_mean,axis=1)\n",
    "tele[\"ic_others_mean\"] = tele[[\"ic_others_6\",\"ic_others_7\",\"ic_others_8\"]].apply(char_mean,axis=1)\n",
    "tele[\"total_rech_num_mean\"] = tele[[\"total_rech_num_6\",\"total_rech_num_7\",\"total_rech_num_8\"]].apply(char_mean,axis=1)\n",
    "tele[\"total_rech_amt_mean\"] = tele[[\"total_rech_amt_6\",\"total_rech_amt_7\",\"total_rech_amt_8\"]].apply(char_mean,axis=1)\n",
    "tele[\"max_rech_amt_mean\"] = tele[[\"max_rech_amt_6\",\"max_rech_amt_7\",\"max_rech_amt_8\"]].apply(char_mean,axis=1)\n",
    "tele[\"last_day_rch_amt_mean\"] = tele[[\"last_day_rch_amt_6\",\"last_day_rch_amt_7\",\"last_day_rch_amt_8\"]].apply(char_mean,axis=1)\n",
    "tele[\"total_rech_data_mean\"] = tele[[\"total_rech_data_6\",\"total_rech_data_7\",\"total_rech_data_8\"]].apply(char_mean,axis=1)\n",
    "tele[\"max_rech_data_mean\"] = tele[[\"max_rech_data_6\",\"max_rech_data_7\",\"max_rech_data_8\"]].apply(char_mean,axis=1)\n",
    "tele[\"count_rech_2g_mean\"] = tele[[\"count_rech_2g_6\",\"count_rech_2g_7\",\"count_rech_2g_8\"]].apply(char_mean,axis=1)\n",
    "tele[\"count_rech_3g_mean\"] = tele[[\"count_rech_3g_6\",\"count_rech_3g_7\",\"count_rech_3g_8\"]].apply(char_mean,axis=1)\n",
    "tele[\"av_rech_amt_data_mean\"] = tele[[\"av_rech_amt_data_6\",\"av_rech_amt_data_7\",\"av_rech_amt_data_8\"]].apply(char_mean,axis=1)\n",
    "tele[\"vol_2g_mb_mean\"] = tele[[\"vol_2g_mb_6\",\"vol_2g_mb_7\",\"vol_2g_mb_8\"]].apply(char_mean,axis=1)\n",
    "tele[\"vol_3g_mb_mean\"] = tele[[\"vol_3g_mb_6\",\"vol_3g_mb_7\",\"vol_3g_mb_8\"]].apply(char_mean,axis=1)\n",
    "tele[\"arpu_3g_mean\"] = tele[[\"arpu_3g_6\",\"arpu_3g_7\",\"arpu_3g_8\"]].apply(char_mean,axis=1)\n",
    "tele[\"arpu_2g_mean\"] = tele[[\"arpu_2g_6\",\"arpu_2g_7\",\"arpu_2g_8\"]].apply(char_mean,axis=1)\n",
    "tele[\"night_pck_user_mean\"] = tele[[\"night_pck_user_6\",\"night_pck_user_7\",\"night_pck_user_8\"]].apply(char_mean,axis=1)\n",
    "tele[\"monthly_2g_mean\"] = tele[[\"monthly_2g_6\",\"monthly_2g_7\",\"monthly_2g_8\"]].apply(char_mean,axis=1)\n",
    "tele[\"sachet_2g_mean\"] = tele[[\"sachet_2g_6\",\"sachet_2g_7\",\"sachet_2g_8\"]].apply(char_mean,axis=1)\n",
    "tele[\"monthly_3g_mean\"] = tele[[\"monthly_3g_6\",\"monthly_3g_7\",\"monthly_3g_8\"]].apply(char_mean,axis=1)\n",
    "tele[\"sachet_3g_mean\"] = tele[[\"sachet_3g_6\",\"sachet_3g_7\",\"sachet_3g_8\"]].apply(char_mean,axis=1)\n",
    "tele[\"fb_user_mean\"] = tele[[\"fb_user_6\",\"fb_user_7\",\"fb_user_8\"]].apply(char_mean,axis=1)\n",
    "tele[\"vbc_3g_mean\"] = tele[[\"jun_vbc_3g\",\"jul_vbc_3g\",\"aug_vbc_3g\"]].apply(char_mean,axis=1)"
   ]
  },
  {
   "cell_type": "code",
   "execution_count": null,
   "id": "4ae986a9",
   "metadata": {},
   "outputs": [],
   "source": [
    "tele.head()"
   ]
  },
  {
   "cell_type": "code",
   "execution_count": null,
   "id": "c739591f",
   "metadata": {},
   "outputs": [],
   "source": [
    "def char_max(row):\n",
    "    max_of = np.max(row)\n",
    "    return max_of"
   ]
  },
  {
   "cell_type": "code",
   "execution_count": null,
   "id": "642fce4f",
   "metadata": {},
   "outputs": [],
   "source": [
    "tele.head()"
   ]
  },
  {
   "cell_type": "code",
   "execution_count": null,
   "id": "477cd38e",
   "metadata": {},
   "outputs": [],
   "source": [
    "def char_max(row):\n",
    "    max_of = np.max(row)\n",
    "    return max_of"
   ]
  },
  {
   "cell_type": "code",
   "execution_count": null,
   "id": "41c499b9",
   "metadata": {},
   "outputs": [],
   "source": [
    "tele[\"Arpu_max\"] = tele[[\"arpu_6\",\"arpu_7\",\"arpu_8\"]].apply(char_max,axis=1)\n",
    "tele[\"onnet_mou_max\"] = tele[[\"onnet_mou_6\",\"onnet_mou_7\",\"onnet_mou_8\"]].apply(char_max,axis=1)\n",
    "tele[\"offnet_mou_max\"] = tele[[\"offnet_mou_6\",\"offnet_mou_7\",\"offnet_mou_8\"]].apply(char_max,axis=1)\n",
    "tele[\"roam_ic_mou_max\"] = tele[[\"roam_ic_mou_6\",\"roam_ic_mou_7\",\"roam_ic_mou_8\"]].apply(char_max,axis=1)\n",
    "tele[\"roam_og_mou_max\"] = tele[[\"roam_og_mou_6\",\"roam_og_mou_7\",\"roam_og_mou_8\"]].apply(char_max,axis=1)\n",
    "tele[\"loc_og_t2t_mou_max\"] = tele[[\"loc_og_t2t_mou_6\",\"loc_og_t2t_mou_7\",\"loc_og_t2t_mou_8\"]].apply(char_max,axis=1)\n",
    "tele[\"loc_og_t2m_mou_max\"] = tele[[\"loc_og_t2m_mou_6\",\"loc_og_t2m_mou_7\",\"loc_og_t2m_mou_8\"]].apply(char_max,axis=1)\n",
    "tele[\"loc_og_t2f_mou_max\"] = tele[[\"loc_og_t2f_mou_6\",\"loc_og_t2f_mou_7\",\"loc_og_t2f_mou_8\"]].apply(char_max,axis=1)\n",
    "tele[\"loc_og_t2c_mou_max\"] = tele[[\"loc_og_t2c_mou_6\",\"loc_og_t2c_mou_7\",\"loc_og_t2c_mou_8\"]].apply(char_max,axis=1)\n",
    "tele[\"loc_og_mou_max\"] = tele[[\"loc_og_mou_6\",\"loc_og_mou_7\",\"loc_og_mou_8\"]].apply(char_max,axis=1)\n",
    "tele[\"std_og_t2t_mou_max\"] = tele[[\"std_og_t2t_mou_6\",\"std_og_t2t_mou_7\",\"std_og_t2t_mou_8\"]].apply(char_max,axis=1)\n",
    "tele[\"std_og_t2f_mou_max\"] = tele[[\"std_og_t2f_mou_6\",\"std_og_t2f_mou_7\",\"std_og_t2f_mou_8\"]].apply(char_max,axis=1)\n",
    "tele[\"std_og_t2c_mou_max\"] = tele[[\"std_og_t2c_mou_6\",\"std_og_t2c_mou_7\",\"std_og_t2c_mou_8\"]].apply(char_max,axis=1)\n",
    "tele[\"isd_og_mou_max\"] = tele[[\"isd_og_mou_6\",\"isd_og_mou_7\",\"isd_og_mou_8\"]].apply(char_max,axis=1)\n",
    "tele[\"spl_og_mou_max\"] = tele[[\"spl_og_mou_6\",\"spl_og_mou_7\",\"spl_og_mou_8\"]].apply(char_max,axis=1)\n",
    "tele[\"og_others_max\"] = tele[[\"og_others_6\",\"og_others_7\",\"og_others_8\"]].apply(char_max,axis=1)\n",
    "tele[\"total_og_mou_max\"] = tele[[\"total_og_mou_6\",\"total_og_mou_7\",\"total_og_mou_8\"]].apply(char_max,axis=1)\n",
    "tele[\"loc_ic_t2t_mou_max\"] = tele[[\"loc_ic_t2t_mou_6\",\"loc_ic_t2t_mou_7\",\"loc_ic_t2t_mou_8\"]].apply(char_max,axis=1)\n",
    "tele[\"loc_ic_t2m_mou_max\"] = tele[[\"loc_ic_t2m_mou_6\",\"loc_ic_t2m_mou_7\",\"loc_ic_t2m_mou_8\"]].apply(char_max,axis=1)\n",
    "tele[\"loc_ic_t2f_mou_max\"] = tele[[\"loc_ic_t2f_mou_6\",\"loc_ic_t2f_mou_7\",\"loc_ic_t2f_mou_8\"]].apply(char_max,axis=1)\n",
    "tele[\"loc_ic_mou_max\"] = tele[[\"loc_ic_mou_6\",\"loc_ic_mou_7\",\"loc_ic_mou_8\"]].apply(char_max,axis=1)\n",
    "tele[\"std_ic_t2t_mou_max\"] = tele[[\"std_ic_t2t_mou_6\",\"std_ic_t2t_mou_7\",\"std_ic_t2t_mou_8\"]].apply(char_max,axis=1)\n",
    "tele[\"std_ic_t2m_mou_max\"] = tele[[\"std_ic_t2m_mou_6\",\"std_ic_t2m_mou_7\",\"std_ic_t2m_mou_8\"]].apply(char_max,axis=1)\n",
    "tele[\"std_ic_t2f_mou_max\"] = tele[[\"std_ic_t2f_mou_6\",\"std_ic_t2f_mou_7\",\"std_ic_t2f_mou_8\"]].apply(char_max,axis=1)\n",
    "tele[\"std_ic_t2o_mou_max\"] = tele[[\"std_ic_t2o_mou_6\",\"std_ic_t2o_mou_7\",\"std_ic_t2o_mou_8\"]].apply(char_max,axis=1)\n",
    "tele[\"std_ic_mou_max\"] = tele[[\"std_ic_mou_6\",\"std_ic_mou_7\",\"std_ic_mou_8\"]].apply(char_max,axis=1)\n",
    "tele[\"total_ic_mou_max\"] = tele[[\"total_ic_mou_6\",\"total_ic_mou_7\",\"total_ic_mou_8\"]].apply(char_max,axis=1)\n",
    "tele[\"spl_ic_moumaxmax\"] = tele[[\"spl_ic_mou_6\",\"spl_ic_mou_7\",\"spl_ic_mou_8\"]].apply(char_max,axis=1)\n",
    "tele[\"isd_ic_mou_max\"] = tele[[\"isd_ic_mou_6\",\"isd_ic_mou_7\",\"isd_ic_mou_8\"]].apply(char_max,axis=1)\n",
    "tele[\"ic_others_max\"] = tele[[\"ic_others_6\",\"ic_others_7\",\"ic_others_8\"]].apply(char_max,axis=1)\n",
    "tele[\"total_rech_num_max\"] = tele[[\"total_rech_num_6\",\"total_rech_num_7\",\"total_rech_num_8\"]].apply(char_max,axis=1)\n",
    "tele[\"total_rech_amt_max\"] = tele[[\"total_rech_amt_6\",\"total_rech_amt_7\",\"total_rech_amt_8\"]].apply(char_max,axis=1)\n",
    "tele[\"max_rech_amt_max\"] = tele[[\"max_rech_amt_6\",\"max_rech_amt_7\",\"max_rech_amt_8\"]].apply(char_max,axis=1)\n",
    "tele[\"last_day_rch_amt_max\"] = tele[[\"last_day_rch_amt_6\",\"last_day_rch_amt_7\",\"last_day_rch_amt_8\"]].apply(char_max,axis=1)\n",
    "tele[\"total_rech_data_max\"] = tele[[\"total_rech_data_6\",\"total_rech_data_7\",\"total_rech_data_8\"]].apply(char_max,axis=1)\n",
    "tele[\"max_rech_data_max\"] = tele[[\"max_rech_data_6\",\"max_rech_data_7\",\"max_rech_data_8\"]].apply(char_max,axis=1)\n",
    "tele[\"count_rech_2g_max\"] = tele[[\"count_rech_2g_6\",\"count_rech_2g_7\",\"count_rech_2g_8\"]].apply(char_max,axis=1)\n",
    "tele[\"count_rech_3g_max\"] = tele[[\"count_rech_3g_6\",\"count_rech_3g_7\",\"count_rech_3g_8\"]].apply(char_max,axis=1)\n",
    "tele[\"av_rech_amt_data_max\"] = tele[[\"av_rech_amt_data_6\",\"av_rech_amt_data_7\",\"av_rech_amt_data_8\"]].apply(char_max,axis=1)\n",
    "tele[\"vol_2g_mb_max\"] = tele[[\"vol_2g_mb_6\",\"vol_2g_mb_7\",\"vol_2g_mb_8\"]].apply(char_max,axis=1)\n",
    "tele[\"vol_3g_mb_max\"] = tele[[\"vol_3g_mb_6\",\"vol_3g_mb_7\",\"vol_3g_mb_8\"]].apply(char_max,axis=1)\n",
    "tele[\"arpu_3g_max\"] = tele[[\"arpu_3g_6\",\"arpu_3g_7\",\"arpu_3g_8\"]].apply(char_max,axis=1)\n",
    "tele[\"arpu_2g_max\"] = tele[[\"arpu_2g_6\",\"arpu_2g_7\",\"arpu_2g_8\"]].apply(char_max,axis=1)\n",
    "tele[\"night_pck_user_max\"] = tele[[\"night_pck_user_6\",\"night_pck_user_7\",\"night_pck_user_8\"]].apply(char_max,axis=1)\n",
    "tele[\"monthly_2g_max\"] = tele[[\"monthly_2g_6\",\"monthly_2g_7\",\"monthly_2g_8\"]].apply(char_max,axis=1)\n",
    "tele[\"sachet_2g_max\"] = tele[[\"sachet_2g_6\",\"sachet_2g_7\",\"sachet_2g_8\"]].apply(char_max,axis=1)\n",
    "tele[\"monthly_3g_max\"] = tele[[\"monthly_3g_6\",\"monthly_3g_7\",\"monthly_3g_8\"]].apply(char_max,axis=1)\n",
    "tele[\"sachet_3g_max\"] = tele[[\"sachet_3g_6\",\"sachet_3g_7\",\"sachet_3g_8\"]].apply(char_max,axis=1)\n",
    "tele[\"fb_user_max\"] = tele[[\"fb_user_6\",\"fb_user_7\",\"fb_user_8\"]].apply(char_max,axis=1)\n",
    "tele[\"vbc_3g_max\"] = tele[[\"jun_vbc_3g\",\"jul_vbc_3g\",\"aug_vbc_3g\"]].apply(char_max,axis=1)"
   ]
  },
  {
   "cell_type": "code",
   "execution_count": null,
   "id": "4b79770c",
   "metadata": {},
   "outputs": [],
   "source": [
    "tele.head()"
   ]
  },
  {
   "cell_type": "code",
   "execution_count": null,
   "id": "674725ae",
   "metadata": {},
   "outputs": [],
   "source": [
    "def char_min(row):\n",
    "    min_of = np.min(row)\n",
    "    return min_of"
   ]
  },
  {
   "cell_type": "code",
   "execution_count": null,
   "id": "3015377b",
   "metadata": {},
   "outputs": [],
   "source": [
    "tele[\"Arpu_min\"] = tele[[\"arpu_6\",\"arpu_7\",\"arpu_8\"]].apply(char_min,axis=1)\n",
    "tele[\"onnet_mou_min\"] = tele[[\"onnet_mou_6\",\"onnet_mou_7\",\"onnet_mou_8\"]].apply(char_min,axis=1)\n",
    "tele[\"offnet_mou_min\"] = tele[[\"offnet_mou_6\",\"offnet_mou_7\",\"offnet_mou_8\"]].apply(char_min,axis=1)\n",
    "tele[\"roam_ic_mou_min\"] = tele[[\"roam_ic_mou_6\",\"roam_ic_mou_7\",\"roam_ic_mou_8\"]].apply(char_min,axis=1)\n",
    "tele[\"roam_og_mou_min\"] = tele[[\"roam_og_mou_6\",\"roam_og_mou_7\",\"roam_og_mou_8\"]].apply(char_min,axis=1)\n",
    "tele[\"loc_og_t2t_mou_min\"] = tele[[\"loc_og_t2t_mou_6\",\"loc_og_t2t_mou_7\",\"loc_og_t2t_mou_8\"]].apply(char_min,axis=1)\n",
    "tele[\"loc_og_t2m_mou_min\"] = tele[[\"loc_og_t2m_mou_6\",\"loc_og_t2m_mou_7\",\"loc_og_t2m_mou_8\"]].apply(char_min,axis=1)\n",
    "tele[\"loc_og_t2f_mou_min\"] = tele[[\"loc_og_t2f_mou_6\",\"loc_og_t2f_mou_7\",\"loc_og_t2f_mou_8\"]].apply(char_min,axis=1)\n",
    "tele[\"loc_og_t2c_mou_min\"] = tele[[\"loc_og_t2c_mou_6\",\"loc_og_t2c_mou_7\",\"loc_og_t2c_mou_8\"]].apply(char_min,axis=1)\n",
    "tele[\"loc_og_mou_min\"] = tele[[\"loc_og_mou_6\",\"loc_og_mou_7\",\"loc_og_mou_8\"]].apply(char_min,axis=1)\n",
    "tele[\"std_og_t2t_mou_min\"] = tele[[\"std_og_t2t_mou_6\",\"std_og_t2t_mou_7\",\"std_og_t2t_mou_8\"]].apply(char_min,axis=1)\n",
    "tele[\"std_og_t2f_mou_min\"] = tele[[\"std_og_t2f_mou_6\",\"std_og_t2f_mou_7\",\"std_og_t2f_mou_8\"]].apply(char_min,axis=1)\n",
    "tele[\"std_og_t2c_mou_min\"] = tele[[\"std_og_t2c_mou_6\",\"std_og_t2c_mou_7\",\"std_og_t2c_mou_8\"]].apply(char_min,axis=1)\n",
    "tele[\"isd_og_mou_min\"] = tele[[\"isd_og_mou_6\",\"isd_og_mou_7\",\"isd_og_mou_8\"]].apply(char_min,axis=1)\n",
    "tele[\"spl_og_mou_min\"] = tele[[\"spl_og_mou_6\",\"spl_og_mou_7\",\"spl_og_mou_8\"]].apply(char_min,axis=1)\n",
    "tele[\"og_others_min\"] = tele[[\"og_others_6\",\"og_others_7\",\"og_others_8\"]].apply(char_min,axis=1)\n",
    "tele[\"total_og_mou_min\"] = tele[[\"total_og_mou_6\",\"total_og_mou_7\",\"total_og_mou_8\"]].apply(char_min,axis=1)\n",
    "tele[\"loc_ic_t2t_mou_min\"] = tele[[\"loc_ic_t2t_mou_6\",\"loc_ic_t2t_mou_7\",\"loc_ic_t2t_mou_8\"]].apply(char_min,axis=1)\n",
    "tele[\"loc_ic_t2m_mou_min\"] = tele[[\"loc_ic_t2m_mou_6\",\"loc_ic_t2m_mou_7\",\"loc_ic_t2m_mou_8\"]].apply(char_min,axis=1)\n",
    "tele[\"loc_ic_t2f_mou_min\"] = tele[[\"loc_ic_t2f_mou_6\",\"loc_ic_t2f_mou_7\",\"loc_ic_t2f_mou_8\"]].apply(char_min,axis=1)\n",
    "tele[\"loc_ic_mou_min\"] = tele[[\"loc_ic_mou_6\",\"loc_ic_mou_7\",\"loc_ic_mou_8\"]].apply(char_min,axis=1)\n",
    "tele[\"std_ic_t2t_mou_min\"] = tele[[\"std_ic_t2t_mou_6\",\"std_ic_t2t_mou_7\",\"std_ic_t2t_mou_8\"]].apply(char_min,axis=1)\n",
    "tele[\"std_ic_t2m_mou_min\"] = tele[[\"std_ic_t2m_mou_6\",\"std_ic_t2m_mou_7\",\"std_ic_t2m_mou_8\"]].apply(char_min,axis=1)\n",
    "tele[\"std_ic_t2f_mou_min\"] = tele[[\"std_ic_t2f_mou_6\",\"std_ic_t2f_mou_7\",\"std_ic_t2f_mou_8\"]].apply(char_min,axis=1)\n",
    "tele[\"std_ic_t2o_mou_min\"] = tele[[\"std_ic_t2o_mou_6\",\"std_ic_t2o_mou_7\",\"std_ic_t2o_mou_8\"]].apply(char_min,axis=1)\n",
    "tele[\"std_ic_mou_min\"] = tele[[\"std_ic_mou_6\",\"std_ic_mou_7\",\"std_ic_mou_8\"]].apply(char_min,axis=1)\n",
    "tele[\"total_ic_mou_min\"] = tele[[\"total_ic_mou_6\",\"total_ic_mou_7\",\"total_ic_mou_8\"]].apply(char_min,axis=1)\n",
    "tele[\"spl_ic_mouminmin\"] = tele[[\"spl_ic_mou_6\",\"spl_ic_mou_7\",\"spl_ic_mou_8\"]].apply(char_min,axis=1)\n",
    "tele[\"isd_ic_mou_min\"] = tele[[\"isd_ic_mou_6\",\"isd_ic_mou_7\",\"isd_ic_mou_8\"]].apply(char_min,axis=1)\n",
    "tele[\"ic_others_min\"] = tele[[\"ic_others_6\",\"ic_others_7\",\"ic_others_8\"]].apply(char_min,axis=1)\n",
    "tele[\"total_rech_num_min\"] = tele[[\"total_rech_num_6\",\"total_rech_num_7\",\"total_rech_num_8\"]].apply(char_min,axis=1)\n",
    "tele[\"total_rech_amt_min\"] = tele[[\"total_rech_amt_6\",\"total_rech_amt_7\",\"total_rech_amt_8\"]].apply(char_min,axis=1)\n",
    "tele[\"max_rech_amt_min\"] = tele[[\"min_rech_amt_6\",\"min_rech_amt_7\",\"min_rech_amt_8\"]].apply(char_min,axis=1)\n",
    "tele[\"last_day_rch_amt_min\"] = tele[[\"last_day_rch_amt_6\",\"last_day_rch_amt_7\",\"last_day_rch_amt_8\"]].apply(char_min,axis=1)\n",
    "tele[\"total_rech_data_min\"] = tele[[\"total_rech_data_6\",\"total_rech_data_7\",\"total_rech_data_8\"]].apply(char_min,axis=1)\n",
    "tele[\"min_rech_data_min\"] = tele[[\"min_rech_data_6\",\"min_rech_data_7\",\"min_rech_data_8\"]].apply(char_min,axis=1)\n",
    "tele[\"count_rech_2g_min\"] = tele[[\"count_rech_2g_6\",\"count_rech_2g_7\",\"count_rech_2g_8\"]].apply(char_min,axis=1)\n",
    "tele[\"count_rech_3g_min\"] = tele[[\"count_rech_3g_6\",\"count_rech_3g_7\",\"count_rech_3g_8\"]].apply(char_min,axis=1)\n",
    "tele[\"av_rech_amt_data_min\"] = tele[[\"av_rech_amt_data_6\",\"av_rech_amt_data_7\",\"av_rech_amt_data_8\"]].apply(char_min,axis=1)\n",
    "tele[\"vol_2g_mb_min\"] = tele[[\"vol_2g_mb_6\",\"vol_2g_mb_7\",\"vol_2g_mb_8\"]].apply(char_min,axis=1)\n",
    "tele[\"vol_3g_mb_min\"] = tele[[\"vol_3g_mb_6\",\"vol_3g_mb_7\",\"vol_3g_mb_8\"]].apply(char_min,axis=1)\n",
    "tele[\"arpu_3g_min\"] = tele[[\"arpu_3g_6\",\"arpu_3g_7\",\"arpu_3g_8\"]].apply(char_min,axis=1)\n",
    "tele[\"arpu_2g_min\"] = tele[[\"arpu_2g_6\",\"arpu_2g_7\",\"arpu_2g_8\"]].apply(char_min,axis=1)\n",
    "tele[\"night_pck_user_min\"] = tele[[\"night_pck_user_6\",\"night_pck_user_7\",\"night_pck_user_8\"]].apply(char_min,axis=1)\n",
    "tele[\"monthly_2g_min\"] = tele[[\"monthly_2g_6\",\"monthly_2g_7\",\"monthly_2g_8\"]].apply(char_min,axis=1)\n",
    "tele[\"sachet_2g_min\"] = tele[[\"sachet_2g_6\",\"sachet_2g_7\",\"sachet_2g_8\"]].apply(char_min,axis=1)\n",
    "tele[\"monthly_3g_min\"] = tele[[\"monthly_3g_6\",\"monthly_3g_7\",\"monthly_3g_8\"]].apply(char_min,axis=1)\n",
    "tele[\"sachet_3g_min\"] = tele[[\"sachet_3g_6\",\"sachet_3g_7\",\"sachet_3g_8\"]].apply(char_min,axis=1)\n",
    "tele[\"fb_user_min\"] = tele[[\"fb_user_6\",\"fb_user_7\",\"fb_user_8\"]].apply(char_min,axis=1)\n",
    "tele[\"vbc_3g_min\"] = tele[[\"jun_vbc_3g\",\"jul_vbc_3g\",\"aug_vbc_3g\"]].apply(char_min,axis=1)"
   ]
  },
  {
   "cell_type": "code",
   "execution_count": null,
   "id": "1079944a",
   "metadata": {},
   "outputs": [],
   "source": [
    "tele.head()"
   ]
  },
  {
   "cell_type": "code",
   "execution_count": null,
   "id": "d3de34b1",
   "metadata": {},
   "outputs": [],
   "source": [
    "def MoM(x):\n",
    "    MoM=x[1]/x[0]\n",
    "    return MoM"
   ]
  },
  {
   "cell_type": "code",
   "execution_count": null,
   "id": "c7516382",
   "metadata": {},
   "outputs": [],
   "source": [
    "tele[\"Arpu_MoM\"] = tele[[\"arpu_8\",\"arpu_7\"]].apply(MoM,axis=1)\n",
    "tele[\"onnet_mou_MoM\"] = tele[[\"onnet_mou_8\",\"onnet_mou_7\"]].apply(MoM,axis=1)\n",
    "tele[\"offnet_mou_MoM\"] = tele[[\"offnet_mou_8\",\"offnet_mou_7\"]].apply(MoM,axis=1)\n",
    "tele[\"roam_ic_mou_MoM\"] = tele[[\"roam_ic_mou_8\",\"roam_ic_mou_7\"]].apply(MoM,axis=1)\n",
    "tele[\"roam_og_mou_MoM\"] = tele[[\"roam_og_mou_8\",\"roam_og_mou_7\"]].apply(MoM,axis=1)\n",
    "tele[\"loc_og_t2t_mou_MoM\"] = tele[[\"loc_og_t2t_mou_8\",\"loc_og_t2t_mou_7\"]].apply(MoM,axis=1)\n",
    "tele[\"loc_og_t2m_mou_MoM\"] = tele[[\"loc_og_t2m_mou_8\",\"loc_og_t2m_mou_7\"]].apply(MoM,axis=1)\n",
    "tele[\"loc_og_t2f_mou_MoM\"] = tele[[\"loc_og_t2f_mou_8\",\"loc_og_t2f_mou_7\"]].apply(MoM,axis=1)\n",
    "tele[\"loc_og_t2c_mou_MoM\"] = tele[[\"loc_og_t2c_mou_8\",\"loc_og_t2c_mou_7\"]].apply(MoM,axis=1)\n",
    "tele[\"loc_og_mou_MoM\"] = tele[[\"loc_og_mou_8\",\"loc_og_mou_7\"]].apply(MoM,axis=1)\n",
    "tele[\"std_og_t2t_mou_MoM\"] = tele[[\"std_og_t2t_mou_8\",\"std_og_t2t_mou_7\"]].apply(MoM,axis=1)\n",
    "tele[\"std_og_t2f_mou_MoM\"] = tele[[\"std_og_t2f_mou_8\",\"std_og_t2f_mou_7\"]].apply(MoM,axis=1)\n",
    "tele[\"std_og_t2c_mou_MoM\"] = tele[[\"std_og_t2c_mou_8\",\"std_og_t2c_mou_7\"]].apply(MoM,axis=1)\n",
    "tele[\"isd_og_mou_MoM\"] = tele[[\"isd_og_mou_8\",\"isd_og_mou_7\"]].apply(MoM,axis=1)\n",
    "tele[\"spl_og_mou_MoM\"] = tele[[\"spl_og_mou_8\",\"spl_og_mou_7\"]].apply(MoM,axis=1)\n",
    "tele[\"og_others_MoM\"] = tele[[\"og_others_8\",\"og_others_7\"]].apply(MoM,axis=1)\n",
    "tele[\"total_og_mou_MoM\"] = tele[[\"total_og_mou_8\",\"total_og_mou_7\"]].apply(MoM,axis=1)\n",
    "tele[\"loc_ic_t2t_mou_MoM\"] = tele[[\"loc_ic_t2t_mou_8\",\"loc_ic_t2t_mou_7\"]].apply(MoM,axis=1)\n",
    "tele[\"loc_ic_t2m_mou_MoM\"] = tele[[\"loc_ic_t2m_mou_8\",\"loc_ic_t2m_mou_7\"]].apply(MoM,axis=1)\n",
    "tele[\"loc_ic_t2f_mou_MoM\"] = tele[[\"loc_ic_t2f_mou_8\",\"loc_ic_t2f_mou_7\"]].apply(MoM,axis=1)\n",
    "tele[\"loc_ic_mou_MoM\"] = tele[[\"loc_ic_mou_8\",\"loc_ic_mou_7\"]].apply(MoM,axis=1)\n",
    "tele[\"std_ic_t2t_mou_MoM\"] = tele[[\"std_ic_t2t_mou_8\",\"std_ic_t2t_mou_7\"]].apply(MoM,axis=1)\n",
    "tele[\"std_ic_t2m_mou_MoM\"] = tele[[\"std_ic_t2m_mou_8\",\"std_ic_t2m_mou_7\"]].apply(MoM,axis=1)\n",
    "tele[\"std_ic_t2f_mou_MoM\"] = tele[[\"std_ic_t2f_mou_8\",\"std_ic_t2f_mou_7\"]].apply(MoM,axis=1)\n",
    "tele[\"std_ic_t2o_mou_MoM\"] = tele[[\"std_ic_t2o_mou_8\",\"std_ic_t2o_mou_7\"]].apply(MoM,axis=1)\n",
    "tele[\"std_ic_mou_MoM\"] = tele[[\"std_ic_mou_8\",\"std_ic_mou_7\"]].apply(MoM,axis=1)\n",
    "tele[\"total_ic_mou_MoM\"] = tele[[\"total_ic_mou_8\",\"total_ic_mou_7\"]].apply(MoM,axis=1)\n",
    "tele[\"spl_ic_mou-MoM\"] = tele[[\"spl_ic_mou_8\",\"spl_ic_mou_7\"]].apply(MoM,axis=1)\n",
    "tele[\"isd_ic_mou_MoM\"] = tele[[\"isd_ic_mou_8\",\"isd_ic_mou_7\"]].apply(MoM,axis=1)\n",
    "tele[\"ic_others_MoM\"] = tele[[\"ic_others_8\",\"ic_others_7\"]].apply(MoM,axis=1)\n",
    "tele[\"total_rech_num_MoM\"] = tele[[\"total_rech_num_8\",\"total_rech_num_7\"]].apply(MoM,axis=1)\n",
    "tele[\"total_rech_amt_MoM\"] = tele[[\"total_rech_amt_8\",\"total_rech_amt_7\"]].apply(MoM,axis=1)\n",
    "tele[\"max_rech_amt_MoM\"] = tele[[\"max_rech_amt_8\",\"max_rech_amt_7\"]].apply(MoM,axis=1)\n",
    "tele[\"last_day_rch_amt_MoM\"] = tele[[\"last_day_rch_amt_8\",\"last_day_rch_amt_7\"]].apply(MoM,axis=1)\n",
    "tele[\"total_rech_data_MoM\"] = tele[[\"total_rech_data_8\",\"total_rech_data_7\"]].apply(MoM,axis=1)\n",
    "tele[\"max_rech_data_MoM\"] = tele[[\"max_rech_data_8\",\"max_rech_data_7\"]].apply(MoM,axis=1)\n",
    "tele[\"count_rech_2g_MoM\"] = tele[[\"count_rech_2g_8\",\"count_rech_2g_7\"]].apply(MoM,axis=1)\n",
    "tele[\"count_rech_3g_MoM\"] = tele[[\"count_rech_3g_8\",\"count_rech_3g_7\"]].apply(MoM,axis=1)\n",
    "tele[\"av_rech_amt_data_MoM\"] = tele[[\"av_rech_amt_data_8\",\"av_rech_amt_data_7\"]].apply(MoM,axis=1)\n",
    "tele[\"vol_2g_mb_MoM\"] = tele[[\"vol_2g_mb_8\",\"vol_2g_mb_7\"]].apply(MoM,axis=1)\n",
    "tele[\"vol_3g_mb_MoM\"] = tele[[\"vol_3g_mb_8\",\"vol_3g_mb_7\"]].apply(MoM,axis=1)\n",
    "tele[\"arpu_3g_MoM\"] = tele[[\"arpu_3g_8\",\"arpu_3g_7\"]].apply(MoM,axis=1)\n",
    "tele[\"arpu_2g_MoM\"] = tele[[\"arpu_2g_8\",\"arpu_2g_7\"]].apply(MoM,axis=1)\n",
    "tele[\"night_pck_user_MoM\"] = tele[[\"night_pck_user_8\",\"night_pck_user_7\"]].apply(MoM,axis=1)\n",
    "tele[\"monthly_2g_MoM\"] = tele[[\"monthly_2g_8\",\"monthly_2g_7\"]].apply(MoM,axis=1)\n",
    "tele[\"sachet_2g_MoM\"] = tele[[\"sachet_2g_8\",\"sachet_2g_7\"]].apply(MoM,axis=1)\n",
    "tele[\"monthly_3g_MoM\"] = tele[[\"monthly_3g_8\",\"monthly_3g_7\"]].apply(MoM,axis=1)\n",
    "tele[\"sachet_3g_MoM\"] = tele[[\"sachet_3g_8\",\"sachet_3g_7\"]].apply(MoM,axis=1)\n",
    "tele[\"fb_user_MoM\"] = tele[[\"fb_user_8\",\"fb_user_7\"]].apply(MoM,axis=1)\n",
    "tele[\"vbc_3g_MoM\"] = tele[[\"aug_vbc_3g\",\"jul_vbc_3g\"]].apply(MoM,axis=1)"
   ]
  },
  {
   "cell_type": "code",
   "execution_count": null,
   "id": "2e48eaeb",
   "metadata": {},
   "outputs": [],
   "source": [
    "tele.head()"
   ]
  },
  {
   "cell_type": "code",
   "execution_count": null,
   "id": "4e9981a9",
   "metadata": {},
   "outputs": [],
   "source": [
    "def Moq(x):\n",
    "    Moq = x[0]/x[0]+x[1]+x[2]/3\n",
    "    return Moq"
   ]
  },
  {
   "cell_type": "code",
   "execution_count": null,
   "id": "6349f8eb",
   "metadata": {},
   "outputs": [],
   "source": [
    "tele[\"Arpu_Moq\"] = tele[[\"arpu_6\",\"arpu_7\",\"arpu_8\"]].apply(Moq,axis=1)\n",
    "tele[\"onnet_mou_Moq\"] = tele[[\"onnet_mou_6\",\"onnet_mou_7\",\"onnet_mou_8\"]].apply(Moq,axis=1)\n",
    "tele[\"offnet_mou_Moq\"] = tele[[\"offnet_mou_6\",\"offnet_mou_7\",\"offnet_mou_8\"]].apply(Moq,axis=1)\n",
    "tele[\"roam_ic_mou_Moq\"] = tele[[\"roam_ic_mou_6\",\"roam_ic_mou_7\",\"roam_ic_mou_8\"]].apply(Moq,axis=1)\n",
    "tele[\"roam_og_mou_Moq\"] = tele[[\"roam_og_mou_6\",\"roam_og_mou_7\",\"roam_og_mou_8\"]].apply(Moq,axis=1)\n",
    "tele[\"loc_og_t2t_mou_Moq\"] = tele[[\"loc_og_t2t_mou_6\",\"loc_og_t2t_mou_7\",\"loc_og_t2t_mou_8\"]].apply(Moq,axis=1)\n",
    "tele[\"loc_og_t2m_mou_Moq\"] = tele[[\"loc_og_t2m_mou_6\",\"loc_og_t2m_mou_7\",\"loc_og_t2m_mou_8\"]].apply(Moq,axis=1)\n",
    "tele[\"loc_og_t2f_mou_Moq\"] = tele[[\"loc_og_t2f_mou_6\",\"loc_og_t2f_mou_7\",\"loc_og_t2f_mou_8\"]].apply(Moq,axis=1)\n",
    "tele[\"loc_og_t2c_mou_Moq\"] = tele[[\"loc_og_t2c_mou_6\",\"loc_og_t2c_mou_7\",\"loc_og_t2c_mou_8\"]].apply(Moq,axis=1)\n",
    "tele[\"loc_og_mou_Moq\"] = tele[[\"loc_og_mou_6\",\"loc_og_mou_7\",\"loc_og_mou_8\"]].apply(Moq,axis=1)\n",
    "tele[\"std_og_t2t_mou_Moq\"] = tele[[\"std_og_t2t_mou_6\",\"std_og_t2t_mou_7\",\"std_og_t2t_mou_8\"]].apply(Moq,axis=1)\n",
    "tele[\"std_og_t2f_mou_Moq\"] = tele[[\"std_og_t2f_mou_6\",\"std_og_t2f_mou_7\",\"std_og_t2f_mou_8\"]].apply(Moq,axis=1)\n",
    "tele[\"std_og_t2c_mou_Moq\"] = tele[[\"std_og_t2c_mou_6\",\"std_og_t2c_mou_7\",\"std_og_t2c_mou_8\"]].apply(Moq,axis=1)\n",
    "tele[\"isd_og_mou_Moq\"] = tele[[\"isd_og_mou_6\",\"isd_og_mou_7\",\"isd_og_mou_8\"]].apply(Moq,axis=1)\n",
    "tele[\"spl_og_mou_Moq\"] = tele[[\"spl_og_mou_6\",\"spl_og_mou_7\",\"spl_og_mou_8\"]].apply(Moq,axis=1)\n",
    "tele[\"og_others_Moq\"] = tele[[\"og_others_6\",\"og_others_7\",\"og_others_8\"]].apply(Moq,axis=1)\n",
    "tele[\"total_og_mou_Moq\"] = tele[[\"total_og_mou_6\",\"total_og_mou_7\",\"total_og_mou_8\"]].apply(Moq,axis=1)\n",
    "tele[\"loc_ic_t2t_mou_Moq\"] = tele[[\"loc_ic_t2t_mou_6\",\"loc_ic_t2t_mou_7\",\"loc_ic_t2t_mou_8\"]].apply(Moq,axis=1)\n",
    "tele[\"loc_ic_t2m_mou_Moq\"] = tele[[\"loc_ic_t2m_mou_6\",\"loc_ic_t2m_mou_7\",\"loc_ic_t2m_mou_8\"]].apply(Moq,axis=1)\n",
    "tele[\"loc_ic_t2f_mou_Moq\"] = tele[[\"loc_ic_t2f_mou_6\",\"loc_ic_t2f_mou_7\",\"loc_ic_t2f_mou_8\"]].apply(Moq,axis=1)\n",
    "tele[\"loc_ic_mou_Moq\"] = tele[[\"loc_ic_mou_6\",\"loc_ic_mou_7\",\"loc_ic_mou_8\"]].apply(Moq,axis=1)\n",
    "tele[\"std_ic_t2t_mou_Moq\"] = tele[[\"std_ic_t2t_mou_6\",\"std_ic_t2t_mou_7\",\"std_ic_t2t_mou_8\"]].apply(Moq,axis=1)\n",
    "tele[\"std_ic_t2m_mou_Moq\"] = tele[[\"std_ic_t2m_mou_6\",\"std_ic_t2m_mou_7\",\"std_ic_t2m_mou_8\"]].apply(Moq,axis=1)\n",
    "tele[\"std_ic_t2f_mou_Moq\"] = tele[[\"std_ic_t2f_mou_6\",\"std_ic_t2f_mou_7\",\"std_ic_t2f_mou_8\"]].apply(Moq,axis=1)\n",
    "tele[\"std_ic_t2o_mou_Moq\"] = tele[[\"std_ic_t2o_mou_6\",\"std_ic_t2o_mou_7\",\"std_ic_t2o_mou_8\"]].apply(Moq,axis=1)\n",
    "tele[\"std_ic_mou_Moq\"] = tele[[\"std_ic_mou_6\",\"std_ic_mou_7\",\"std_ic_mou_8\"]].apply(Moq,axis=1)\n",
    "tele[\"total_ic_mou_Moq\"] = tele[[\"total_ic_mou_6\",\"total_ic_mou_7\",\"total_ic_mou_8\"]].apply(Moq,axis=1)\n",
    "tele[\"spl_ic_mouMoqMoq\"] = tele[[\"spl_ic_mou_6\",\"spl_ic_mou_7\",\"spl_ic_mou_8\"]].apply(Moq,axis=1)\n",
    "tele[\"isd_ic_mou_Moq\"] = tele[[\"isd_ic_mou_6\",\"isd_ic_mou_7\",\"isd_ic_mou_8\"]].apply(Moq,axis=1)\n",
    "tele[\"ic_others_Moq\"] = tele[[\"ic_others_6\",\"ic_others_7\",\"ic_others_8\"]].apply(Moq,axis=1)\n",
    "tele[\"total_rech_num_Moq\"] = tele[[\"total_rech_num_6\",\"total_rech_num_7\",\"total_rech_num_8\"]].apply(Moq,axis=1)\n",
    "tele[\"total_rech_amt_Moq\"] = tele[[\"total_rech_amt_6\",\"total_rech_amt_7\",\"total_rech_amt_8\"]].apply(Moq,axis=1)\n",
    "tele[\"max_rech_amt_Moq\"] = tele[[\"max_rech_amt_6\",\"max_rech_amt_7\",\"max_rech_amt_8\"]].apply(Moq,axis=1)\n",
    "tele[\"last_day_rch_amt_Moq\"] = tele[[\"last_day_rch_amt_6\",\"last_day_rch_amt_7\",\"last_day_rch_amt_8\"]].apply(Moq,axis=1)\n",
    "tele[\"total_rech_data_Moq\"] = tele[[\"total_rech_data_6\",\"total_rech_data_7\",\"total_rech_data_8\"]].apply(Moq,axis=1)\n",
    "tele[\"max_rech_data_Moq\"] = tele[[\"max_rech_data_6\",\"max_rech_data_7\",\"max_rech_data_8\"]].apply(Moq,axis=1)\n",
    "tele[\"count_rech_2g_Moq\"] = tele[[\"count_rech_2g_6\",\"count_rech_2g_7\",\"count_rech_2g_8\"]].apply(Moq,axis=1)\n",
    "tele[\"count_rech_3g_Moq\"] = tele[[\"count_rech_3g_6\",\"count_rech_3g_7\",\"count_rech_3g_8\"]].apply(Moq,axis=1)\n",
    "tele[\"av_rech_amt_data_Moq\"] = tele[[\"av_rech_amt_data_6\",\"av_rech_amt_data_7\",\"av_rech_amt_data_8\"]].apply(Moq,axis=1)\n",
    "tele[\"vol_2g_mb_Moq\"] = tele[[\"vol_2g_mb_6\",\"vol_2g_mb_7\",\"vol_2g_mb_8\"]].apply(Moq,axis=1)\n",
    "tele[\"vol_3g_mb_Moq\"] = tele[[\"vol_3g_mb_6\",\"vol_3g_mb_7\",\"vol_3g_mb_8\"]].apply(Moq,axis=1)\n",
    "tele[\"arpu_3g_Moq\"] = tele[[\"arpu_3g_6\",\"arpu_3g_7\",\"arpu_3g_8\"]].apply(Moq,axis=1)\n",
    "tele[\"arpu_2g_Moq\"] = tele[[\"arpu_2g_6\",\"arpu_2g_7\",\"arpu_2g_8\"]].apply(Moq,axis=1)\n",
    "tele[\"night_pck_user_Moq\"] = tele[[\"night_pck_user_6\",\"night_pck_user_7\",\"night_pck_user_8\"]].apply(Moq,axis=1)\n",
    "tele[\"monthly_2g_Moq\"] = tele[[\"monthly_2g_6\",\"monthly_2g_7\",\"monthly_2g_8\"]].apply(Moq,axis=1)\n",
    "tele[\"sachet_2g_Moq\"] = tele[[\"sachet_2g_6\",\"sachet_2g_7\",\"sachet_2g_8\"]].apply(Moq,axis=1)\n",
    "tele[\"monthly_3g_Moq\"] = tele[[\"monthly_3g_6\",\"monthly_3g_7\",\"monthly_3g_8\"]].apply(Moq,axis=1)\n",
    "tele[\"sachet_3g_Moq\"] = tele[[\"sachet_3g_6\",\"sachet_3g_7\",\"sachet_3g_8\"]].apply(Moq,axis=1)\n",
    "tele[\"fb_user_Moq\"] = tele[[\"fb_user_6\",\"fb_user_7\",\"fb_user_8\"]].apply(Moq,axis=1)\n",
    "tele[\"vbc_3g_Moq\"] = tele[[\"jun_vbc_3g\",\"jul_vbc_3g\",\"aug_vbc_3g\"]].apply(Moq,axis=1)"
   ]
  },
  {
   "cell_type": "code",
   "execution_count": null,
   "id": "7e1498e6",
   "metadata": {},
   "outputs": [],
   "source": [
    "tele.head()"
   ]
  },
  {
   "cell_type": "code",
   "execution_count": null,
   "id": "b711b445",
   "metadata": {},
   "outputs": [],
   "source": []
  }
 ],
 "metadata": {
  "kernelspec": {
   "display_name": "Python 3",
   "language": "python",
   "name": "python3"
  },
  "language_info": {
   "codemirror_mode": {
    "name": "ipython",
    "version": 3
   },
   "file_extension": ".py",
   "mimetype": "text/x-python",
   "name": "python",
   "nbconvert_exporter": "python",
   "pygments_lexer": "ipython3",
   "version": "3.8.8"
  }
 },
 "nbformat": 4,
 "nbformat_minor": 5
}
