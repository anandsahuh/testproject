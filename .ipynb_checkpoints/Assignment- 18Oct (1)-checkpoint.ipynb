{
 "cells": [
  {
   "cell_type": "code",
   "execution_count": 400,
   "metadata": {},
   "outputs": [],
   "source": [
    "# Import the Payroll data to complete the following excerceise\n",
    "import os,numpy as np\n",
    "import pandas as pd"
   ]
  },
  {
   "cell_type": "code",
   "execution_count": 401,
   "metadata": {},
   "outputs": [],
   "source": [
    "from datetime import date\n",
    "from datetime import time\n",
    "from datetime import datetime\n",
    "\n",
    "import warnings\n",
    "warnings.filterwarnings(\"ignore\")"
   ]
  },
  {
   "cell_type": "code",
   "execution_count": 402,
   "metadata": {},
   "outputs": [],
   "source": [
    "os.chdir('E:\\ml folder\\data')"
   ]
  },
  {
   "cell_type": "code",
   "execution_count": 403,
   "metadata": {},
   "outputs": [],
   "source": [
    "payroll=pd.read_csv('payroll2.csv')"
   ]
  },
  {
   "cell_type": "code",
   "execution_count": 404,
   "metadata": {},
   "outputs": [
    {
     "data": {
      "text/html": [
       "<div>\n",
       "<style scoped>\n",
       "    .dataframe tbody tr th:only-of-type {\n",
       "        vertical-align: middle;\n",
       "    }\n",
       "\n",
       "    .dataframe tbody tr th {\n",
       "        vertical-align: top;\n",
       "    }\n",
       "\n",
       "    .dataframe thead th {\n",
       "        text-align: right;\n",
       "    }\n",
       "</style>\n",
       "<table border=\"1\" class=\"dataframe\">\n",
       "  <thead>\n",
       "    <tr style=\"text-align: right;\">\n",
       "      <th></th>\n",
       "      <th>Unnamed: 0</th>\n",
       "      <th>Employee_ID</th>\n",
       "      <th>Employee_Gender</th>\n",
       "      <th>Salary</th>\n",
       "      <th>Birth_Date</th>\n",
       "      <th>Employee_Hire_Date</th>\n",
       "      <th>Dependents</th>\n",
       "      <th>avg_sal_per_head</th>\n",
       "      <th>test</th>\n",
       "    </tr>\n",
       "  </thead>\n",
       "  <tbody>\n",
       "    <tr>\n",
       "      <th>0</th>\n",
       "      <td>0</td>\n",
       "      <td>120101</td>\n",
       "      <td>M</td>\n",
       "      <td>163040</td>\n",
       "      <td>8/18/1978</td>\n",
       "      <td>7/1/2005</td>\n",
       "      <td>0</td>\n",
       "      <td>inf</td>\n",
       "      <td>inf</td>\n",
       "    </tr>\n",
       "    <tr>\n",
       "      <th>1</th>\n",
       "      <td>1</td>\n",
       "      <td>120102</td>\n",
       "      <td>M</td>\n",
       "      <td>108255</td>\n",
       "      <td>8/11/1971</td>\n",
       "      <td>6/1/1991</td>\n",
       "      <td>2</td>\n",
       "      <td>54128.0</td>\n",
       "      <td>54128.0</td>\n",
       "    </tr>\n",
       "    <tr>\n",
       "      <th>2</th>\n",
       "      <td>2</td>\n",
       "      <td>120103</td>\n",
       "      <td>M</td>\n",
       "      <td>87975</td>\n",
       "      <td>1/22/1951</td>\n",
       "      <td>1/1/1976</td>\n",
       "      <td>1</td>\n",
       "      <td>87975.0</td>\n",
       "      <td>87975.0</td>\n",
       "    </tr>\n",
       "    <tr>\n",
       "      <th>3</th>\n",
       "      <td>3</td>\n",
       "      <td>120104</td>\n",
       "      <td>F</td>\n",
       "      <td>46230</td>\n",
       "      <td>5/11/1956</td>\n",
       "      <td>1/1/1983</td>\n",
       "      <td>1</td>\n",
       "      <td>46230.0</td>\n",
       "      <td>46230.0</td>\n",
       "    </tr>\n",
       "    <tr>\n",
       "      <th>4</th>\n",
       "      <td>4</td>\n",
       "      <td>120105</td>\n",
       "      <td>F</td>\n",
       "      <td>27110</td>\n",
       "      <td>12/21/1976</td>\n",
       "      <td>5/1/2001</td>\n",
       "      <td>0</td>\n",
       "      <td>inf</td>\n",
       "      <td>inf</td>\n",
       "    </tr>\n",
       "  </tbody>\n",
       "</table>\n",
       "</div>"
      ],
      "text/plain": [
       "   Unnamed: 0  Employee_ID Employee_Gender  Salary  Birth_Date  \\\n",
       "0           0       120101               M  163040   8/18/1978   \n",
       "1           1       120102               M  108255   8/11/1971   \n",
       "2           2       120103               M   87975   1/22/1951   \n",
       "3           3       120104               F   46230   5/11/1956   \n",
       "4           4       120105               F   27110  12/21/1976   \n",
       "\n",
       "  Employee_Hire_Date  Dependents  avg_sal_per_head     test  \n",
       "0           7/1/2005           0               inf      inf  \n",
       "1           6/1/1991           2           54128.0  54128.0  \n",
       "2           1/1/1976           1           87975.0  87975.0  \n",
       "3           1/1/1983           1           46230.0  46230.0  \n",
       "4           5/1/2001           0               inf      inf  "
      ]
     },
     "execution_count": 404,
     "metadata": {},
     "output_type": "execute_result"
    }
   ],
   "source": [
    "payroll.head()"
   ]
  },
  {
   "cell_type": "code",
   "execution_count": 405,
   "metadata": {},
   "outputs": [],
   "source": [
    "#Q1 import nortel dataset create m1,m2,m3 upto m12  monthly datasets based on Reg_date\n",
    "nortel = pd.read_excel(\"nortel.xlsx\")"
   ]
  },
  {
   "cell_type": "code",
   "execution_count": 406,
   "metadata": {
    "scrolled": true
   },
   "outputs": [
    {
     "data": {
      "text/html": [
       "<div>\n",
       "<style scoped>\n",
       "    .dataframe tbody tr th:only-of-type {\n",
       "        vertical-align: middle;\n",
       "    }\n",
       "\n",
       "    .dataframe tbody tr th {\n",
       "        vertical-align: top;\n",
       "    }\n",
       "\n",
       "    .dataframe thead th {\n",
       "        text-align: right;\n",
       "    }\n",
       "</style>\n",
       "<table border=\"1\" class=\"dataframe\">\n",
       "  <thead>\n",
       "    <tr style=\"text-align: right;\">\n",
       "      <th></th>\n",
       "      <th>Unnamed: 0</th>\n",
       "      <th>Acc_no</th>\n",
       "      <th>REG_No</th>\n",
       "      <th>Reg_date</th>\n",
       "      <th>Comp_date</th>\n",
       "      <th>Month_year</th>\n",
       "      <th>RP</th>\n",
       "      <th>RS</th>\n",
       "      <th>Unit</th>\n",
       "      <th>IR</th>\n",
       "      <th>...</th>\n",
       "      <th>t_respond</th>\n",
       "      <th>Understand</th>\n",
       "      <th>t_resolve</th>\n",
       "      <th>s_equipment</th>\n",
       "      <th>s_Del</th>\n",
       "      <th>speak</th>\n",
       "      <th>adv_status</th>\n",
       "      <th>overallper_sat</th>\n",
       "      <th>t_respond_sat</th>\n",
       "      <th>understand_sat</th>\n",
       "    </tr>\n",
       "  </thead>\n",
       "  <tbody>\n",
       "    <tr>\n",
       "      <th>0</th>\n",
       "      <td>0</td>\n",
       "      <td>CST-H514-H3H</td>\n",
       "      <td>NaN</td>\n",
       "      <td>2004-05-14</td>\n",
       "      <td>2005-05-25</td>\n",
       "      <td>2005-05</td>\n",
       "      <td>4 - L</td>\n",
       "      <td>4-C_problem</td>\n",
       "      <td>GPK</td>\n",
       "      <td>Solved</td>\n",
       "      <td>...</td>\n",
       "      <td>60</td>\n",
       "      <td>60</td>\n",
       "      <td>60</td>\n",
       "      <td>NaN</td>\n",
       "      <td>NaN</td>\n",
       "      <td>60.0</td>\n",
       "      <td>60.0</td>\n",
       "      <td>NaN</td>\n",
       "      <td>NaN</td>\n",
       "      <td>NaN</td>\n",
       "    </tr>\n",
       "    <tr>\n",
       "      <th>1</th>\n",
       "      <td>1</td>\n",
       "      <td>CST-H7H6-HH28</td>\n",
       "      <td>CZK3B39B</td>\n",
       "      <td>2004-06-07</td>\n",
       "      <td>2005-08-06</td>\n",
       "      <td>2005-06</td>\n",
       "      <td>3 - M</td>\n",
       "      <td>3-Minor</td>\n",
       "      <td>GPK</td>\n",
       "      <td>Solved</td>\n",
       "      <td>...</td>\n",
       "      <td>90</td>\n",
       "      <td>90</td>\n",
       "      <td>90</td>\n",
       "      <td>NaN</td>\n",
       "      <td>80.0</td>\n",
       "      <td>90.0</td>\n",
       "      <td>90.0</td>\n",
       "      <td>1.0</td>\n",
       "      <td>1.0</td>\n",
       "      <td>1.0</td>\n",
       "    </tr>\n",
       "    <tr>\n",
       "      <th>2</th>\n",
       "      <td>2</td>\n",
       "      <td>CST-H9H1-HH86</td>\n",
       "      <td>NaN</td>\n",
       "      <td>2004-01-09</td>\n",
       "      <td>2005-03-05</td>\n",
       "      <td>2005-05</td>\n",
       "      <td>3 - M</td>\n",
       "      <td>4-C_problem</td>\n",
       "      <td>RPLCDS</td>\n",
       "      <td>Solved</td>\n",
       "      <td>...</td>\n",
       "      <td>100</td>\n",
       "      <td>100</td>\n",
       "      <td>50</td>\n",
       "      <td>NaN</td>\n",
       "      <td>NaN</td>\n",
       "      <td>90.0</td>\n",
       "      <td>100.0</td>\n",
       "      <td>0.0</td>\n",
       "      <td>1.0</td>\n",
       "      <td>1.0</td>\n",
       "    </tr>\n",
       "    <tr>\n",
       "      <th>3</th>\n",
       "      <td>3</td>\n",
       "      <td>CST-1H29-H233</td>\n",
       "      <td>NaN</td>\n",
       "      <td>2004-10-29</td>\n",
       "      <td>2005-05-27</td>\n",
       "      <td>2005-05</td>\n",
       "      <td>2 - H</td>\n",
       "      <td>2-Major</td>\n",
       "      <td>RPLCDS</td>\n",
       "      <td>Solved</td>\n",
       "      <td>...</td>\n",
       "      <td>90</td>\n",
       "      <td>90</td>\n",
       "      <td>80</td>\n",
       "      <td>NaN</td>\n",
       "      <td>NaN</td>\n",
       "      <td>80.0</td>\n",
       "      <td>80.0</td>\n",
       "      <td>NaN</td>\n",
       "      <td>1.0</td>\n",
       "      <td>1.0</td>\n",
       "    </tr>\n",
       "    <tr>\n",
       "      <th>4</th>\n",
       "      <td>4</td>\n",
       "      <td>CST-11H2-H312</td>\n",
       "      <td>CZK26998</td>\n",
       "      <td>2004-02-11</td>\n",
       "      <td>2005-09-05</td>\n",
       "      <td>2005-05</td>\n",
       "      <td>3 - M</td>\n",
       "      <td>3-Minor</td>\n",
       "      <td>GPK</td>\n",
       "      <td>Solved</td>\n",
       "      <td>...</td>\n",
       "      <td>80</td>\n",
       "      <td>80</td>\n",
       "      <td>10</td>\n",
       "      <td>NaN</td>\n",
       "      <td>100.0</td>\n",
       "      <td>90.0</td>\n",
       "      <td>90.0</td>\n",
       "      <td>0.0</td>\n",
       "      <td>1.0</td>\n",
       "      <td>1.0</td>\n",
       "    </tr>\n",
       "  </tbody>\n",
       "</table>\n",
       "<p>5 rows × 22 columns</p>\n",
       "</div>"
      ],
      "text/plain": [
       "   Unnamed: 0         Acc_no    REG_No   Reg_date  Comp_date Month_year  \\\n",
       "0           0   CST-H514-H3H       NaN 2004-05-14 2005-05-25    2005-05   \n",
       "1           1  CST-H7H6-HH28  CZK3B39B 2004-06-07 2005-08-06    2005-06   \n",
       "2           2  CST-H9H1-HH86       NaN 2004-01-09 2005-03-05    2005-05   \n",
       "3           3  CST-1H29-H233       NaN 2004-10-29 2005-05-27    2005-05   \n",
       "4           4  CST-11H2-H312  CZK26998 2004-02-11 2005-09-05    2005-05   \n",
       "\n",
       "      RP           RS    Unit      IR  ... t_respond  Understand  t_resolve  \\\n",
       "0  4 - L  4-C_problem     GPK  Solved  ...        60          60         60   \n",
       "1  3 - M      3-Minor     GPK  Solved  ...        90          90         90   \n",
       "2  3 - M  4-C_problem  RPLCDS  Solved  ...       100         100         50   \n",
       "3  2 - H      2-Major  RPLCDS  Solved  ...        90          90         80   \n",
       "4  3 - M      3-Minor     GPK  Solved  ...        80          80         10   \n",
       "\n",
       "   s_equipment  s_Del  speak  adv_status  overallper_sat  t_respond_sat  \\\n",
       "0          NaN    NaN   60.0        60.0             NaN            NaN   \n",
       "1          NaN   80.0   90.0        90.0             1.0            1.0   \n",
       "2          NaN    NaN   90.0       100.0             0.0            1.0   \n",
       "3          NaN    NaN   80.0        80.0             NaN            1.0   \n",
       "4          NaN  100.0   90.0        90.0             0.0            1.0   \n",
       "\n",
       "   understand_sat  \n",
       "0             NaN  \n",
       "1             1.0  \n",
       "2             1.0  \n",
       "3             1.0  \n",
       "4             1.0  \n",
       "\n",
       "[5 rows x 22 columns]"
      ]
     },
     "execution_count": 406,
     "metadata": {},
     "output_type": "execute_result"
    }
   ],
   "source": [
    "nortel.head()"
   ]
  },
  {
   "cell_type": "code",
   "execution_count": 407,
   "metadata": {
    "scrolled": false
   },
   "outputs": [
    {
     "data": {
      "text/plain": [
       "Index(['Unnamed: 0', 'Acc_no', 'REG_No', 'Reg_date', 'Comp_date', 'Month_year',\n",
       "       'RP', 'RS', 'Unit', 'IR', 'Performance', 'OverallPer', 't_respond',\n",
       "       'Understand', 't_resolve', 's_equipment', 's_Del', 'speak',\n",
       "       'adv_status', 'overallper_sat', 't_respond_sat', 'understand_sat'],\n",
       "      dtype='object')"
      ]
     },
     "execution_count": 407,
     "metadata": {},
     "output_type": "execute_result"
    }
   ],
   "source": [
    "nortel.columns"
   ]
  },
  {
   "cell_type": "code",
   "execution_count": 423,
   "metadata": {},
   "outputs": [],
   "source": [
    "nortel.drop(['s_equipment'],axis=1,inplace=True)"
   ]
  },
  {
   "cell_type": "code",
   "execution_count": 424,
   "metadata": {},
   "outputs": [
    {
     "data": {
      "text/plain": [
       "(3144, 21)"
      ]
     },
     "execution_count": 424,
     "metadata": {},
     "output_type": "execute_result"
    }
   ],
   "source": [
    "nortel.shape"
   ]
  },
  {
   "cell_type": "code",
   "execution_count": 425,
   "metadata": {},
   "outputs": [],
   "source": [
    "nortel[\"Reg_date\"]=pd.to_datetime(nortel[\"Reg_date\"])"
   ]
  },
  {
   "cell_type": "code",
   "execution_count": 426,
   "metadata": {},
   "outputs": [],
   "source": [
    "nortel_M1 = nortel[nortel.Reg_date.dt.month.isin([1])]"
   ]
  },
  {
   "cell_type": "code",
   "execution_count": 427,
   "metadata": {},
   "outputs": [
    {
     "data": {
      "text/plain": [
       "(213, 21)"
      ]
     },
     "execution_count": 427,
     "metadata": {},
     "output_type": "execute_result"
    }
   ],
   "source": [
    "nortel_M1.shape"
   ]
  },
  {
   "cell_type": "code",
   "execution_count": 428,
   "metadata": {},
   "outputs": [],
   "source": [
    "M1=nortel_M1.dropna()"
   ]
  },
  {
   "cell_type": "code",
   "execution_count": 429,
   "metadata": {},
   "outputs": [],
   "source": [
    "M1=nortel_M1.dropna()"
   ]
  },
  {
   "cell_type": "code",
   "execution_count": 430,
   "metadata": {},
   "outputs": [
    {
     "data": {
      "text/plain": [
       "(21, 21)"
      ]
     },
     "execution_count": 430,
     "metadata": {},
     "output_type": "execute_result"
    }
   ],
   "source": [
    "M1.shape"
   ]
  },
  {
   "cell_type": "code",
   "execution_count": 431,
   "metadata": {},
   "outputs": [],
   "source": [
    "nortel_M2 = nortel[nortel.Reg_date.dt.month.isin([2])]"
   ]
  },
  {
   "cell_type": "code",
   "execution_count": 432,
   "metadata": {},
   "outputs": [
    {
     "data": {
      "text/plain": [
       "(143, 21)"
      ]
     },
     "execution_count": 432,
     "metadata": {},
     "output_type": "execute_result"
    }
   ],
   "source": [
    "nortel_M2.shape"
   ]
  },
  {
   "cell_type": "code",
   "execution_count": 433,
   "metadata": {},
   "outputs": [],
   "source": [
    "M2 = nortel_M2.dropna()"
   ]
  },
  {
   "cell_type": "code",
   "execution_count": 434,
   "metadata": {},
   "outputs": [
    {
     "data": {
      "text/plain": [
       "(18, 21)"
      ]
     },
     "execution_count": 434,
     "metadata": {},
     "output_type": "execute_result"
    }
   ],
   "source": [
    "M2.shape"
   ]
  },
  {
   "cell_type": "code",
   "execution_count": 435,
   "metadata": {},
   "outputs": [],
   "source": [
    "nortel_M3 = nortel[nortel.Reg_date.dt.month.isin([3])]\n"
   ]
  },
  {
   "cell_type": "code",
   "execution_count": 436,
   "metadata": {},
   "outputs": [
    {
     "data": {
      "text/plain": [
       "(141, 21)"
      ]
     },
     "execution_count": 436,
     "metadata": {},
     "output_type": "execute_result"
    }
   ],
   "source": [
    "nortel_M3.shape"
   ]
  },
  {
   "cell_type": "code",
   "execution_count": 437,
   "metadata": {},
   "outputs": [],
   "source": [
    "M3 = nortel_M3.dropna()"
   ]
  },
  {
   "cell_type": "code",
   "execution_count": 438,
   "metadata": {},
   "outputs": [
    {
     "data": {
      "text/plain": [
       "(9, 21)"
      ]
     },
     "execution_count": 438,
     "metadata": {},
     "output_type": "execute_result"
    }
   ],
   "source": [
    "M3.shape"
   ]
  },
  {
   "cell_type": "code",
   "execution_count": 439,
   "metadata": {},
   "outputs": [
    {
     "data": {
      "text/plain": [
       "(172, 21)"
      ]
     },
     "execution_count": 439,
     "metadata": {},
     "output_type": "execute_result"
    }
   ],
   "source": [
    "nortel_M4 = nortel[nortel.Reg_date.dt.month.isin([4])]\n",
    "nortel_M4.shape"
   ]
  },
  {
   "cell_type": "code",
   "execution_count": 440,
   "metadata": {},
   "outputs": [],
   "source": [
    "M4 = nortel_M4.dropna()"
   ]
  },
  {
   "cell_type": "code",
   "execution_count": 441,
   "metadata": {},
   "outputs": [
    {
     "data": {
      "text/plain": [
       "(23, 21)"
      ]
     },
     "execution_count": 441,
     "metadata": {},
     "output_type": "execute_result"
    }
   ],
   "source": [
    "M4.shape"
   ]
  },
  {
   "cell_type": "code",
   "execution_count": 442,
   "metadata": {},
   "outputs": [
    {
     "data": {
      "text/plain": [
       "(229, 21)"
      ]
     },
     "execution_count": 442,
     "metadata": {},
     "output_type": "execute_result"
    }
   ],
   "source": [
    "nortel_M5 = nortel[nortel.Reg_date.dt.month.isin([5])]\n",
    "nortel_M5.shape"
   ]
  },
  {
   "cell_type": "code",
   "execution_count": 443,
   "metadata": {},
   "outputs": [
    {
     "data": {
      "text/plain": [
       "(30, 21)"
      ]
     },
     "execution_count": 443,
     "metadata": {},
     "output_type": "execute_result"
    }
   ],
   "source": [
    "M5 = nortel_M5.dropna()\n",
    "M5.shape"
   ]
  },
  {
   "cell_type": "code",
   "execution_count": 444,
   "metadata": {},
   "outputs": [
    {
     "data": {
      "text/plain": [
       "(276, 21)"
      ]
     },
     "execution_count": 444,
     "metadata": {},
     "output_type": "execute_result"
    }
   ],
   "source": [
    "nortel_M6 = nortel[nortel.Reg_date.dt.month.isin([6])]\n",
    "nortel_M6.shape"
   ]
  },
  {
   "cell_type": "code",
   "execution_count": 445,
   "metadata": {},
   "outputs": [
    {
     "data": {
      "text/plain": [
       "(24, 21)"
      ]
     },
     "execution_count": 445,
     "metadata": {},
     "output_type": "execute_result"
    }
   ],
   "source": [
    "M6 = nortel_M6.dropna()\n",
    "M6.shape"
   ]
  },
  {
   "cell_type": "code",
   "execution_count": 446,
   "metadata": {},
   "outputs": [
    {
     "data": {
      "text/plain": [
       "(24, 21)"
      ]
     },
     "execution_count": 446,
     "metadata": {},
     "output_type": "execute_result"
    }
   ],
   "source": [
    "M6.shape"
   ]
  },
  {
   "cell_type": "code",
   "execution_count": 447,
   "metadata": {},
   "outputs": [
    {
     "data": {
      "text/plain": [
       "(249, 21)"
      ]
     },
     "execution_count": 447,
     "metadata": {},
     "output_type": "execute_result"
    }
   ],
   "source": [
    "nortel_M7 = nortel[nortel.Reg_date.dt.month.isin([7])]\n",
    "nortel_M7.shape"
   ]
  },
  {
   "cell_type": "code",
   "execution_count": 448,
   "metadata": {},
   "outputs": [],
   "source": [
    "M7 = nortel_M7.dropna()"
   ]
  },
  {
   "cell_type": "code",
   "execution_count": 449,
   "metadata": {},
   "outputs": [
    {
     "data": {
      "text/plain": [
       "(33, 21)"
      ]
     },
     "execution_count": 449,
     "metadata": {},
     "output_type": "execute_result"
    }
   ],
   "source": [
    "M7.shape"
   ]
  },
  {
   "cell_type": "code",
   "execution_count": 450,
   "metadata": {},
   "outputs": [],
   "source": [
    "nortel_M8 = nortel[nortel.Reg_date.dt.month.isin([8])]"
   ]
  },
  {
   "cell_type": "code",
   "execution_count": 451,
   "metadata": {},
   "outputs": [
    {
     "data": {
      "text/plain": [
       "(273, 21)"
      ]
     },
     "execution_count": 451,
     "metadata": {},
     "output_type": "execute_result"
    }
   ],
   "source": [
    "nortel_M8.shape"
   ]
  },
  {
   "cell_type": "code",
   "execution_count": 452,
   "metadata": {},
   "outputs": [
    {
     "data": {
      "text/plain": [
       "(34, 21)"
      ]
     },
     "execution_count": 452,
     "metadata": {},
     "output_type": "execute_result"
    }
   ],
   "source": [
    "M8 = nortel_M8.dropna()\n",
    "M8.shape"
   ]
  },
  {
   "cell_type": "code",
   "execution_count": 453,
   "metadata": {},
   "outputs": [
    {
     "data": {
      "text/plain": [
       "(333, 21)"
      ]
     },
     "execution_count": 453,
     "metadata": {},
     "output_type": "execute_result"
    }
   ],
   "source": [
    "nortel_M9 = nortel[nortel.Reg_date.dt.month.isin([9])]\n",
    "nortel_M9.shape"
   ]
  },
  {
   "cell_type": "code",
   "execution_count": 454,
   "metadata": {},
   "outputs": [],
   "source": [
    "M9 = nortel_M9.dropna()\n"
   ]
  },
  {
   "cell_type": "code",
   "execution_count": 455,
   "metadata": {},
   "outputs": [
    {
     "data": {
      "text/plain": [
       "(40, 21)"
      ]
     },
     "execution_count": 455,
     "metadata": {},
     "output_type": "execute_result"
    }
   ],
   "source": [
    "M9.shape"
   ]
  },
  {
   "cell_type": "code",
   "execution_count": 456,
   "metadata": {},
   "outputs": [
    {
     "data": {
      "text/plain": [
       "(297, 21)"
      ]
     },
     "execution_count": 456,
     "metadata": {},
     "output_type": "execute_result"
    }
   ],
   "source": [
    "nortel_M10 = nortel[nortel.Reg_date.dt.month.isin([10])]\n",
    "nortel_M10.shape"
   ]
  },
  {
   "cell_type": "code",
   "execution_count": 457,
   "metadata": {},
   "outputs": [
    {
     "data": {
      "text/plain": [
       "(33, 21)"
      ]
     },
     "execution_count": 457,
     "metadata": {},
     "output_type": "execute_result"
    }
   ],
   "source": [
    "M10 = nortel_M10.dropna()\n",
    "M10.shape"
   ]
  },
  {
   "cell_type": "code",
   "execution_count": 458,
   "metadata": {},
   "outputs": [
    {
     "data": {
      "text/plain": [
       "(293, 21)"
      ]
     },
     "execution_count": 458,
     "metadata": {},
     "output_type": "execute_result"
    }
   ],
   "source": [
    "nortel_M11 = nortel[nortel.Reg_date.dt.month.isin([11])]\n",
    "nortel_M11.shape"
   ]
  },
  {
   "cell_type": "code",
   "execution_count": 459,
   "metadata": {},
   "outputs": [
    {
     "data": {
      "text/plain": [
       "(21, 21)"
      ]
     },
     "execution_count": 459,
     "metadata": {},
     "output_type": "execute_result"
    }
   ],
   "source": [
    "M11 = nortel_M11.dropna()\n",
    "M11.shape"
   ]
  },
  {
   "cell_type": "code",
   "execution_count": 460,
   "metadata": {},
   "outputs": [
    {
     "data": {
      "text/plain": [
       "(292, 21)"
      ]
     },
     "execution_count": 460,
     "metadata": {},
     "output_type": "execute_result"
    }
   ],
   "source": [
    "nortel_M12 = nortel[nortel.Reg_date.dt.month.isin([12])]\n",
    "nortel_M12.shape"
   ]
  },
  {
   "cell_type": "code",
   "execution_count": 461,
   "metadata": {},
   "outputs": [
    {
     "data": {
      "text/plain": [
       "(25, 21)"
      ]
     },
     "execution_count": 461,
     "metadata": {},
     "output_type": "execute_result"
    }
   ],
   "source": [
    "M12 = nortel_M12.dropna()\n",
    "M12.shape"
   ]
  },
  {
   "cell_type": "code",
   "execution_count": 462,
   "metadata": {},
   "outputs": [
    {
     "data": {
      "text/html": [
       "<div>\n",
       "<style scoped>\n",
       "    .dataframe tbody tr th:only-of-type {\n",
       "        vertical-align: middle;\n",
       "    }\n",
       "\n",
       "    .dataframe tbody tr th {\n",
       "        vertical-align: top;\n",
       "    }\n",
       "\n",
       "    .dataframe thead th {\n",
       "        text-align: right;\n",
       "    }\n",
       "</style>\n",
       "<table border=\"1\" class=\"dataframe\">\n",
       "  <thead>\n",
       "    <tr style=\"text-align: right;\">\n",
       "      <th></th>\n",
       "      <th>Unnamed: 0</th>\n",
       "      <th>Acc_no</th>\n",
       "      <th>REG_No</th>\n",
       "      <th>Reg_date</th>\n",
       "      <th>Comp_date</th>\n",
       "      <th>Month_year</th>\n",
       "      <th>RP</th>\n",
       "      <th>RS</th>\n",
       "      <th>Unit</th>\n",
       "      <th>IR</th>\n",
       "      <th>...</th>\n",
       "      <th>OverallPer</th>\n",
       "      <th>t_respond</th>\n",
       "      <th>Understand</th>\n",
       "      <th>t_resolve</th>\n",
       "      <th>s_Del</th>\n",
       "      <th>speak</th>\n",
       "      <th>adv_status</th>\n",
       "      <th>overallper_sat</th>\n",
       "      <th>t_respond_sat</th>\n",
       "      <th>understand_sat</th>\n",
       "    </tr>\n",
       "  </thead>\n",
       "  <tbody>\n",
       "    <tr>\n",
       "      <th>0</th>\n",
       "      <td>0</td>\n",
       "      <td>CST-H514-H3H</td>\n",
       "      <td>NaN</td>\n",
       "      <td>2004-05-14</td>\n",
       "      <td>2005-05-25</td>\n",
       "      <td>2005-05</td>\n",
       "      <td>4 - L</td>\n",
       "      <td>4-C_problem</td>\n",
       "      <td>GPK</td>\n",
       "      <td>Solved</td>\n",
       "      <td>...</td>\n",
       "      <td>60</td>\n",
       "      <td>60</td>\n",
       "      <td>60</td>\n",
       "      <td>60</td>\n",
       "      <td>NaN</td>\n",
       "      <td>60.0</td>\n",
       "      <td>60.0</td>\n",
       "      <td>NaN</td>\n",
       "      <td>NaN</td>\n",
       "      <td>NaN</td>\n",
       "    </tr>\n",
       "    <tr>\n",
       "      <th>1</th>\n",
       "      <td>1</td>\n",
       "      <td>CST-H7H6-HH28</td>\n",
       "      <td>CZK3B39B</td>\n",
       "      <td>2004-06-07</td>\n",
       "      <td>2005-08-06</td>\n",
       "      <td>2005-06</td>\n",
       "      <td>3 - M</td>\n",
       "      <td>3-Minor</td>\n",
       "      <td>GPK</td>\n",
       "      <td>Solved</td>\n",
       "      <td>...</td>\n",
       "      <td>80</td>\n",
       "      <td>90</td>\n",
       "      <td>90</td>\n",
       "      <td>90</td>\n",
       "      <td>80.0</td>\n",
       "      <td>90.0</td>\n",
       "      <td>90.0</td>\n",
       "      <td>1.0</td>\n",
       "      <td>1.0</td>\n",
       "      <td>1.0</td>\n",
       "    </tr>\n",
       "    <tr>\n",
       "      <th>2</th>\n",
       "      <td>2</td>\n",
       "      <td>CST-H9H1-HH86</td>\n",
       "      <td>NaN</td>\n",
       "      <td>2004-01-09</td>\n",
       "      <td>2005-03-05</td>\n",
       "      <td>2005-05</td>\n",
       "      <td>3 - M</td>\n",
       "      <td>4-C_problem</td>\n",
       "      <td>RPLCDS</td>\n",
       "      <td>Solved</td>\n",
       "      <td>...</td>\n",
       "      <td>40</td>\n",
       "      <td>100</td>\n",
       "      <td>100</td>\n",
       "      <td>50</td>\n",
       "      <td>NaN</td>\n",
       "      <td>90.0</td>\n",
       "      <td>100.0</td>\n",
       "      <td>0.0</td>\n",
       "      <td>1.0</td>\n",
       "      <td>1.0</td>\n",
       "    </tr>\n",
       "    <tr>\n",
       "      <th>3</th>\n",
       "      <td>3</td>\n",
       "      <td>CST-1H29-H233</td>\n",
       "      <td>NaN</td>\n",
       "      <td>2004-10-29</td>\n",
       "      <td>2005-05-27</td>\n",
       "      <td>2005-05</td>\n",
       "      <td>2 - H</td>\n",
       "      <td>2-Major</td>\n",
       "      <td>RPLCDS</td>\n",
       "      <td>Solved</td>\n",
       "      <td>...</td>\n",
       "      <td>60</td>\n",
       "      <td>90</td>\n",
       "      <td>90</td>\n",
       "      <td>80</td>\n",
       "      <td>NaN</td>\n",
       "      <td>80.0</td>\n",
       "      <td>80.0</td>\n",
       "      <td>NaN</td>\n",
       "      <td>1.0</td>\n",
       "      <td>1.0</td>\n",
       "    </tr>\n",
       "    <tr>\n",
       "      <th>4</th>\n",
       "      <td>4</td>\n",
       "      <td>CST-11H2-H312</td>\n",
       "      <td>CZK26998</td>\n",
       "      <td>2004-02-11</td>\n",
       "      <td>2005-09-05</td>\n",
       "      <td>2005-05</td>\n",
       "      <td>3 - M</td>\n",
       "      <td>3-Minor</td>\n",
       "      <td>GPK</td>\n",
       "      <td>Solved</td>\n",
       "      <td>...</td>\n",
       "      <td>40</td>\n",
       "      <td>80</td>\n",
       "      <td>80</td>\n",
       "      <td>10</td>\n",
       "      <td>100.0</td>\n",
       "      <td>90.0</td>\n",
       "      <td>90.0</td>\n",
       "      <td>0.0</td>\n",
       "      <td>1.0</td>\n",
       "      <td>1.0</td>\n",
       "    </tr>\n",
       "  </tbody>\n",
       "</table>\n",
       "<p>5 rows × 21 columns</p>\n",
       "</div>"
      ],
      "text/plain": [
       "   Unnamed: 0         Acc_no    REG_No   Reg_date  Comp_date Month_year  \\\n",
       "0           0   CST-H514-H3H       NaN 2004-05-14 2005-05-25    2005-05   \n",
       "1           1  CST-H7H6-HH28  CZK3B39B 2004-06-07 2005-08-06    2005-06   \n",
       "2           2  CST-H9H1-HH86       NaN 2004-01-09 2005-03-05    2005-05   \n",
       "3           3  CST-1H29-H233       NaN 2004-10-29 2005-05-27    2005-05   \n",
       "4           4  CST-11H2-H312  CZK26998 2004-02-11 2005-09-05    2005-05   \n",
       "\n",
       "      RP           RS    Unit      IR  ... OverallPer  t_respond  Understand  \\\n",
       "0  4 - L  4-C_problem     GPK  Solved  ...         60         60          60   \n",
       "1  3 - M      3-Minor     GPK  Solved  ...         80         90          90   \n",
       "2  3 - M  4-C_problem  RPLCDS  Solved  ...         40        100         100   \n",
       "3  2 - H      2-Major  RPLCDS  Solved  ...         60         90          90   \n",
       "4  3 - M      3-Minor     GPK  Solved  ...         40         80          80   \n",
       "\n",
       "   t_resolve  s_Del  speak  adv_status  overallper_sat  t_respond_sat  \\\n",
       "0         60    NaN   60.0        60.0             NaN            NaN   \n",
       "1         90   80.0   90.0        90.0             1.0            1.0   \n",
       "2         50    NaN   90.0       100.0             0.0            1.0   \n",
       "3         80    NaN   80.0        80.0             NaN            1.0   \n",
       "4         10  100.0   90.0        90.0             0.0            1.0   \n",
       "\n",
       "   understand_sat  \n",
       "0             NaN  \n",
       "1             1.0  \n",
       "2             1.0  \n",
       "3             1.0  \n",
       "4             1.0  \n",
       "\n",
       "[5 rows x 21 columns]"
      ]
     },
     "execution_count": 462,
     "metadata": {},
     "output_type": "execute_result"
    }
   ],
   "source": [
    "nortel.head()"
   ]
  },
  {
   "cell_type": "code",
   "execution_count": 463,
   "metadata": {},
   "outputs": [],
   "source": [
    "#Q2 drop the missing values in each of the above 12 datasets just based on Reg_date variable"
   ]
  },
  {
   "cell_type": "code",
   "execution_count": 464,
   "metadata": {},
   "outputs": [],
   "source": [
    "nortel.drop(['Reg_date'],axis=1,inplace=True)"
   ]
  },
  {
   "cell_type": "code",
   "execution_count": 465,
   "metadata": {},
   "outputs": [],
   "source": [
    "#Q3 Append all the above datasets using pd.concat\n",
    "All_data = pd.concat([M1,M2,M3,M4,M5,M6,M7,M8,M9,M10,M11,M12])"
   ]
  },
  {
   "cell_type": "code",
   "execution_count": 466,
   "metadata": {},
   "outputs": [
    {
     "data": {
      "text/plain": [
       "(311, 21)"
      ]
     },
     "execution_count": 466,
     "metadata": {},
     "output_type": "execute_result"
    }
   ],
   "source": [
    "All_data.shape"
   ]
  },
  {
   "cell_type": "code",
   "execution_count": 467,
   "metadata": {},
   "outputs": [],
   "source": [
    "#Q4- import payroll dataset  and split the data to create two dataframe for each male and female employes"
   ]
  },
  {
   "cell_type": "code",
   "execution_count": 468,
   "metadata": {},
   "outputs": [],
   "source": [
    "payroll_male = payroll[payroll[\"Employee_Gender\"]=='M']"
   ]
  },
  {
   "cell_type": "code",
   "execution_count": 469,
   "metadata": {},
   "outputs": [
    {
     "data": {
      "text/plain": [
       "(233, 9)"
      ]
     },
     "execution_count": 469,
     "metadata": {},
     "output_type": "execute_result"
    }
   ],
   "source": [
    "payroll_male.shape"
   ]
  },
  {
   "cell_type": "code",
   "execution_count": 470,
   "metadata": {},
   "outputs": [],
   "source": [
    "payroll_female = payroll[payroll[\"Employee_Gender\"]=='F']"
   ]
  },
  {
   "cell_type": "code",
   "execution_count": 471,
   "metadata": {},
   "outputs": [
    {
     "data": {
      "text/plain": [
       "(191, 9)"
      ]
     },
     "execution_count": 471,
     "metadata": {},
     "output_type": "execute_result"
    }
   ],
   "source": [
    "payroll_female.shape"
   ]
  },
  {
   "cell_type": "code",
   "execution_count": 472,
   "metadata": {},
   "outputs": [
    {
     "data": {
      "text/html": [
       "<div>\n",
       "<style scoped>\n",
       "    .dataframe tbody tr th:only-of-type {\n",
       "        vertical-align: middle;\n",
       "    }\n",
       "\n",
       "    .dataframe tbody tr th {\n",
       "        vertical-align: top;\n",
       "    }\n",
       "\n",
       "    .dataframe thead th {\n",
       "        text-align: right;\n",
       "    }\n",
       "</style>\n",
       "<table border=\"1\" class=\"dataframe\">\n",
       "  <thead>\n",
       "    <tr style=\"text-align: right;\">\n",
       "      <th></th>\n",
       "      <th>Unnamed: 0</th>\n",
       "      <th>Employee_ID</th>\n",
       "      <th>Employee_Gender</th>\n",
       "      <th>Salary</th>\n",
       "      <th>Birth_Date</th>\n",
       "      <th>Employee_Hire_Date</th>\n",
       "      <th>Dependents</th>\n",
       "      <th>avg_sal_per_head</th>\n",
       "      <th>test</th>\n",
       "    </tr>\n",
       "  </thead>\n",
       "  <tbody>\n",
       "    <tr>\n",
       "      <th>0</th>\n",
       "      <td>0</td>\n",
       "      <td>120101</td>\n",
       "      <td>M</td>\n",
       "      <td>163040</td>\n",
       "      <td>8/18/1978</td>\n",
       "      <td>7/1/2005</td>\n",
       "      <td>0</td>\n",
       "      <td>inf</td>\n",
       "      <td>inf</td>\n",
       "    </tr>\n",
       "    <tr>\n",
       "      <th>1</th>\n",
       "      <td>1</td>\n",
       "      <td>120102</td>\n",
       "      <td>M</td>\n",
       "      <td>108255</td>\n",
       "      <td>8/11/1971</td>\n",
       "      <td>6/1/1991</td>\n",
       "      <td>2</td>\n",
       "      <td>54128.0</td>\n",
       "      <td>54128.0</td>\n",
       "    </tr>\n",
       "    <tr>\n",
       "      <th>2</th>\n",
       "      <td>2</td>\n",
       "      <td>120103</td>\n",
       "      <td>M</td>\n",
       "      <td>87975</td>\n",
       "      <td>1/22/1951</td>\n",
       "      <td>1/1/1976</td>\n",
       "      <td>1</td>\n",
       "      <td>87975.0</td>\n",
       "      <td>87975.0</td>\n",
       "    </tr>\n",
       "    <tr>\n",
       "      <th>3</th>\n",
       "      <td>3</td>\n",
       "      <td>120104</td>\n",
       "      <td>F</td>\n",
       "      <td>46230</td>\n",
       "      <td>5/11/1956</td>\n",
       "      <td>1/1/1983</td>\n",
       "      <td>1</td>\n",
       "      <td>46230.0</td>\n",
       "      <td>46230.0</td>\n",
       "    </tr>\n",
       "    <tr>\n",
       "      <th>4</th>\n",
       "      <td>4</td>\n",
       "      <td>120105</td>\n",
       "      <td>F</td>\n",
       "      <td>27110</td>\n",
       "      <td>12/21/1976</td>\n",
       "      <td>5/1/2001</td>\n",
       "      <td>0</td>\n",
       "      <td>inf</td>\n",
       "      <td>inf</td>\n",
       "    </tr>\n",
       "  </tbody>\n",
       "</table>\n",
       "</div>"
      ],
      "text/plain": [
       "   Unnamed: 0  Employee_ID Employee_Gender  Salary  Birth_Date  \\\n",
       "0           0       120101               M  163040   8/18/1978   \n",
       "1           1       120102               M  108255   8/11/1971   \n",
       "2           2       120103               M   87975   1/22/1951   \n",
       "3           3       120104               F   46230   5/11/1956   \n",
       "4           4       120105               F   27110  12/21/1976   \n",
       "\n",
       "  Employee_Hire_Date  Dependents  avg_sal_per_head     test  \n",
       "0           7/1/2005           0               inf      inf  \n",
       "1           6/1/1991           2           54128.0  54128.0  \n",
       "2           1/1/1976           1           87975.0  87975.0  \n",
       "3           1/1/1983           1           46230.0  46230.0  \n",
       "4           5/1/2001           0               inf      inf  "
      ]
     },
     "execution_count": 472,
     "metadata": {},
     "output_type": "execute_result"
    }
   ],
   "source": [
    "payroll.head()"
   ]
  },
  {
   "cell_type": "code",
   "execution_count": 473,
   "metadata": {},
   "outputs": [],
   "source": [
    "#Q5 - format the Employee_hire_date to the look like YYYY:MM and calcuate sum of salary paid for each of the date"
   ]
  },
  {
   "cell_type": "code",
   "execution_count": 474,
   "metadata": {},
   "outputs": [],
   "source": [
    "payroll[\"Employee_Hire_Date\"] = pd.to_datetime(payroll[\"Employee_Hire_Date\"])"
   ]
  },
  {
   "cell_type": "code",
   "execution_count": 475,
   "metadata": {
    "scrolled": true
   },
   "outputs": [
    {
     "name": "stdout",
     "output_type": "stream",
     "text": [
      "<class 'pandas.core.frame.DataFrame'>\n",
      "RangeIndex: 424 entries, 0 to 423\n",
      "Data columns (total 9 columns):\n",
      " #   Column              Non-Null Count  Dtype         \n",
      "---  ------              --------------  -----         \n",
      " 0   Unnamed: 0          424 non-null    int64         \n",
      " 1   Employee_ID         424 non-null    int64         \n",
      " 2   Employee_Gender     424 non-null    object        \n",
      " 3   Salary              424 non-null    int64         \n",
      " 4   Birth_Date          424 non-null    object        \n",
      " 5   Employee_Hire_Date  424 non-null    datetime64[ns]\n",
      " 6   Dependents          424 non-null    int64         \n",
      " 7   avg_sal_per_head    424 non-null    float64       \n",
      " 8   test                424 non-null    float64       \n",
      "dtypes: datetime64[ns](1), float64(2), int64(4), object(2)\n",
      "memory usage: 29.9+ KB\n"
     ]
    }
   ],
   "source": [
    "payroll.info()"
   ]
  },
  {
   "cell_type": "code",
   "execution_count": 476,
   "metadata": {},
   "outputs": [],
   "source": [
    "payroll['Employee_Date'] = payroll['Employee_Hire_Date'].apply(lambda x: x.strftime('%Y-%m'))"
   ]
  },
  {
   "cell_type": "code",
   "execution_count": 477,
   "metadata": {},
   "outputs": [
    {
     "data": {
      "text/html": [
       "<div>\n",
       "<style scoped>\n",
       "    .dataframe tbody tr th:only-of-type {\n",
       "        vertical-align: middle;\n",
       "    }\n",
       "\n",
       "    .dataframe tbody tr th {\n",
       "        vertical-align: top;\n",
       "    }\n",
       "\n",
       "    .dataframe thead th {\n",
       "        text-align: right;\n",
       "    }\n",
       "</style>\n",
       "<table border=\"1\" class=\"dataframe\">\n",
       "  <thead>\n",
       "    <tr style=\"text-align: right;\">\n",
       "      <th></th>\n",
       "      <th>Unnamed: 0</th>\n",
       "      <th>Employee_ID</th>\n",
       "      <th>Employee_Gender</th>\n",
       "      <th>Salary</th>\n",
       "      <th>Birth_Date</th>\n",
       "      <th>Employee_Hire_Date</th>\n",
       "      <th>Dependents</th>\n",
       "      <th>avg_sal_per_head</th>\n",
       "      <th>test</th>\n",
       "      <th>Employee_Date</th>\n",
       "    </tr>\n",
       "  </thead>\n",
       "  <tbody>\n",
       "    <tr>\n",
       "      <th>0</th>\n",
       "      <td>0</td>\n",
       "      <td>120101</td>\n",
       "      <td>M</td>\n",
       "      <td>163040</td>\n",
       "      <td>8/18/1978</td>\n",
       "      <td>2005-07-01</td>\n",
       "      <td>0</td>\n",
       "      <td>inf</td>\n",
       "      <td>inf</td>\n",
       "      <td>2005-07</td>\n",
       "    </tr>\n",
       "    <tr>\n",
       "      <th>1</th>\n",
       "      <td>1</td>\n",
       "      <td>120102</td>\n",
       "      <td>M</td>\n",
       "      <td>108255</td>\n",
       "      <td>8/11/1971</td>\n",
       "      <td>1991-06-01</td>\n",
       "      <td>2</td>\n",
       "      <td>54128.0</td>\n",
       "      <td>54128.0</td>\n",
       "      <td>1991-06</td>\n",
       "    </tr>\n",
       "    <tr>\n",
       "      <th>2</th>\n",
       "      <td>2</td>\n",
       "      <td>120103</td>\n",
       "      <td>M</td>\n",
       "      <td>87975</td>\n",
       "      <td>1/22/1951</td>\n",
       "      <td>1976-01-01</td>\n",
       "      <td>1</td>\n",
       "      <td>87975.0</td>\n",
       "      <td>87975.0</td>\n",
       "      <td>1976-01</td>\n",
       "    </tr>\n",
       "    <tr>\n",
       "      <th>3</th>\n",
       "      <td>3</td>\n",
       "      <td>120104</td>\n",
       "      <td>F</td>\n",
       "      <td>46230</td>\n",
       "      <td>5/11/1956</td>\n",
       "      <td>1983-01-01</td>\n",
       "      <td>1</td>\n",
       "      <td>46230.0</td>\n",
       "      <td>46230.0</td>\n",
       "      <td>1983-01</td>\n",
       "    </tr>\n",
       "    <tr>\n",
       "      <th>4</th>\n",
       "      <td>4</td>\n",
       "      <td>120105</td>\n",
       "      <td>F</td>\n",
       "      <td>27110</td>\n",
       "      <td>12/21/1976</td>\n",
       "      <td>2001-05-01</td>\n",
       "      <td>0</td>\n",
       "      <td>inf</td>\n",
       "      <td>inf</td>\n",
       "      <td>2001-05</td>\n",
       "    </tr>\n",
       "  </tbody>\n",
       "</table>\n",
       "</div>"
      ],
      "text/plain": [
       "   Unnamed: 0  Employee_ID Employee_Gender  Salary  Birth_Date  \\\n",
       "0           0       120101               M  163040   8/18/1978   \n",
       "1           1       120102               M  108255   8/11/1971   \n",
       "2           2       120103               M   87975   1/22/1951   \n",
       "3           3       120104               F   46230   5/11/1956   \n",
       "4           4       120105               F   27110  12/21/1976   \n",
       "\n",
       "  Employee_Hire_Date  Dependents  avg_sal_per_head     test Employee_Date  \n",
       "0         2005-07-01           0               inf      inf       2005-07  \n",
       "1         1991-06-01           2           54128.0  54128.0       1991-06  \n",
       "2         1976-01-01           1           87975.0  87975.0       1976-01  \n",
       "3         1983-01-01           1           46230.0  46230.0       1983-01  \n",
       "4         2001-05-01           0               inf      inf       2001-05  "
      ]
     },
     "execution_count": 477,
     "metadata": {},
     "output_type": "execute_result"
    }
   ],
   "source": [
    "payroll.head()"
   ]
  },
  {
   "cell_type": "code",
   "execution_count": 478,
   "metadata": {},
   "outputs": [
    {
     "data": {
      "text/html": [
       "<div>\n",
       "<style scoped>\n",
       "    .dataframe tbody tr th:only-of-type {\n",
       "        vertical-align: middle;\n",
       "    }\n",
       "\n",
       "    .dataframe tbody tr th {\n",
       "        vertical-align: top;\n",
       "    }\n",
       "\n",
       "    .dataframe thead th {\n",
       "        text-align: right;\n",
       "    }\n",
       "</style>\n",
       "<table border=\"1\" class=\"dataframe\">\n",
       "  <thead>\n",
       "    <tr style=\"text-align: right;\">\n",
       "      <th></th>\n",
       "      <th>Employee_Date</th>\n",
       "      <th>Salary</th>\n",
       "    </tr>\n",
       "  </thead>\n",
       "  <tbody>\n",
       "    <tr>\n",
       "      <th>0</th>\n",
       "      <td>1976-01</td>\n",
       "      <td>2146350</td>\n",
       "    </tr>\n",
       "    <tr>\n",
       "      <th>1</th>\n",
       "      <td>1976-02</td>\n",
       "      <td>85615</td>\n",
       "    </tr>\n",
       "    <tr>\n",
       "      <th>2</th>\n",
       "      <td>1976-03</td>\n",
       "      <td>26615</td>\n",
       "    </tr>\n",
       "    <tr>\n",
       "      <th>3</th>\n",
       "      <td>1976-04</td>\n",
       "      <td>26165</td>\n",
       "    </tr>\n",
       "    <tr>\n",
       "      <th>4</th>\n",
       "      <td>1976-07</td>\n",
       "      <td>28095</td>\n",
       "    </tr>\n",
       "    <tr>\n",
       "      <th>...</th>\n",
       "      <td>...</td>\n",
       "      <td>...</td>\n",
       "    </tr>\n",
       "    <tr>\n",
       "      <th>195</th>\n",
       "      <td>2008-09</td>\n",
       "      <td>160035</td>\n",
       "    </tr>\n",
       "    <tr>\n",
       "      <th>196</th>\n",
       "      <td>2008-10</td>\n",
       "      <td>222865</td>\n",
       "    </tr>\n",
       "    <tr>\n",
       "      <th>197</th>\n",
       "      <td>2008-11</td>\n",
       "      <td>266200</td>\n",
       "    </tr>\n",
       "    <tr>\n",
       "      <th>198</th>\n",
       "      <td>2008-12</td>\n",
       "      <td>776785</td>\n",
       "    </tr>\n",
       "    <tr>\n",
       "      <th>199</th>\n",
       "      <td>2009-01</td>\n",
       "      <td>86585</td>\n",
       "    </tr>\n",
       "  </tbody>\n",
       "</table>\n",
       "<p>200 rows × 2 columns</p>\n",
       "</div>"
      ],
      "text/plain": [
       "    Employee_Date   Salary\n",
       "0         1976-01  2146350\n",
       "1         1976-02    85615\n",
       "2         1976-03    26615\n",
       "3         1976-04    26165\n",
       "4         1976-07    28095\n",
       "..            ...      ...\n",
       "195       2008-09   160035\n",
       "196       2008-10   222865\n",
       "197       2008-11   266200\n",
       "198       2008-12   776785\n",
       "199       2009-01    86585\n",
       "\n",
       "[200 rows x 2 columns]"
      ]
     },
     "execution_count": 478,
     "metadata": {},
     "output_type": "execute_result"
    }
   ],
   "source": [
    "payroll.groupby(['Employee_Date'])[\"Salary\"].sum().reset_index()"
   ]
  },
  {
   "cell_type": "code",
   "execution_count": 479,
   "metadata": {},
   "outputs": [],
   "source": [
    "#Q6 - create month, day,year,weekday, quarter variables from birthdate "
   ]
  },
  {
   "cell_type": "code",
   "execution_count": 480,
   "metadata": {},
   "outputs": [],
   "source": [
    "payroll[\"Birth_Date\"] = pd.to_datetime(payroll[\"Birth_Date\"])"
   ]
  },
  {
   "cell_type": "code",
   "execution_count": 481,
   "metadata": {},
   "outputs": [],
   "source": [
    "payroll['day']=payroll.Birth_Date.dt.day\n",
    "payroll['month']=payroll.Birth_Date.dt.month\n",
    "payroll['year'] = payroll.Birth_Date.dt.year\n",
    "payroll['weekday'] = payroll.Birth_Date.dt.weekday\n",
    "payroll['quarter']=payroll.Birth_Date.dt.quarter"
   ]
  },
  {
   "cell_type": "code",
   "execution_count": 482,
   "metadata": {},
   "outputs": [],
   "source": [
    "payroll[\"new_date\"]=pd.to_datetime(payroll[[\"day\",\"month\",\"year\"]])"
   ]
  },
  {
   "cell_type": "code",
   "execution_count": 483,
   "metadata": {},
   "outputs": [
    {
     "data": {
      "text/html": [
       "<div>\n",
       "<style scoped>\n",
       "    .dataframe tbody tr th:only-of-type {\n",
       "        vertical-align: middle;\n",
       "    }\n",
       "\n",
       "    .dataframe tbody tr th {\n",
       "        vertical-align: top;\n",
       "    }\n",
       "\n",
       "    .dataframe thead th {\n",
       "        text-align: right;\n",
       "    }\n",
       "</style>\n",
       "<table border=\"1\" class=\"dataframe\">\n",
       "  <thead>\n",
       "    <tr style=\"text-align: right;\">\n",
       "      <th></th>\n",
       "      <th>Unnamed: 0</th>\n",
       "      <th>Employee_ID</th>\n",
       "      <th>Employee_Gender</th>\n",
       "      <th>Salary</th>\n",
       "      <th>Birth_Date</th>\n",
       "      <th>Employee_Hire_Date</th>\n",
       "      <th>Dependents</th>\n",
       "      <th>avg_sal_per_head</th>\n",
       "      <th>test</th>\n",
       "      <th>Employee_Date</th>\n",
       "      <th>day</th>\n",
       "      <th>month</th>\n",
       "      <th>year</th>\n",
       "      <th>weekday</th>\n",
       "      <th>quarter</th>\n",
       "      <th>new_date</th>\n",
       "    </tr>\n",
       "  </thead>\n",
       "  <tbody>\n",
       "    <tr>\n",
       "      <th>0</th>\n",
       "      <td>0</td>\n",
       "      <td>120101</td>\n",
       "      <td>M</td>\n",
       "      <td>163040</td>\n",
       "      <td>1978-08-18</td>\n",
       "      <td>2005-07-01</td>\n",
       "      <td>0</td>\n",
       "      <td>inf</td>\n",
       "      <td>inf</td>\n",
       "      <td>2005-07</td>\n",
       "      <td>18</td>\n",
       "      <td>8</td>\n",
       "      <td>1978</td>\n",
       "      <td>4</td>\n",
       "      <td>3</td>\n",
       "      <td>1978-08-18</td>\n",
       "    </tr>\n",
       "    <tr>\n",
       "      <th>1</th>\n",
       "      <td>1</td>\n",
       "      <td>120102</td>\n",
       "      <td>M</td>\n",
       "      <td>108255</td>\n",
       "      <td>1971-08-11</td>\n",
       "      <td>1991-06-01</td>\n",
       "      <td>2</td>\n",
       "      <td>54128.0</td>\n",
       "      <td>54128.0</td>\n",
       "      <td>1991-06</td>\n",
       "      <td>11</td>\n",
       "      <td>8</td>\n",
       "      <td>1971</td>\n",
       "      <td>2</td>\n",
       "      <td>3</td>\n",
       "      <td>1971-08-11</td>\n",
       "    </tr>\n",
       "    <tr>\n",
       "      <th>2</th>\n",
       "      <td>2</td>\n",
       "      <td>120103</td>\n",
       "      <td>M</td>\n",
       "      <td>87975</td>\n",
       "      <td>1951-01-22</td>\n",
       "      <td>1976-01-01</td>\n",
       "      <td>1</td>\n",
       "      <td>87975.0</td>\n",
       "      <td>87975.0</td>\n",
       "      <td>1976-01</td>\n",
       "      <td>22</td>\n",
       "      <td>1</td>\n",
       "      <td>1951</td>\n",
       "      <td>0</td>\n",
       "      <td>1</td>\n",
       "      <td>1951-01-22</td>\n",
       "    </tr>\n",
       "    <tr>\n",
       "      <th>3</th>\n",
       "      <td>3</td>\n",
       "      <td>120104</td>\n",
       "      <td>F</td>\n",
       "      <td>46230</td>\n",
       "      <td>1956-05-11</td>\n",
       "      <td>1983-01-01</td>\n",
       "      <td>1</td>\n",
       "      <td>46230.0</td>\n",
       "      <td>46230.0</td>\n",
       "      <td>1983-01</td>\n",
       "      <td>11</td>\n",
       "      <td>5</td>\n",
       "      <td>1956</td>\n",
       "      <td>4</td>\n",
       "      <td>2</td>\n",
       "      <td>1956-05-11</td>\n",
       "    </tr>\n",
       "    <tr>\n",
       "      <th>4</th>\n",
       "      <td>4</td>\n",
       "      <td>120105</td>\n",
       "      <td>F</td>\n",
       "      <td>27110</td>\n",
       "      <td>1976-12-21</td>\n",
       "      <td>2001-05-01</td>\n",
       "      <td>0</td>\n",
       "      <td>inf</td>\n",
       "      <td>inf</td>\n",
       "      <td>2001-05</td>\n",
       "      <td>21</td>\n",
       "      <td>12</td>\n",
       "      <td>1976</td>\n",
       "      <td>1</td>\n",
       "      <td>4</td>\n",
       "      <td>1976-12-21</td>\n",
       "    </tr>\n",
       "  </tbody>\n",
       "</table>\n",
       "</div>"
      ],
      "text/plain": [
       "   Unnamed: 0  Employee_ID Employee_Gender  Salary Birth_Date  \\\n",
       "0           0       120101               M  163040 1978-08-18   \n",
       "1           1       120102               M  108255 1971-08-11   \n",
       "2           2       120103               M   87975 1951-01-22   \n",
       "3           3       120104               F   46230 1956-05-11   \n",
       "4           4       120105               F   27110 1976-12-21   \n",
       "\n",
       "  Employee_Hire_Date  Dependents  avg_sal_per_head     test Employee_Date  \\\n",
       "0         2005-07-01           0               inf      inf       2005-07   \n",
       "1         1991-06-01           2           54128.0  54128.0       1991-06   \n",
       "2         1976-01-01           1           87975.0  87975.0       1976-01   \n",
       "3         1983-01-01           1           46230.0  46230.0       1983-01   \n",
       "4         2001-05-01           0               inf      inf       2001-05   \n",
       "\n",
       "   day  month  year  weekday  quarter   new_date  \n",
       "0   18      8  1978        4        3 1978-08-18  \n",
       "1   11      8  1971        2        3 1971-08-11  \n",
       "2   22      1  1951        0        1 1951-01-22  \n",
       "3   11      5  1956        4        2 1956-05-11  \n",
       "4   21     12  1976        1        4 1976-12-21  "
      ]
     },
     "execution_count": 483,
     "metadata": {},
     "output_type": "execute_result"
    }
   ],
   "source": [
    "payroll.head()"
   ]
  },
  {
   "cell_type": "code",
   "execution_count": null,
   "metadata": {},
   "outputs": [],
   "source": []
  },
  {
   "cell_type": "code",
   "execution_count": null,
   "metadata": {},
   "outputs": [],
   "source": []
  },
  {
   "cell_type": "code",
   "execution_count": null,
   "metadata": {},
   "outputs": [],
   "source": []
  },
  {
   "cell_type": "code",
   "execution_count": null,
   "metadata": {},
   "outputs": [],
   "source": []
  },
  {
   "cell_type": "code",
   "execution_count": null,
   "metadata": {},
   "outputs": [],
   "source": []
  }
 ],
 "metadata": {
  "kernelspec": {
   "display_name": "Python 3",
   "language": "python",
   "name": "python3"
  },
  "language_info": {
   "codemirror_mode": {
    "name": "ipython",
    "version": 3
   },
   "file_extension": ".py",
   "mimetype": "text/x-python",
   "name": "python",
   "nbconvert_exporter": "python",
   "pygments_lexer": "ipython3",
   "version": "3.8.8"
  }
 },
 "nbformat": 4,
 "nbformat_minor": 4
}
