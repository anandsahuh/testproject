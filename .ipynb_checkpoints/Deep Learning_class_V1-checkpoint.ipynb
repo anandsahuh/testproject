{
 "cells": [
  {
   "cell_type": "code",
   "execution_count": 1,
   "metadata": {},
   "outputs": [
    {
     "data": {
      "text/plain": [
       "(10000, 14)"
      ]
     },
     "execution_count": 1,
     "metadata": {},
     "output_type": "execute_result"
    }
   ],
   "source": [
    "#Importing the libraries\n",
    "import numpy as np\n",
    "import matplotlib.pyplot as plt\n",
    "import pandas as pd\n",
    "np.random.seed(1337)\n",
    "\n",
    "# Importing the dataset\n",
    "Churn_data = pd.read_csv('C:\\\\Users\\\\cmh4kor\\\\Desktop\\\\Deep Learning\\\\Batch2\\\\Churn_data.csv')\n",
    "Churn_data.head()\n",
    "Churn_data.shape"
   ]
  },
  {
   "cell_type": "code",
   "execution_count": 2,
   "metadata": {},
   "outputs": [
    {
     "data": {
      "text/html": [
       "<div>\n",
       "<style scoped>\n",
       "    .dataframe tbody tr th:only-of-type {\n",
       "        vertical-align: middle;\n",
       "    }\n",
       "\n",
       "    .dataframe tbody tr th {\n",
       "        vertical-align: top;\n",
       "    }\n",
       "\n",
       "    .dataframe thead th {\n",
       "        text-align: right;\n",
       "    }\n",
       "</style>\n",
       "<table border=\"1\" class=\"dataframe\">\n",
       "  <thead>\n",
       "    <tr style=\"text-align: right;\">\n",
       "      <th></th>\n",
       "      <th>RowNumber</th>\n",
       "      <th>CustomerId</th>\n",
       "      <th>Surname</th>\n",
       "      <th>CreditScore</th>\n",
       "      <th>Geography</th>\n",
       "      <th>Gender</th>\n",
       "      <th>Age</th>\n",
       "      <th>Tenure</th>\n",
       "      <th>Balance</th>\n",
       "      <th>NumOfProducts</th>\n",
       "      <th>HasCrCard</th>\n",
       "      <th>IsActiveMember</th>\n",
       "      <th>EstimatedSalary</th>\n",
       "      <th>Exited</th>\n",
       "    </tr>\n",
       "  </thead>\n",
       "  <tbody>\n",
       "    <tr>\n",
       "      <td>0</td>\n",
       "      <td>1</td>\n",
       "      <td>15634602</td>\n",
       "      <td>Hargrave</td>\n",
       "      <td>619</td>\n",
       "      <td>France</td>\n",
       "      <td>Female</td>\n",
       "      <td>42</td>\n",
       "      <td>2</td>\n",
       "      <td>0.00</td>\n",
       "      <td>1</td>\n",
       "      <td>1</td>\n",
       "      <td>1</td>\n",
       "      <td>101348.88</td>\n",
       "      <td>1</td>\n",
       "    </tr>\n",
       "    <tr>\n",
       "      <td>1</td>\n",
       "      <td>2</td>\n",
       "      <td>15647311</td>\n",
       "      <td>Hill</td>\n",
       "      <td>608</td>\n",
       "      <td>Spain</td>\n",
       "      <td>Female</td>\n",
       "      <td>41</td>\n",
       "      <td>1</td>\n",
       "      <td>83807.86</td>\n",
       "      <td>1</td>\n",
       "      <td>0</td>\n",
       "      <td>1</td>\n",
       "      <td>112542.58</td>\n",
       "      <td>0</td>\n",
       "    </tr>\n",
       "    <tr>\n",
       "      <td>2</td>\n",
       "      <td>3</td>\n",
       "      <td>15619304</td>\n",
       "      <td>Onio</td>\n",
       "      <td>502</td>\n",
       "      <td>France</td>\n",
       "      <td>Female</td>\n",
       "      <td>42</td>\n",
       "      <td>8</td>\n",
       "      <td>159660.80</td>\n",
       "      <td>3</td>\n",
       "      <td>1</td>\n",
       "      <td>0</td>\n",
       "      <td>113931.57</td>\n",
       "      <td>1</td>\n",
       "    </tr>\n",
       "    <tr>\n",
       "      <td>3</td>\n",
       "      <td>4</td>\n",
       "      <td>15701354</td>\n",
       "      <td>Boni</td>\n",
       "      <td>699</td>\n",
       "      <td>France</td>\n",
       "      <td>Female</td>\n",
       "      <td>39</td>\n",
       "      <td>1</td>\n",
       "      <td>0.00</td>\n",
       "      <td>2</td>\n",
       "      <td>0</td>\n",
       "      <td>0</td>\n",
       "      <td>93826.63</td>\n",
       "      <td>0</td>\n",
       "    </tr>\n",
       "    <tr>\n",
       "      <td>4</td>\n",
       "      <td>5</td>\n",
       "      <td>15737888</td>\n",
       "      <td>Mitchell</td>\n",
       "      <td>850</td>\n",
       "      <td>Spain</td>\n",
       "      <td>Female</td>\n",
       "      <td>43</td>\n",
       "      <td>2</td>\n",
       "      <td>125510.82</td>\n",
       "      <td>1</td>\n",
       "      <td>1</td>\n",
       "      <td>1</td>\n",
       "      <td>79084.10</td>\n",
       "      <td>0</td>\n",
       "    </tr>\n",
       "  </tbody>\n",
       "</table>\n",
       "</div>"
      ],
      "text/plain": [
       "   RowNumber  CustomerId   Surname  CreditScore Geography  Gender  Age  \\\n",
       "0          1    15634602  Hargrave          619    France  Female   42   \n",
       "1          2    15647311      Hill          608     Spain  Female   41   \n",
       "2          3    15619304      Onio          502    France  Female   42   \n",
       "3          4    15701354      Boni          699    France  Female   39   \n",
       "4          5    15737888  Mitchell          850     Spain  Female   43   \n",
       "\n",
       "   Tenure    Balance  NumOfProducts  HasCrCard  IsActiveMember  \\\n",
       "0       2       0.00              1          1               1   \n",
       "1       1   83807.86              1          0               1   \n",
       "2       8  159660.80              3          1               0   \n",
       "3       1       0.00              2          0               0   \n",
       "4       2  125510.82              1          1               1   \n",
       "\n",
       "   EstimatedSalary  Exited  \n",
       "0        101348.88       1  \n",
       "1        112542.58       0  \n",
       "2        113931.57       1  \n",
       "3         93826.63       0  \n",
       "4         79084.10       0  "
      ]
     },
     "execution_count": 2,
     "metadata": {},
     "output_type": "execute_result"
    }
   ],
   "source": [
    "Churn_data.head()"
   ]
  },
  {
   "cell_type": "code",
   "execution_count": 3,
   "metadata": {},
   "outputs": [],
   "source": [
    "Churn_data['France']= np.where(Churn_data.Geography == 'France',1,0)\n",
    "Churn_data['Spain']= np.where(Churn_data.Geography == 'Spain',1,0)\n",
    "Churn_data['Germany']= np.where(Churn_data.Geography == 'Germany',1,0)\n",
    "\n",
    "Churn_data['Female']= np.where(Churn_data.Gender == 'Female',1,0)\n",
    "Churn_data['Male']= np.where(Churn_data.Gender == 'Male',1,0)"
   ]
  },
  {
   "cell_type": "code",
   "execution_count": 4,
   "metadata": {},
   "outputs": [],
   "source": [
    "Y = Churn_data['Exited']\n",
    "X = Churn_data.drop(['Exited'], axis=1)"
   ]
  },
  {
   "cell_type": "code",
   "execution_count": 5,
   "metadata": {},
   "outputs": [],
   "source": [
    "from sklearn.model_selection import train_test_split\n",
    "X_train, X_test, y_train, y_test = train_test_split(X, Y, test_size = 0.3, random_state=67)"
   ]
  },
  {
   "cell_type": "code",
   "execution_count": 6,
   "metadata": {},
   "outputs": [
    {
     "data": {
      "text/plain": [
       "((7000, 18), (3000, 18))"
      ]
     },
     "execution_count": 6,
     "metadata": {},
     "output_type": "execute_result"
    }
   ],
   "source": [
    "X_train.shape, X_test.shape"
   ]
  },
  {
   "cell_type": "code",
   "execution_count": 7,
   "metadata": {},
   "outputs": [
    {
     "data": {
      "text/html": [
       "<div>\n",
       "<style scoped>\n",
       "    .dataframe tbody tr th:only-of-type {\n",
       "        vertical-align: middle;\n",
       "    }\n",
       "\n",
       "    .dataframe tbody tr th {\n",
       "        vertical-align: top;\n",
       "    }\n",
       "\n",
       "    .dataframe thead th {\n",
       "        text-align: right;\n",
       "    }\n",
       "</style>\n",
       "<table border=\"1\" class=\"dataframe\">\n",
       "  <thead>\n",
       "    <tr style=\"text-align: right;\">\n",
       "      <th></th>\n",
       "      <th>RowNumber</th>\n",
       "      <th>CustomerId</th>\n",
       "      <th>Surname</th>\n",
       "      <th>CreditScore</th>\n",
       "      <th>Geography</th>\n",
       "      <th>Gender</th>\n",
       "      <th>Age</th>\n",
       "      <th>Tenure</th>\n",
       "      <th>Balance</th>\n",
       "      <th>NumOfProducts</th>\n",
       "      <th>HasCrCard</th>\n",
       "      <th>IsActiveMember</th>\n",
       "      <th>EstimatedSalary</th>\n",
       "      <th>France</th>\n",
       "      <th>Spain</th>\n",
       "      <th>Germany</th>\n",
       "      <th>Female</th>\n",
       "      <th>Male</th>\n",
       "    </tr>\n",
       "  </thead>\n",
       "  <tbody>\n",
       "    <tr>\n",
       "      <td>1631</td>\n",
       "      <td>1632</td>\n",
       "      <td>15685372</td>\n",
       "      <td>Azubuike</td>\n",
       "      <td>350</td>\n",
       "      <td>Spain</td>\n",
       "      <td>Male</td>\n",
       "      <td>54</td>\n",
       "      <td>1</td>\n",
       "      <td>152677.48</td>\n",
       "      <td>1</td>\n",
       "      <td>1</td>\n",
       "      <td>1</td>\n",
       "      <td>191973.49</td>\n",
       "      <td>0</td>\n",
       "      <td>1</td>\n",
       "      <td>0</td>\n",
       "      <td>0</td>\n",
       "      <td>1</td>\n",
       "    </tr>\n",
       "    <tr>\n",
       "      <td>7501</td>\n",
       "      <td>7502</td>\n",
       "      <td>15605341</td>\n",
       "      <td>Baird</td>\n",
       "      <td>681</td>\n",
       "      <td>France</td>\n",
       "      <td>Female</td>\n",
       "      <td>58</td>\n",
       "      <td>8</td>\n",
       "      <td>93173.88</td>\n",
       "      <td>1</td>\n",
       "      <td>1</td>\n",
       "      <td>1</td>\n",
       "      <td>139761.25</td>\n",
       "      <td>1</td>\n",
       "      <td>0</td>\n",
       "      <td>0</td>\n",
       "      <td>1</td>\n",
       "      <td>0</td>\n",
       "    </tr>\n",
       "    <tr>\n",
       "      <td>203</td>\n",
       "      <td>204</td>\n",
       "      <td>15727868</td>\n",
       "      <td>Onuora</td>\n",
       "      <td>711</td>\n",
       "      <td>France</td>\n",
       "      <td>Female</td>\n",
       "      <td>38</td>\n",
       "      <td>2</td>\n",
       "      <td>129022.06</td>\n",
       "      <td>2</td>\n",
       "      <td>1</td>\n",
       "      <td>1</td>\n",
       "      <td>14374.86</td>\n",
       "      <td>1</td>\n",
       "      <td>0</td>\n",
       "      <td>0</td>\n",
       "      <td>1</td>\n",
       "      <td>0</td>\n",
       "    </tr>\n",
       "    <tr>\n",
       "      <td>8260</td>\n",
       "      <td>8261</td>\n",
       "      <td>15627830</td>\n",
       "      <td>Nikitina</td>\n",
       "      <td>640</td>\n",
       "      <td>Germany</td>\n",
       "      <td>Female</td>\n",
       "      <td>30</td>\n",
       "      <td>5</td>\n",
       "      <td>32197.64</td>\n",
       "      <td>1</td>\n",
       "      <td>0</td>\n",
       "      <td>1</td>\n",
       "      <td>141446.01</td>\n",
       "      <td>0</td>\n",
       "      <td>0</td>\n",
       "      <td>1</td>\n",
       "      <td>1</td>\n",
       "      <td>0</td>\n",
       "    </tr>\n",
       "    <tr>\n",
       "      <td>4499</td>\n",
       "      <td>4500</td>\n",
       "      <td>15773322</td>\n",
       "      <td>Obiajulu</td>\n",
       "      <td>536</td>\n",
       "      <td>Germany</td>\n",
       "      <td>Female</td>\n",
       "      <td>44</td>\n",
       "      <td>4</td>\n",
       "      <td>121898.82</td>\n",
       "      <td>1</td>\n",
       "      <td>0</td>\n",
       "      <td>0</td>\n",
       "      <td>131007.18</td>\n",
       "      <td>0</td>\n",
       "      <td>0</td>\n",
       "      <td>1</td>\n",
       "      <td>1</td>\n",
       "      <td>0</td>\n",
       "    </tr>\n",
       "  </tbody>\n",
       "</table>\n",
       "</div>"
      ],
      "text/plain": [
       "      RowNumber  CustomerId   Surname  CreditScore Geography  Gender  Age  \\\n",
       "1631       1632    15685372  Azubuike          350     Spain    Male   54   \n",
       "7501       7502    15605341     Baird          681    France  Female   58   \n",
       "203         204    15727868    Onuora          711    France  Female   38   \n",
       "8260       8261    15627830  Nikitina          640   Germany  Female   30   \n",
       "4499       4500    15773322  Obiajulu          536   Germany  Female   44   \n",
       "\n",
       "      Tenure    Balance  NumOfProducts  HasCrCard  IsActiveMember  \\\n",
       "1631       1  152677.48              1          1               1   \n",
       "7501       8   93173.88              1          1               1   \n",
       "203        2  129022.06              2          1               1   \n",
       "8260       5   32197.64              1          0               1   \n",
       "4499       4  121898.82              1          0               0   \n",
       "\n",
       "      EstimatedSalary  France  Spain  Germany  Female  Male  \n",
       "1631        191973.49       0      1        0       0     1  \n",
       "7501        139761.25       1      0        0       1     0  \n",
       "203          14374.86       1      0        0       1     0  \n",
       "8260        141446.01       0      0        1       1     0  \n",
       "4499        131007.18       0      0        1       1     0  "
      ]
     },
     "execution_count": 7,
     "metadata": {},
     "output_type": "execute_result"
    }
   ],
   "source": [
    "X_train.head()"
   ]
  },
  {
   "cell_type": "code",
   "execution_count": 8,
   "metadata": {},
   "outputs": [],
   "source": [
    "X_train1 = X_train.drop(['RowNumber', 'CustomerId', 'Surname','Geography', 'Gender'], axis=1)\n",
    "X_test1 = X_test.drop(['RowNumber', 'CustomerId', 'Surname','Geography', 'Gender'], axis=1)"
   ]
  },
  {
   "cell_type": "code",
   "execution_count": 9,
   "metadata": {},
   "outputs": [
    {
     "data": {
      "text/html": [
       "<div>\n",
       "<style scoped>\n",
       "    .dataframe tbody tr th:only-of-type {\n",
       "        vertical-align: middle;\n",
       "    }\n",
       "\n",
       "    .dataframe tbody tr th {\n",
       "        vertical-align: top;\n",
       "    }\n",
       "\n",
       "    .dataframe thead th {\n",
       "        text-align: right;\n",
       "    }\n",
       "</style>\n",
       "<table border=\"1\" class=\"dataframe\">\n",
       "  <thead>\n",
       "    <tr style=\"text-align: right;\">\n",
       "      <th></th>\n",
       "      <th>CreditScore</th>\n",
       "      <th>Age</th>\n",
       "      <th>Tenure</th>\n",
       "      <th>Balance</th>\n",
       "      <th>NumOfProducts</th>\n",
       "      <th>HasCrCard</th>\n",
       "      <th>IsActiveMember</th>\n",
       "      <th>EstimatedSalary</th>\n",
       "      <th>France</th>\n",
       "      <th>Spain</th>\n",
       "      <th>Germany</th>\n",
       "      <th>Female</th>\n",
       "      <th>Male</th>\n",
       "    </tr>\n",
       "  </thead>\n",
       "  <tbody>\n",
       "    <tr>\n",
       "      <td>1631</td>\n",
       "      <td>350</td>\n",
       "      <td>54</td>\n",
       "      <td>1</td>\n",
       "      <td>152677.48</td>\n",
       "      <td>1</td>\n",
       "      <td>1</td>\n",
       "      <td>1</td>\n",
       "      <td>191973.49</td>\n",
       "      <td>0</td>\n",
       "      <td>1</td>\n",
       "      <td>0</td>\n",
       "      <td>0</td>\n",
       "      <td>1</td>\n",
       "    </tr>\n",
       "    <tr>\n",
       "      <td>7501</td>\n",
       "      <td>681</td>\n",
       "      <td>58</td>\n",
       "      <td>8</td>\n",
       "      <td>93173.88</td>\n",
       "      <td>1</td>\n",
       "      <td>1</td>\n",
       "      <td>1</td>\n",
       "      <td>139761.25</td>\n",
       "      <td>1</td>\n",
       "      <td>0</td>\n",
       "      <td>0</td>\n",
       "      <td>1</td>\n",
       "      <td>0</td>\n",
       "    </tr>\n",
       "    <tr>\n",
       "      <td>203</td>\n",
       "      <td>711</td>\n",
       "      <td>38</td>\n",
       "      <td>2</td>\n",
       "      <td>129022.06</td>\n",
       "      <td>2</td>\n",
       "      <td>1</td>\n",
       "      <td>1</td>\n",
       "      <td>14374.86</td>\n",
       "      <td>1</td>\n",
       "      <td>0</td>\n",
       "      <td>0</td>\n",
       "      <td>1</td>\n",
       "      <td>0</td>\n",
       "    </tr>\n",
       "    <tr>\n",
       "      <td>8260</td>\n",
       "      <td>640</td>\n",
       "      <td>30</td>\n",
       "      <td>5</td>\n",
       "      <td>32197.64</td>\n",
       "      <td>1</td>\n",
       "      <td>0</td>\n",
       "      <td>1</td>\n",
       "      <td>141446.01</td>\n",
       "      <td>0</td>\n",
       "      <td>0</td>\n",
       "      <td>1</td>\n",
       "      <td>1</td>\n",
       "      <td>0</td>\n",
       "    </tr>\n",
       "    <tr>\n",
       "      <td>4499</td>\n",
       "      <td>536</td>\n",
       "      <td>44</td>\n",
       "      <td>4</td>\n",
       "      <td>121898.82</td>\n",
       "      <td>1</td>\n",
       "      <td>0</td>\n",
       "      <td>0</td>\n",
       "      <td>131007.18</td>\n",
       "      <td>0</td>\n",
       "      <td>0</td>\n",
       "      <td>1</td>\n",
       "      <td>1</td>\n",
       "      <td>0</td>\n",
       "    </tr>\n",
       "  </tbody>\n",
       "</table>\n",
       "</div>"
      ],
      "text/plain": [
       "      CreditScore  Age  Tenure    Balance  NumOfProducts  HasCrCard  \\\n",
       "1631          350   54       1  152677.48              1          1   \n",
       "7501          681   58       8   93173.88              1          1   \n",
       "203           711   38       2  129022.06              2          1   \n",
       "8260          640   30       5   32197.64              1          0   \n",
       "4499          536   44       4  121898.82              1          0   \n",
       "\n",
       "      IsActiveMember  EstimatedSalary  France  Spain  Germany  Female  Male  \n",
       "1631               1        191973.49       0      1        0       0     1  \n",
       "7501               1        139761.25       1      0        0       1     0  \n",
       "203                1         14374.86       1      0        0       1     0  \n",
       "8260               1        141446.01       0      0        1       1     0  \n",
       "4499               0        131007.18       0      0        1       1     0  "
      ]
     },
     "execution_count": 9,
     "metadata": {},
     "output_type": "execute_result"
    }
   ],
   "source": [
    "X_train1.head()"
   ]
  },
  {
   "cell_type": "code",
   "execution_count": 10,
   "metadata": {},
   "outputs": [
    {
     "data": {
      "text/plain": [
       "Index(['CreditScore', 'Age', 'Tenure', 'Balance', 'NumOfProducts', 'HasCrCard',\n",
       "       'IsActiveMember', 'EstimatedSalary', 'France', 'Spain', 'Germany',\n",
       "       'Female', 'Male'],\n",
       "      dtype='object')"
      ]
     },
     "execution_count": 10,
     "metadata": {},
     "output_type": "execute_result"
    }
   ],
   "source": [
    "X_train1.columns"
   ]
  },
  {
   "cell_type": "code",
   "execution_count": 11,
   "metadata": {},
   "outputs": [],
   "source": [
    "from sklearn.preprocessing import StandardScaler\n",
    "sc = StandardScaler()\n",
    "X_train2 = sc.fit_transform(X_train1)\n",
    "X_test2 = sc.transform(X_test1)"
   ]
  },
  {
   "cell_type": "code",
   "execution_count": 12,
   "metadata": {},
   "outputs": [
    {
     "name": "stderr",
     "output_type": "stream",
     "text": [
      "Using TensorFlow backend.\n"
     ]
    }
   ],
   "source": [
    "# Importing the Keras libraries and packages\n",
    "#Importing required Modules. \n",
    "#We need Sequential module for initializing NN and dense module to add Hidden Layers.\n",
    "\n",
    "import keras\n",
    "from keras.models import Sequential\n",
    "from keras.layers import Dense\n"
   ]
  },
  {
   "cell_type": "code",
   "execution_count": 13,
   "metadata": {},
   "outputs": [],
   "source": [
    "#Initializing Neural Network\n",
    "classifier = Sequential()"
   ]
  },
  {
   "cell_type": "markdown",
   "metadata": {},
   "source": [
    "#### output_dim(units) - number of nodes you want to add to perticular layer\n",
    "#### init(kernel_initializer) - is the initialization of Stochastic Gradient Decent. At the time of initialization, weights should be close to 0 and we will randomly initialize weights using uniform function\n",
    "#### input_dim  - parameter is needed only for first layer as model doesn’t know the number of our input variables\n",
    "#### Activation Function - Here we are using rectifier(relu) function in our hidden layer and Sigmoid function in our output layer as we want binary result from output layer but if the number of categories in output layer is more than 2 then use SoftMax function"
   ]
  },
  {
   "cell_type": "code",
   "execution_count": 14,
   "metadata": {},
   "outputs": [
    {
     "name": "stderr",
     "output_type": "stream",
     "text": [
      "C:\\Users\\cmh4kor\\AppData\\Local\\Continuum\\anaconda3\\lib\\site-packages\\ipykernel_launcher.py:3: UserWarning: Update your `Dense` call to the Keras 2 API: `Dense(activation=\"relu\", input_dim=13, units=10, kernel_initializer=\"uniform\")`\n",
      "  This is separate from the ipykernel package so we can avoid doing imports until\n",
      "C:\\Users\\cmh4kor\\AppData\\Local\\Continuum\\anaconda3\\lib\\site-packages\\ipykernel_launcher.py:6: UserWarning: Update your `Dense` call to the Keras 2 API: `Dense(activation=\"relu\", units=16, kernel_initializer=\"uniform\")`\n",
      "  \n",
      "C:\\Users\\cmh4kor\\AppData\\Local\\Continuum\\anaconda3\\lib\\site-packages\\ipykernel_launcher.py:9: UserWarning: Update your `Dense` call to the Keras 2 API: `Dense(activation=\"relu\", units=8, kernel_initializer=\"uniform\")`\n",
      "  if __name__ == '__main__':\n",
      "C:\\Users\\cmh4kor\\AppData\\Local\\Continuum\\anaconda3\\lib\\site-packages\\ipykernel_launcher.py:12: UserWarning: Update your `Dense` call to the Keras 2 API: `Dense(activation=\"sigmoid\", units=1, kernel_initializer=\"uniform\")`\n",
      "  if sys.path[0] == '':\n"
     ]
    }
   ],
   "source": [
    "from ipykernel import kernelapp as app\n",
    "# Adding the input layer and the first hidden layer\n",
    "classifier.add(Dense(output_dim = 10, init = 'uniform', activation = 'relu', input_dim = 13))\n",
    "\n",
    "# Adding the second hidden layer\n",
    "classifier.add(Dense(output_dim = 16, init = 'uniform', activation = 'relu'))\n",
    "\n",
    "# Adding the second hidden layer\n",
    "classifier.add(Dense(output_dim = 8, init = 'uniform', activation = 'relu'))\n",
    "\n",
    "# Adding the output layer\n",
    "classifier.add(Dense(output_dim = 1, init = 'uniform', activation = 'sigmoid'))\n"
   ]
  },
  {
   "cell_type": "code",
   "execution_count": 14,
   "metadata": {},
   "outputs": [],
   "source": [
    "#adam = keras.optimizers.Adam(lr=0.001, beta_1=0.9, beta_2=0.999, epsilon=None, decay=0.0, amsgrad=False)"
   ]
  },
  {
   "cell_type": "markdown",
   "metadata": {},
   "source": [
    "#### Till now we have added multiple layers to our classifier now let’s compile them which can be done using compile method\n",
    "#### Optimizer - is the algorithm used to find optimal set of weights. Among several types of SGD(Stochastic Gradient descent) algorithm the one which we will use is ‘Adam’. (Other optimisers -  https://keras.io/optimizers/)\n",
    "#### Loss - Since our dependent variable is binary, we will have to use logarithmic loss function called ‘binary_crossentropy’, if our dependent variable has more than 2 categories in output then use ‘categorical_crossentropy’, (Other loss functions - https://keras.io/losses/)\n",
    "#### Metrics - on which matrics you want to improve performance of our neural network. (Other metrics - https://keras.io/metrics/)"
   ]
  },
  {
   "cell_type": "code",
   "execution_count": 15,
   "metadata": {},
   "outputs": [],
   "source": [
    "# Compiling Neural Network\n",
    "classifier.compile(optimizer = 'adam', loss = 'binary_crossentropy', metrics = ['accuracy'])\n",
    "#classifier.compile(optimizer = adam, loss = 'mean_squared_error', metrics = ['accuracy'])"
   ]
  },
  {
   "cell_type": "markdown",
   "metadata": {},
   "source": [
    "#### Batch size  - is used to specify the number of observation after which you want to update weight\n",
    "#### Epoch  - is total number of iterations\n",
    "##### Choosing the value of batch size and epoch is trial and error there is no specific rule for that"
   ]
  },
  {
   "cell_type": "code",
   "execution_count": 16,
   "metadata": {},
   "outputs": [
    {
     "name": "stdout",
     "output_type": "stream",
     "text": [
      "Epoch 1/50\n",
      "7000/7000 [==============================] - 0s 40us/step - loss: 0.6563 - accuracy: 0.7989\n",
      "Epoch 2/50\n",
      "7000/7000 [==============================] - 0s 14us/step - loss: 0.4680 - accuracy: 0.7989\n",
      "Epoch 3/50\n",
      "7000/7000 [==============================] - 0s 15us/step - loss: 0.4398 - accuracy: 0.7989\n",
      "Epoch 4/50\n",
      "7000/7000 [==============================] - 0s 15us/step - loss: 0.4332 - accuracy: 0.7989\n",
      "Epoch 5/50\n",
      "7000/7000 [==============================] - 0s 31us/step - loss: 0.4296 - accuracy: 0.7989\n",
      "Epoch 6/50\n",
      "7000/7000 [==============================] - 0s 33us/step - loss: 0.4268 - accuracy: 0.7989\n",
      "Epoch 7/50\n",
      "7000/7000 [==============================] - 0s 30us/step - loss: 0.4240 - accuracy: 0.7989\n",
      "Epoch 8/50\n",
      "7000/7000 [==============================] - 0s 36us/step - loss: 0.4215 - accuracy: 0.7989\n",
      "Epoch 9/50\n",
      "7000/7000 [==============================] - 0s 34us/step - loss: 0.4195 - accuracy: 0.7989\n",
      "Epoch 10/50\n",
      "7000/7000 [==============================] - 0s 22us/step - loss: 0.4176 - accuracy: 0.7989\n",
      "Epoch 11/50\n",
      "7000/7000 [==============================] - 0s 19us/step - loss: 0.4165 - accuracy: 0.7989\n",
      "Epoch 12/50\n",
      "7000/7000 [==============================] - 0s 36us/step - loss: 0.4153 - accuracy: 0.8210\n",
      "Epoch 13/50\n",
      "7000/7000 [==============================] - 0s 18us/step - loss: 0.4141 - accuracy: 0.8274\n",
      "Epoch 14/50\n",
      "7000/7000 [==============================] - 0s 24us/step - loss: 0.4134 - accuracy: 0.8303\n",
      "Epoch 15/50\n",
      "7000/7000 [==============================] - 0s 26us/step - loss: 0.4125 - accuracy: 0.8314\n",
      "Epoch 16/50\n",
      "7000/7000 [==============================] - 0s 17us/step - loss: 0.4119 - accuracy: 0.8336\n",
      "Epoch 17/50\n",
      "7000/7000 [==============================] - 0s 20us/step - loss: 0.4110 - accuracy: 0.8339\n",
      "Epoch 18/50\n",
      "7000/7000 [==============================] - 0s 43us/step - loss: 0.4104 - accuracy: 0.8341\n",
      "Epoch 19/50\n",
      "7000/7000 [==============================] - 0s 16us/step - loss: 0.4093 - accuracy: 0.8339\n",
      "Epoch 20/50\n",
      "7000/7000 [==============================] - 0s 36us/step - loss: 0.4088 - accuracy: 0.8347\n",
      "Epoch 21/50\n",
      "7000/7000 [==============================] - 0s 35us/step - loss: 0.4084 - accuracy: 0.8351\n",
      "Epoch 22/50\n",
      "7000/7000 [==============================] - 0s 36us/step - loss: 0.4076 - accuracy: 0.8367 0s - loss: 0.4089 - accuracy: 0.\n",
      "Epoch 23/50\n",
      "7000/7000 [==============================] - 0s 20us/step - loss: 0.4068 - accuracy: 0.8360\n",
      "Epoch 24/50\n",
      "7000/7000 [==============================] - 0s 14us/step - loss: 0.4061 - accuracy: 0.8351\n",
      "Epoch 25/50\n",
      "7000/7000 [==============================] - 0s 14us/step - loss: 0.4058 - accuracy: 0.8360\n",
      "Epoch 26/50\n",
      "7000/7000 [==============================] - 0s 13us/step - loss: 0.4051 - accuracy: 0.8356\n",
      "Epoch 27/50\n",
      "7000/7000 [==============================] - 0s 13us/step - loss: 0.4050 - accuracy: 0.8367\n",
      "Epoch 28/50\n",
      "7000/7000 [==============================] - 0s 13us/step - loss: 0.4043 - accuracy: 0.8357\n",
      "Epoch 29/50\n",
      "7000/7000 [==============================] - 0s 13us/step - loss: 0.4034 - accuracy: 0.8369\n",
      "Epoch 30/50\n",
      "7000/7000 [==============================] - 0s 21us/step - loss: 0.4034 - accuracy: 0.8361\n",
      "Epoch 31/50\n",
      "7000/7000 [==============================] - 0s 46us/step - loss: 0.4029 - accuracy: 0.8374\n",
      "Epoch 32/50\n",
      "7000/7000 [==============================] - 0s 36us/step - loss: 0.4020 - accuracy: 0.8363\n",
      "Epoch 33/50\n",
      "7000/7000 [==============================] - 0s 39us/step - loss: 0.4014 - accuracy: 0.8364\n",
      "Epoch 34/50\n",
      "7000/7000 [==============================] - 0s 27us/step - loss: 0.4013 - accuracy: 0.8374\n",
      "Epoch 35/50\n",
      "7000/7000 [==============================] - 0s 28us/step - loss: 0.4007 - accuracy: 0.8376\n",
      "Epoch 36/50\n",
      "7000/7000 [==============================] - 0s 47us/step - loss: 0.4007 - accuracy: 0.8379\n",
      "Epoch 37/50\n",
      "7000/7000 [==============================] - 0s 38us/step - loss: 0.3997 - accuracy: 0.8367\n",
      "Epoch 38/50\n",
      "7000/7000 [==============================] - 0s 38us/step - loss: 0.3995 - accuracy: 0.8361\n",
      "Epoch 39/50\n",
      "7000/7000 [==============================] - 0s 41us/step - loss: 0.3989 - accuracy: 0.8367\n",
      "Epoch 40/50\n",
      "7000/7000 [==============================] - 0s 32us/step - loss: 0.3981 - accuracy: 0.8370\n",
      "Epoch 41/50\n",
      "7000/7000 [==============================] - 0s 14us/step - loss: 0.3978 - accuracy: 0.8373\n",
      "Epoch 42/50\n",
      "7000/7000 [==============================] - 0s 13us/step - loss: 0.3971 - accuracy: 0.8371\n",
      "Epoch 43/50\n",
      "7000/7000 [==============================] - 0s 13us/step - loss: 0.3974 - accuracy: 0.8383\n",
      "Epoch 44/50\n",
      "7000/7000 [==============================] - 0s 13us/step - loss: 0.3967 - accuracy: 0.8367\n",
      "Epoch 45/50\n",
      "7000/7000 [==============================] - 0s 13us/step - loss: 0.3958 - accuracy: 0.8373\n",
      "Epoch 46/50\n",
      "7000/7000 [==============================] - 0s 14us/step - loss: 0.3956 - accuracy: 0.8381\n",
      "Epoch 47/50\n",
      "7000/7000 [==============================] - 0s 14us/step - loss: 0.3952 - accuracy: 0.8386\n",
      "Epoch 48/50\n",
      "7000/7000 [==============================] - 0s 36us/step - loss: 0.3948 - accuracy: 0.8390\n",
      "Epoch 49/50\n",
      "7000/7000 [==============================] - 0s 37us/step - loss: 0.3941 - accuracy: 0.8384\n",
      "Epoch 50/50\n",
      "7000/7000 [==============================] - 0s 40us/step - loss: 0.3929 - accuracy: 0.8390\n"
     ]
    },
    {
     "data": {
      "text/plain": [
       "<keras.callbacks.callbacks.History at 0x21fc2314908>"
      ]
     },
     "execution_count": 16,
     "metadata": {},
     "output_type": "execute_result"
    }
   ],
   "source": [
    "# Fitting our model \n",
    "classifier.fit(X_train2, y_train, batch_size = 80, epochs = 50)"
   ]
  },
  {
   "cell_type": "code",
   "execution_count": 23,
   "metadata": {},
   "outputs": [],
   "source": [
    "# Predicting the Test set results\n",
    "y_predtest = classifier.predict_proba(X_test2)\n",
    "y_predtest1 = (y_predtest > 0.5)"
   ]
  },
  {
   "cell_type": "code",
   "execution_count": 24,
   "metadata": {},
   "outputs": [
    {
     "data": {
      "text/plain": [
       "array([[2268,  103],\n",
       "       [ 336,  293]], dtype=int64)"
      ]
     },
     "execution_count": 24,
     "metadata": {},
     "output_type": "execute_result"
    }
   ],
   "source": [
    "# Creating the Confusion Matrix\n",
    "from sklearn.metrics import confusion_matrix\n",
    "cm = confusion_matrix(y_test, y_predtest1)\n",
    "cm"
   ]
  },
  {
   "cell_type": "code",
   "execution_count": 25,
   "metadata": {},
   "outputs": [
    {
     "name": "stdout",
     "output_type": "stream",
     "text": [
      "0.8523598275130267\n"
     ]
    }
   ],
   "source": [
    "from sklearn import metrics\n",
    "from sklearn.metrics import roc_curve\n",
    "from sklearn.metrics import roc_auc_score\n",
    "fpr, tpr, _ = roc_curve(y_test, y_predtest[:])\n",
    "roc_auc = metrics.auc(fpr, tpr)\n",
    "print(roc_auc)"
   ]
  },
  {
   "cell_type": "code",
   "execution_count": 20,
   "metadata": {},
   "outputs": [],
   "source": [
    "y_predtrain = classifier.predict(X_train2)\n",
    "y_predtrain1 = (y_predtrain > 0.5)"
   ]
  },
  {
   "cell_type": "code",
   "execution_count": 21,
   "metadata": {},
   "outputs": [
    {
     "data": {
      "text/plain": [
       "array([[5407,  185],\n",
       "       [ 976,  432]], dtype=int64)"
      ]
     },
     "execution_count": 21,
     "metadata": {},
     "output_type": "execute_result"
    }
   ],
   "source": [
    "cm = confusion_matrix(y_train, y_predtrain1)\n",
    "cm"
   ]
  },
  {
   "cell_type": "code",
   "execution_count": 22,
   "metadata": {},
   "outputs": [
    {
     "name": "stdout",
     "output_type": "stream",
     "text": [
      "0.7899640009266484\n"
     ]
    }
   ],
   "source": [
    "fpr, tpr, _ = roc_curve(y_train, y_predtrain[:])\n",
    "roc_auc = metrics.auc(fpr, tpr)\n",
    "print(roc_auc)"
   ]
  },
  {
   "cell_type": "code",
   "execution_count": null,
   "metadata": {},
   "outputs": [],
   "source": []
  }
 ],
 "metadata": {
  "kernelspec": {
   "display_name": "Python 3",
   "language": "python",
   "name": "python3"
  },
  "language_info": {
   "codemirror_mode": {
    "name": "ipython",
    "version": 3
   },
   "file_extension": ".py",
   "mimetype": "text/x-python",
   "name": "python",
   "nbconvert_exporter": "python",
   "pygments_lexer": "ipython3",
   "version": "3.7.4"
  }
 },
 "nbformat": 4,
 "nbformat_minor": 2
}
